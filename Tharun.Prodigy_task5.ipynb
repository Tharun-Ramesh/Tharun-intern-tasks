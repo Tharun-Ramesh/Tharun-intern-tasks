{
 "cells": [
  {
   "cell_type": "code",
   "execution_count": 1,
   "id": "750ddaf3",
   "metadata": {},
   "outputs": [],
   "source": [
    "import pandas as pd\n",
    "import matplotlib.pyplot as plt\n",
    "import seaborn as sns\n",
    "import plotly.express as px"
   ]
  },
  {
   "cell_type": "code",
   "execution_count": 2,
   "id": "f5e9daa3",
   "metadata": {},
   "outputs": [],
   "source": [
    "df = pd.read_csv(r\"D:\\US_Accidents_March23.csv\")"
   ]
  },
  {
   "cell_type": "code",
   "execution_count": 3,
   "id": "a1492ce8",
   "metadata": {},
   "outputs": [
    {
     "data": {
      "text/html": [
       "<div>\n",
       "<style scoped>\n",
       "    .dataframe tbody tr th:only-of-type {\n",
       "        vertical-align: middle;\n",
       "    }\n",
       "\n",
       "    .dataframe tbody tr th {\n",
       "        vertical-align: top;\n",
       "    }\n",
       "\n",
       "    .dataframe thead th {\n",
       "        text-align: right;\n",
       "    }\n",
       "</style>\n",
       "<table border=\"1\" class=\"dataframe\">\n",
       "  <thead>\n",
       "    <tr style=\"text-align: right;\">\n",
       "      <th></th>\n",
       "      <th>ID</th>\n",
       "      <th>Source</th>\n",
       "      <th>Severity</th>\n",
       "      <th>Start_Time</th>\n",
       "      <th>End_Time</th>\n",
       "      <th>Start_Lat</th>\n",
       "      <th>Start_Lng</th>\n",
       "      <th>End_Lat</th>\n",
       "      <th>End_Lng</th>\n",
       "      <th>Distance(mi)</th>\n",
       "      <th>...</th>\n",
       "      <th>Roundabout</th>\n",
       "      <th>Station</th>\n",
       "      <th>Stop</th>\n",
       "      <th>Traffic_Calming</th>\n",
       "      <th>Traffic_Signal</th>\n",
       "      <th>Turning_Loop</th>\n",
       "      <th>Sunrise_Sunset</th>\n",
       "      <th>Civil_Twilight</th>\n",
       "      <th>Nautical_Twilight</th>\n",
       "      <th>Astronomical_Twilight</th>\n",
       "    </tr>\n",
       "  </thead>\n",
       "  <tbody>\n",
       "    <tr>\n",
       "      <th>0</th>\n",
       "      <td>A-1</td>\n",
       "      <td>Source2</td>\n",
       "      <td>3</td>\n",
       "      <td>2016-02-08 05:46:00</td>\n",
       "      <td>2016-02-08 11:00:00</td>\n",
       "      <td>39.865147</td>\n",
       "      <td>-84.058723</td>\n",
       "      <td>NaN</td>\n",
       "      <td>NaN</td>\n",
       "      <td>0.01</td>\n",
       "      <td>...</td>\n",
       "      <td>False</td>\n",
       "      <td>False</td>\n",
       "      <td>False</td>\n",
       "      <td>False</td>\n",
       "      <td>False</td>\n",
       "      <td>False</td>\n",
       "      <td>Night</td>\n",
       "      <td>Night</td>\n",
       "      <td>Night</td>\n",
       "      <td>Night</td>\n",
       "    </tr>\n",
       "    <tr>\n",
       "      <th>1</th>\n",
       "      <td>A-2</td>\n",
       "      <td>Source2</td>\n",
       "      <td>2</td>\n",
       "      <td>2016-02-08 06:07:59</td>\n",
       "      <td>2016-02-08 06:37:59</td>\n",
       "      <td>39.928059</td>\n",
       "      <td>-82.831184</td>\n",
       "      <td>NaN</td>\n",
       "      <td>NaN</td>\n",
       "      <td>0.01</td>\n",
       "      <td>...</td>\n",
       "      <td>False</td>\n",
       "      <td>False</td>\n",
       "      <td>False</td>\n",
       "      <td>False</td>\n",
       "      <td>False</td>\n",
       "      <td>False</td>\n",
       "      <td>Night</td>\n",
       "      <td>Night</td>\n",
       "      <td>Night</td>\n",
       "      <td>Day</td>\n",
       "    </tr>\n",
       "    <tr>\n",
       "      <th>2</th>\n",
       "      <td>A-3</td>\n",
       "      <td>Source2</td>\n",
       "      <td>2</td>\n",
       "      <td>2016-02-08 06:49:27</td>\n",
       "      <td>2016-02-08 07:19:27</td>\n",
       "      <td>39.063148</td>\n",
       "      <td>-84.032608</td>\n",
       "      <td>NaN</td>\n",
       "      <td>NaN</td>\n",
       "      <td>0.01</td>\n",
       "      <td>...</td>\n",
       "      <td>False</td>\n",
       "      <td>False</td>\n",
       "      <td>False</td>\n",
       "      <td>False</td>\n",
       "      <td>True</td>\n",
       "      <td>False</td>\n",
       "      <td>Night</td>\n",
       "      <td>Night</td>\n",
       "      <td>Day</td>\n",
       "      <td>Day</td>\n",
       "    </tr>\n",
       "    <tr>\n",
       "      <th>3</th>\n",
       "      <td>A-4</td>\n",
       "      <td>Source2</td>\n",
       "      <td>3</td>\n",
       "      <td>2016-02-08 07:23:34</td>\n",
       "      <td>2016-02-08 07:53:34</td>\n",
       "      <td>39.747753</td>\n",
       "      <td>-84.205582</td>\n",
       "      <td>NaN</td>\n",
       "      <td>NaN</td>\n",
       "      <td>0.01</td>\n",
       "      <td>...</td>\n",
       "      <td>False</td>\n",
       "      <td>False</td>\n",
       "      <td>False</td>\n",
       "      <td>False</td>\n",
       "      <td>False</td>\n",
       "      <td>False</td>\n",
       "      <td>Night</td>\n",
       "      <td>Day</td>\n",
       "      <td>Day</td>\n",
       "      <td>Day</td>\n",
       "    </tr>\n",
       "    <tr>\n",
       "      <th>4</th>\n",
       "      <td>A-5</td>\n",
       "      <td>Source2</td>\n",
       "      <td>2</td>\n",
       "      <td>2016-02-08 07:39:07</td>\n",
       "      <td>2016-02-08 08:09:07</td>\n",
       "      <td>39.627781</td>\n",
       "      <td>-84.188354</td>\n",
       "      <td>NaN</td>\n",
       "      <td>NaN</td>\n",
       "      <td>0.01</td>\n",
       "      <td>...</td>\n",
       "      <td>False</td>\n",
       "      <td>False</td>\n",
       "      <td>False</td>\n",
       "      <td>False</td>\n",
       "      <td>True</td>\n",
       "      <td>False</td>\n",
       "      <td>Day</td>\n",
       "      <td>Day</td>\n",
       "      <td>Day</td>\n",
       "      <td>Day</td>\n",
       "    </tr>\n",
       "  </tbody>\n",
       "</table>\n",
       "<p>5 rows × 46 columns</p>\n",
       "</div>"
      ],
      "text/plain": [
       "    ID   Source  Severity           Start_Time             End_Time  \\\n",
       "0  A-1  Source2         3  2016-02-08 05:46:00  2016-02-08 11:00:00   \n",
       "1  A-2  Source2         2  2016-02-08 06:07:59  2016-02-08 06:37:59   \n",
       "2  A-3  Source2         2  2016-02-08 06:49:27  2016-02-08 07:19:27   \n",
       "3  A-4  Source2         3  2016-02-08 07:23:34  2016-02-08 07:53:34   \n",
       "4  A-5  Source2         2  2016-02-08 07:39:07  2016-02-08 08:09:07   \n",
       "\n",
       "   Start_Lat  Start_Lng  End_Lat  End_Lng  Distance(mi)  ... Roundabout  \\\n",
       "0  39.865147 -84.058723      NaN      NaN          0.01  ...      False   \n",
       "1  39.928059 -82.831184      NaN      NaN          0.01  ...      False   \n",
       "2  39.063148 -84.032608      NaN      NaN          0.01  ...      False   \n",
       "3  39.747753 -84.205582      NaN      NaN          0.01  ...      False   \n",
       "4  39.627781 -84.188354      NaN      NaN          0.01  ...      False   \n",
       "\n",
       "  Station   Stop Traffic_Calming Traffic_Signal Turning_Loop Sunrise_Sunset  \\\n",
       "0   False  False           False          False        False          Night   \n",
       "1   False  False           False          False        False          Night   \n",
       "2   False  False           False           True        False          Night   \n",
       "3   False  False           False          False        False          Night   \n",
       "4   False  False           False           True        False            Day   \n",
       "\n",
       "  Civil_Twilight Nautical_Twilight Astronomical_Twilight  \n",
       "0          Night             Night                 Night  \n",
       "1          Night             Night                   Day  \n",
       "2          Night               Day                   Day  \n",
       "3            Day               Day                   Day  \n",
       "4            Day               Day                   Day  \n",
       "\n",
       "[5 rows x 46 columns]"
      ]
     },
     "execution_count": 3,
     "metadata": {},
     "output_type": "execute_result"
    }
   ],
   "source": [
    "df.head()"
   ]
  },
  {
   "cell_type": "code",
   "execution_count": 4,
   "id": "6a9fa666",
   "metadata": {},
   "outputs": [
    {
     "data": {
      "text/plain": [
       "ID                             0\n",
       "Source                         0\n",
       "Severity                       0\n",
       "Start_Time                     0\n",
       "End_Time                       0\n",
       "Start_Lat                      0\n",
       "Start_Lng                      0\n",
       "End_Lat                  3402762\n",
       "End_Lng                  3402762\n",
       "Distance(mi)                   0\n",
       "Description                    5\n",
       "Street                     10869\n",
       "City                         253\n",
       "County                         0\n",
       "State                          0\n",
       "Zipcode                     1915\n",
       "Country                        0\n",
       "Timezone                    7808\n",
       "Airport_Code               22635\n",
       "Weather_Timestamp         120228\n",
       "Temperature(F)            163853\n",
       "Wind_Chill(F)            1999019\n",
       "Humidity(%)               174144\n",
       "Pressure(in)              140679\n",
       "Visibility(mi)            177098\n",
       "Wind_Direction            175206\n",
       "Wind_Speed(mph)           571233\n",
       "Precipitation(in)        2203586\n",
       "Weather_Condition         173459\n",
       "Amenity                        0\n",
       "Bump                           0\n",
       "Crossing                       0\n",
       "Give_Way                       0\n",
       "Junction                       0\n",
       "No_Exit                        0\n",
       "Railway                        0\n",
       "Roundabout                     0\n",
       "Station                        0\n",
       "Stop                           0\n",
       "Traffic_Calming                0\n",
       "Traffic_Signal                 0\n",
       "Turning_Loop                   0\n",
       "Sunrise_Sunset             23246\n",
       "Civil_Twilight             23246\n",
       "Nautical_Twilight          23246\n",
       "Astronomical_Twilight      23246\n",
       "dtype: int64"
      ]
     },
     "execution_count": 4,
     "metadata": {},
     "output_type": "execute_result"
    }
   ],
   "source": [
    "df.isnull().sum()"
   ]
  },
  {
   "cell_type": "code",
   "execution_count": 6,
   "id": "4750063b",
   "metadata": {},
   "outputs": [
    {
     "data": {
      "text/plain": [
       "(7728394, 46)"
      ]
     },
     "execution_count": 6,
     "metadata": {},
     "output_type": "execute_result"
    }
   ],
   "source": [
    "df.shape"
   ]
  },
  {
   "cell_type": "code",
   "execution_count": 7,
   "id": "beb3f6ad",
   "metadata": {},
   "outputs": [],
   "source": [
    "df['Start_Time'] = pd.to_datetime(df['Start_Time'],errors='coerce')"
   ]
  },
  {
   "cell_type": "code",
   "execution_count": 8,
   "id": "4e60657d",
   "metadata": {},
   "outputs": [
    {
     "name": "stdout",
     "output_type": "stream",
     "text": [
      "ID\n",
      "Source\n",
      "Severity\n",
      "Start_Time\n",
      "End_Time\n",
      "Start_Lat\n",
      "Start_Lng\n",
      "End_Lat\n",
      "End_Lng\n",
      "Distance(mi)\n",
      "Description\n",
      "Street\n",
      "City\n",
      "County\n",
      "State\n",
      "Zipcode\n",
      "Country\n",
      "Timezone\n",
      "Airport_Code\n",
      "Weather_Timestamp\n",
      "Temperature(F)\n",
      "Wind_Chill(F)\n",
      "Humidity(%)\n",
      "Pressure(in)\n",
      "Visibility(mi)\n",
      "Wind_Direction\n",
      "Wind_Speed(mph)\n",
      "Precipitation(in)\n",
      "Weather_Condition\n",
      "Amenity\n",
      "Bump\n",
      "Crossing\n",
      "Give_Way\n",
      "Junction\n",
      "No_Exit\n",
      "Railway\n",
      "Roundabout\n",
      "Station\n",
      "Stop\n",
      "Traffic_Calming\n",
      "Traffic_Signal\n",
      "Turning_Loop\n",
      "Sunrise_Sunset\n",
      "Civil_Twilight\n",
      "Nautical_Twilight\n",
      "Astronomical_Twilight\n"
     ]
    }
   ],
   "source": [
    "for col in df.columns:\n",
    "    print(col)"
   ]
  },
  {
   "cell_type": "code",
   "execution_count": 9,
   "id": "05cc18af",
   "metadata": {},
   "outputs": [
    {
     "name": "stderr",
     "output_type": "stream",
     "text": [
      "C:\\Users\\NAVADEEP\\AppData\\Local\\Temp\\ipykernel_16436\\1830797813.py:2: FutureWarning: \n",
      "\n",
      "Passing `palette` without assigning `hue` is deprecated and will be removed in v0.14.0. Assign the `x` variable to `hue` and set `legend=False` for the same effect.\n",
      "\n",
      "  sns.barplot(x=state_counts.index,y=state_counts.values,palette=\"rocket\")\n"
     ]
    },
    {
     "data": {
      "image/png": "[encoded data removed]",
      "text/plain": [
       "<Figure size 640x480 with 1 Axes>"
      ]
     },
     "metadata": {},
     "output_type": "display_data"
    }
   ],
   "source": [
    "state_counts=df['State'].value_counts().head(10)\n",
    "sns.barplot(x=state_counts.index,y=state_counts.values,palette=\"rocket\")\n",
    "plt.title(\"Top 10 states with most accident\")\n",
    "plt.xlabel(\"State\")\n",
    "plt.ylabel(\"Accident count\")\n",
    "plt.show()"
   ]
  },
  {
   "cell_type": "code",
   "execution_count": 11,
   "id": "c7706dc7",
   "metadata": {},
   "outputs": [
    {
     "data": {
      "image/png": "[encoded data removed]",
      "text/plain": [
       "<Figure size 640x480 with 1 Axes>"
      ]
     },
     "metadata": {},
     "output_type": "display_data"
    }
   ],
   "source": [
    "city_counts = df['City'].value_counts().head(5)\n",
    "sns.barplot(x=city_counts.index,y=city_counts.values)\n",
    "plt.title(\"Top 5 cities with most accident\")\n",
    "plt.xticks(rotation=46)\n",
    "plt.xlabel(\"Cities\")\n",
    "plt.ylabel(\"Accident count\")\n",
    "plt.show()"
   ]
  },
  {
   "cell_type": "code",
   "execution_count": 12,
   "id": "4742c74b",
   "metadata": {},
   "outputs": [
    {
     "name": "stderr",
     "output_type": "stream",
     "text": [
      "C:\\Users\\NAVADEEP\\AppData\\Local\\Temp\\ipykernel_16436\\3700644868.py:2: FutureWarning: \n",
      "\n",
      "Passing `palette` without assigning `hue` is deprecated and will be removed in v0.14.0. Assign the `y` variable to `hue` and set `legend=False` for the same effect.\n",
      "\n",
      "  sns.barplot(y=weather_counts.index, x=weather_counts.values, palette=\"coolwarm\")\n"
     ]
    },
    {
     "data": {
      "image/png": "[encoded data removed]",
      "text/plain": [
       "<Figure size 640x480 with 1 Axes>"
      ]
     },
     "metadata": {},
     "output_type": "display_data"
    }
   ],
   "source": [
    "weather_counts = df['Weather_Condition'].value_counts().head(10)\n",
    "sns.barplot(y=weather_counts.index, x=weather_counts.values, palette=\"coolwarm\")\n",
    "plt.title(\"Top 10 Weather Conditions During Accidents\")\n",
    "plt.xlabel(\"Accident Count\")\n",
    "plt.ylabel(\"Weather Condition\")\n",
    "plt.show()"
   ]
  },
  {
   "cell_type": "code",
   "execution_count": 14,
   "id": "788aa97f",
   "metadata": {},
   "outputs": [
    {
     "data": {
      "image/png": "[encoded data removed]",
      "text/plain": [
       "<Figure size 640x480 with 1 Axes>"
      ]
     },
     "metadata": {},
     "output_type": "display_data"
    }
   ],
   "source": [
    "df['Hour'] = df['Start_Time'].dt.hour\n",
    "sns.histplot(df['Hour'], bins=24, kde=True, color='blue')\n",
    "plt.title(\"Accidents by Hour of Day\")\n",
    "plt.xlabel(\"Hour\")\n",
    "plt.ylabel(\"Number of Accidents\")\n",
    "plt.xticks(range(0, 24))\n",
    "plt.show()"
   ]
  },
  {
   "cell_type": "code",
   "execution_count": 15,
   "id": "a150114c",
   "metadata": {},
   "outputs": [
    {
     "name": "stderr",
     "output_type": "stream",
     "text": [
      "C:\\Users\\NAVADEEP\\AppData\\Local\\Temp\\ipykernel_16436\\3327392855.py:2: FutureWarning: \n",
      "\n",
      "Passing `palette` without assigning `hue` is deprecated and will be removed in v0.14.0. Assign the `x` variable to `hue` and set `legend=False` for the same effect.\n",
      "\n",
      "  sns.countplot(x='DayOfWeek', data=df, order=['Monday', 'Tuesday', 'Wednesday', 'Thursday', 'Friday', 'Saturday', 'Sunday'], palette=\"Set2\")\n"
     ]
    },
    {
     "data": {
      "image/png": "[encoded data removed]",
      "text/plain": [
       "<Figure size 640x480 with 1 Axes>"
      ]
     },
     "metadata": {},
     "output_type": "display_data"
    }
   ],
   "source": [
    "df['DayOfWeek'] = df['Start_Time'].dt.day_name()\n",
    "sns.countplot(x='DayOfWeek', data=df, order=['Monday', 'Tuesday', 'Wednesday', 'Thursday', 'Friday', 'Saturday', 'Sunday'], palette=\"Set2\")\n",
    "plt.title(\"Accidents by Day of the Week\")\n",
    "plt.xlabel(\"Day\")\n",
    "plt.ylabel(\"Accident Count\")\n",
    "plt.xticks(rotation=50)\n",
    "plt.show()\n"
   ]
  },
  {
   "cell_type": "code",
   "execution_count": 19,
   "id": "94519d54",
   "metadata": {},
   "outputs": [
    {
     "name": "stderr",
     "output_type": "stream",
     "text": [
      "C:\\Users\\NAVADEEP\\AppData\\Local\\Temp\\ipykernel_16436\\2316228757.py:1: DeprecationWarning:\n",
      "\n",
      "*scatter_mapbox* is deprecated! Use *scatter_map* instead. Learn more at: https://plotly.com/python/mapbox-to-maplibre/\n",
      "\n"
     ]
    },
    {
     "data": {
      "application/vnd.plotly.v1+json": {
       "config": {
        "plotlyServerURL": "https://plot.ly"
       },
       "data": [
        {
         "customdata": [
          [
           "Oklahoma City",
           "OK",
           "Clear"
          ],
          [
           "Oklahoma City",
           "OK",
           "Light Rain"
          ],
          [
           "Chino",
           "CA",
           "Mostly Cloudy"
          ],
          [
           "Davison",
           "MI",
           "Fair"
          ],
          [
           "Rochester",
           "NY",
           "Light Snow"
          ],
          [
           "Barnwell",
           "SC",
           "Overcast"
          ],
          [
           "Lynwood",
           "CA",
           "Fair"
          ],
          [
           "Los Angeles",
           "CA",
           "Cloudy"
          ],
          [
           "Lombard",
           "IL",
           "Mostly Cloudy"
          ],
          [
           "Ellenton",
           "FL",
           "Fair"
          ],
          [
           "Houston",
           "TX",
           "Mostly Cloudy"
          ],
          [
           "Fallbrook",
           "CA",
           "Clear"
          ],
          [
           "Waterloo",
           "NY",
           "Cloudy"
          ],
          [
           "Sarasota",
           "FL",
           "Mostly Cloudy"
          ],
          [
           "Florence",
           "SC",
           "Fair"
          ],
          [
           "Grand Rapids",
           "MI",
           "Light Rain"
          ],
          [
           "Federal Way",
           "WA",
           "Mostly Cloudy"
          ],
          [
           "Ravena",
           "NY",
           "Partly Cloudy"
          ],
          [
           "Frisco",
           "CO",
           "Snow"
          ],
          [
           "Hazel Park",
           "MI",
           "Clear"
          ],
          [
           "Pittsburgh",
           "PA",
           "Partly Cloudy"
          ],
          [
           "Miami",
           "FL",
           "Fair"
          ],
          [
           "Cambridge",
           "MN",
           "Partly Cloudy"
          ],
          [
           "Waterford",
           "NY",
           "Partly Cloudy"
          ],
          [
           "Chicago",
           "IL",
           "Cloudy"
          ],
          [
           "Martinsville",
           "VA",
           "Cloudy"
          ],
          [
           "Brentwood",
           "TN",
           "Partly Cloudy"
          ],
          [
           "Volente",
           "TX",
           "Fair"
          ],
          [
           "Richmond",
           "VA",
           "Cloudy"
          ],
          [
           "Lititz",
           "PA",
           "Fair"
          ],
          [
           "San Francisco",
           "CA",
           "Mostly Cloudy"
          ],
          [
           "McCleary",
           "WA",
           "Fair"
          ],
          [
           "Los Angeles",
           "CA",
           "Mostly Cloudy"
          ],
          [
           "Camden",
           "NJ",
           "Heavy Rain"
          ],
          [
           "Utica",
           "NY",
           "Mostly Cloudy"
          ],
          [
           "Des Moines",
           "IA",
           "Mostly Cloudy"
          ],
          [
           "Hesperia",
           "CA",
           "Clear"
          ],
          [
           "Escondido",
           "CA",
           "Clear"
          ],
          [
           "Lynnwood",
           "WA",
           "Overcast"
          ],
          [
           "Downingtown",
           "PA",
           "Fair"
          ],
          [
           "Raleigh",
           "NC",
           "Mostly Cloudy"
          ],
          [
           "Eugene",
           "OR",
           "Mostly Cloudy"
          ],
          [
           "Atlanta",
           "GA",
           "Partly Cloudy"
          ],
          [
           "Chico",
           "CA",
           "Fair"
          ],
          [
           "Oakland",
           "CA",
           "Rain"
          ],
          [
           "Saint Petersburg",
           "FL",
           "Clear"
          ],
          [
           "Myrtle Beach",
           "SC",
           "Overcast"
          ],
          [
           "Manchester",
           "NH",
           "Mostly Cloudy"
          ],
          [
           "Seattle",
           "WA",
           "Fair"
          ],
          [
           "Philadelphia",
           "PA",
           "Light Rain"
          ],
          [
           "San Diego",
           "CA",
           "Fair"
          ],
          [
           "Tucson",
           "AZ",
           "Fair"
          ],
          [
           "Plano",
           "TX",
           "Clear"
          ],
          [
           "West Jordan",
           "UT",
           "Partly Cloudy"
          ],
          [
           "Petaluma",
           "CA",
           "Cloudy"
          ],
          [
           "Westmoreland",
           "NH",
           null
          ],
          [
           "Hanover Park",
           "IL",
           "Scattered Clouds"
          ],
          [
           "Wayzata",
           "MN",
           "Clear"
          ],
          [
           "Westlake Village",
           "CA",
           "Haze"
          ],
          [
           "Memphis",
           "TN",
           "Fair"
          ],
          [
           "Swedesboro",
           "NJ",
           "Light Rain"
          ],
          [
           "Sweet Home",
           "OR",
           "Fair"
          ],
          [
           "Chesapeake",
           "VA",
           "Mostly Cloudy"
          ],
          [
           "Rogers",
           "AR",
           "Fair"
          ],
          [
           "Houston",
           "TX",
           "Fair"
          ],
          [
           "Raleigh",
           "NC",
           "Mostly Cloudy"
          ],
          [
           "Los Angeles",
           "CA",
           "Fair"
          ],
          [
           "Montgomery",
           "AL",
           "Fair"
          ],
          [
           "Omaha",
           "NE",
           "Clear"
          ],
          [
           "Pendleton",
           "OR",
           "Fair"
          ],
          [
           "Miami",
           "FL",
           "Fair"
          ],
          [
           "Littlerock",
           "CA",
           "Fair"
          ],
          [
           "Atlanta",
           "GA",
           "Fair"
          ],
          [
           "Orangeburg",
           "SC",
           "Fair"
          ],
          [
           "Fort Worth",
           "TX",
           "Fair"
          ],
          [
           "Indianapolis",
           "IN",
           "Mostly Cloudy"
          ],
          [
           "Raleigh",
           "NC",
           "Light Rain"
          ],
          [
           "Dorchester",
           "MA",
           "Partly Cloudy"
          ],
          [
           "Benson",
           "NC",
           "Partly Cloudy"
          ],
          [
           "Charlotte",
           "NC",
           "Light Snow"
          ],
          [
           "Madison",
           "TN",
           "Light Rain"
          ],
          [
           "Kansas City",
           "KS",
           null
          ],
          [
           "Wheaton",
           "IL",
           "Overcast"
          ],
          [
           "Los Angeles",
           "CA",
           "Fair"
          ],
          [
           "Lake Placid",
           "FL",
           "Thunder in the Vicinity"
          ],
          [
           "Yaphank",
           "NY",
           "Fair"
          ],
          [
           "Houston",
           "TX",
           "Partly Cloudy"
          ],
          [
           "Sacramento",
           "CA",
           "Fair"
          ],
          [
           "Harrisburg",
           "PA",
           "Fair"
          ],
          [
           "Winter Park",
           "FL",
           "Mostly Cloudy"
          ],
          [
           "Anderson",
           "SC",
           "Rain"
          ],
          [
           "Abington",
           "PA",
           "Clear"
          ],
          [
           "Manassas",
           "VA",
           "Fair"
          ],
          [
           "Palmdale",
           "CA",
           "Clear"
          ],
          [
           "Charleston",
           "SC",
           "Partly Cloudy"
          ],
          [
           "Barstow",
           "CA",
           "Clear"
          ],
          [
           "Los Angeles",
           "CA",
           "Clear"
          ],
          [
           "East Rutherford",
           "NJ",
           "Cloudy"
          ],
          [
           "Cottondale",
           "AL",
           "Rain"
          ],
          [
           "Austin",
           "TX",
           "Cloudy"
          ],
          [
           "Dayton",
           "OH",
           "Fair"
          ],
          [
           "Philadelphia",
           "PA",
           "Mostly Cloudy"
          ],
          [
           "Cedar Rapids",
           "IA",
           "Fair"
          ],
          [
           "Pittsburgh",
           "PA",
           "Fair"
          ],
          [
           "McDonough",
           "GA",
           "Mostly Cloudy"
          ],
          [
           "San Jose",
           "CA",
           "Partly Cloudy"
          ],
          [
           "Charlotte",
           "NC",
           "Scattered Clouds"
          ],
          [
           "Pembroke",
           "GA",
           "Overcast"
          ],
          [
           "Hialeah",
           "FL",
           "Mostly Cloudy"
          ],
          [
           "Maitland",
           "FL",
           "Clear"
          ],
          [
           "Lakeville",
           "MN",
           "Fair"
          ],
          [
           "Houston",
           "TX",
           "Rain"
          ],
          [
           "Sarasota",
           "FL",
           "Fair"
          ],
          [
           "Virginia Beach",
           "VA",
           "Fog"
          ],
          [
           "Danville",
           "IN",
           "Overcast"
          ],
          [
           "Warrenville",
           "IL",
           "Light Rain"
          ],
          [
           "Lowell",
           "MI",
           "Mostly Cloudy"
          ],
          [
           "Jacksonville",
           "FL",
           "Fair"
          ],
          [
           "Woodland Hills",
           "CA",
           "Fair"
          ],
          [
           "Quicksburg",
           "VA",
           "Fair"
          ],
          [
           "Seaford",
           "DE",
           "Clear"
          ],
          [
           "Richmond",
           "VA",
           "Clear"
          ],
          [
           "Kearny",
           "NJ",
           "Mostly Cloudy"
          ],
          [
           "Chicago",
           "IL",
           "Light Snow"
          ],
          [
           "Fenton",
           "MI",
           "Fair"
          ],
          [
           "Monticello",
           "FL",
           "Light Rain"
          ],
          [
           "Fort Worth",
           "TX",
           "Fair"
          ],
          [
           "Stockbridge",
           "GA",
           "Scattered Clouds"
          ],
          [
           "North Hollywood",
           "CA",
           "Fair"
          ],
          [
           "Columbia",
           "SC",
           "Fair"
          ],
          [
           "Fairfax",
           "VA",
           "Fair"
          ],
          [
           "Tolleson",
           "AZ",
           "Clear"
          ],
          [
           "Miami",
           "FL",
           "Clear"
          ],
          [
           "Catlett",
           "VA",
           "Fair"
          ],
          [
           "Oak View",
           "CA",
           "Overcast"
          ],
          [
           "Hatboro",
           "PA",
           "Overcast"
          ],
          [
           "San Diego",
           "CA",
           "Fair"
          ],
          [
           "Mcarthur",
           "CA",
           "Fair"
          ],
          [
           "Austin",
           "TX",
           "Partly Cloudy"
          ],
          [
           "Boston",
           "MA",
           "Partly Cloudy"
          ],
          [
           "Nashville",
           "TN",
           "Light Rain with Thunder"
          ],
          [
           "Miami",
           "FL",
           "Heavy Thunderstorms and Rain"
          ],
          [
           "Atlanta",
           "GA",
           "Overcast"
          ],
          [
           "Oklahoma City",
           "OK",
           "Scattered Clouds"
          ],
          [
           "Boca Raton",
           "FL",
           "Partly Cloudy"
          ],
          [
           "Birmingham",
           "AL",
           "Overcast"
          ],
          [
           "Marysville",
           "CA",
           "Fair"
          ],
          [
           "Orlando",
           "FL",
           "Mostly Cloudy"
          ],
          [
           "Los Angeles",
           "CA",
           "Cloudy"
          ],
          [
           "Bessemer",
           "AL",
           "Partly Cloudy"
          ],
          [
           "Los Angeles",
           "CA",
           "Clear"
          ],
          [
           "Wildwood",
           "FL",
           "Fair"
          ],
          [
           "Shade Gap",
           "PA",
           "Rain"
          ],
          [
           "Placerville",
           "CA",
           "Clear"
          ],
          [
           "Charlotte",
           "NC",
           "Mostly Cloudy"
          ],
          [
           "Jacksonville",
           "FL",
           "Overcast"
          ],
          [
           "Conshohocken",
           "PA",
           "Fair"
          ],
          [
           "Augusta",
           "GA",
           "Clear"
          ],
          [
           "Pine Mountain Club",
           "CA",
           "Fair"
          ],
          [
           "Bristow",
           "OK",
           "Fair"
          ],
          [
           "Saint Louis",
           "MO",
           "Cloudy"
          ],
          [
           "Charlotte",
           "NC",
           "Cloudy"
          ],
          [
           "Jacksonville",
           "FL",
           "Fair"
          ],
          [
           "Brooklyn",
           "NY",
           "Fair"
          ],
          [
           "Ann Arbor",
           "MI",
           "Fair"
          ],
          [
           "Wayne",
           "PA",
           "Cloudy"
          ],
          [
           "Columbia",
           "MO",
           "Fair"
          ],
          [
           "Rockville",
           "MD",
           "Cloudy"
          ],
          [
           "King George",
           "VA",
           "Light Drizzle"
          ],
          [
           "Ogden",
           "UT",
           "Fair"
          ],
          [
           "Pottstown",
           "PA",
           "Fair"
          ],
          [
           "Walnut Creek",
           "CA",
           "Light Rain"
          ],
          [
           "Yuba City",
           "CA",
           "Clear"
          ],
          [
           "Dos Palos",
           "CA",
           "Fair"
          ],
          [
           "San Bernardino",
           "CA",
           "Clear"
          ],
          [
           "Zachary",
           "LA",
           "Fog"
          ],
          [
           "Salt Lake City",
           "UT",
           "Partly Cloudy"
          ],
          [
           "Llano",
           "CA",
           "Rain"
          ],
          [
           "Denver",
           "CO",
           "Partly Cloudy"
          ],
          [
           "Commack",
           "NY",
           "Fair / Windy"
          ],
          [
           "New York",
           "NY",
           "Cloudy"
          ],
          [
           "Los Angeles",
           "CA",
           "Fair"
          ],
          [
           "Austin",
           "TX",
           "Mostly Cloudy"
          ],
          [
           "Grand Rapids",
           "MI",
           "Mostly Cloudy"
          ],
          [
           "Fort Lauderdale",
           "FL",
           "Mostly Cloudy"
          ],
          [
           "Los Angeles",
           "CA",
           "Fair"
          ],
          [
           "Milton",
           "MA",
           "Cloudy"
          ],
          [
           "Austin",
           "TX",
           "Overcast"
          ],
          [
           "Miami",
           "FL",
           "Fair"
          ],
          [
           "Van Nuys",
           "CA",
           "Fair"
          ],
          [
           "Cranston",
           "RI",
           "Mostly Cloudy"
          ],
          [
           "Conway",
           "SC",
           "Mostly Cloudy"
          ],
          [
           "Hesperia",
           "CA",
           "Fair"
          ],
          [
           "Tifton",
           "GA",
           "Clear"
          ],
          [
           "Belmar",
           "NJ",
           "Fair"
          ],
          [
           "Lone Tree",
           "CO",
           "Fair"
          ],
          [
           "Bakersfield",
           "CA",
           "Fair"
          ],
          [
           "Tucson",
           "AZ",
           "Fair"
          ],
          [
           "Fresno",
           "CA",
           "Fair"
          ],
          [
           "Cleveland",
           "OH",
           "Cloudy"
          ],
          [
           "Diamond Point",
           "NY",
           "Cloudy"
          ],
          [
           "Newburgh",
           "NY",
           "Partly Cloudy"
          ],
          [
           "Manor",
           "TX",
           "Fair"
          ],
          [
           "Austin",
           "TX",
           "Overcast"
          ],
          [
           "Collegeville",
           "PA",
           "Fair"
          ],
          [
           "Albany",
           "OR",
           "Scattered Clouds"
          ],
          [
           "Myakka City",
           "FL",
           "Fair"
          ],
          [
           "Apex",
           "NC",
           "Mostly Cloudy"
          ],
          [
           "Lake City",
           "FL",
           "Fog"
          ],
          [
           "Manteca",
           "CA",
           "Clear"
          ],
          [
           "Andrews",
           "SC",
           "Fair"
          ],
          [
           "Williamsburg",
           "IA",
           "Clear"
          ],
          [
           "Antioch",
           "CA",
           "Rain"
          ],
          [
           "Santa Rosa",
           "CA",
           "Fair"
          ],
          [
           "Weehawken",
           "NJ",
           "Cloudy"
          ],
          [
           "Austin",
           "TX",
           "Haze"
          ],
          [
           "San Antonio",
           "TX",
           "Mostly Cloudy"
          ],
          [
           "Fresh Meadows",
           "NY",
           "Mostly Cloudy"
          ],
          [
           "Yonkers",
           "NY",
           "Light Freezing Rain"
          ],
          [
           "Cleveland",
           "OH",
           "Overcast"
          ],
          [
           "Brooklyn",
           "NY",
           "Fair"
          ],
          [
           "Portland",
           "OR",
           "Fair"
          ],
          [
           "Ballwin",
           "MO",
           "Clear"
          ],
          [
           "Stafford",
           "VA",
           "Fair"
          ],
          [
           "Park Falls",
           "WI",
           "Overcast"
          ],
          [
           "Mesquite",
           "TX",
           "Mostly Cloudy"
          ],
          [
           "Garden Grove",
           "CA",
           "Cloudy"
          ],
          [
           "Bayside",
           "NY",
           "Mostly Cloudy"
          ],
          [
           "Livermore",
           "CA",
           "Mostly Cloudy"
          ],
          [
           "Palm Harbor",
           "FL",
           "Fair"
          ],
          [
           "Tampa",
           "FL",
           "Partly Cloudy"
          ],
          [
           "Huntersville",
           "NC",
           "Clear"
          ],
          [
           "Jenkinsburg",
           "GA",
           "Partly Cloudy"
          ],
          [
           "Berkeley",
           "IL",
           "Light Rain with Thunder"
          ],
          [
           "Fletcher",
           "NC",
           "Partly Cloudy"
          ],
          [
           "Lodi",
           "CA",
           "Fair"
          ],
          [
           "Joelton",
           "TN",
           "Fair"
          ],
          [
           "Calumet City",
           "IL",
           "Fair"
          ],
          [
           "Lehi",
           "UT",
           "Haze"
          ],
          [
           "Brookings",
           "OR",
           "Cloudy"
          ],
          [
           "Tahoma",
           "CA",
           "Fair"
          ],
          [
           "Beltsville",
           "MD",
           "Fair"
          ],
          [
           "Salinas",
           "CA",
           "Cloudy"
          ],
          [
           "Marietta",
           "GA",
           "Mostly Cloudy"
          ],
          [
           "Columbia",
           "SC",
           "Scattered Clouds"
          ],
          [
           "Gardena",
           "CA",
           "Smoke"
          ],
          [
           "Reston",
           "VA",
           "Light Rain"
          ],
          [
           "Baton Rouge",
           "LA",
           "Cloudy"
          ],
          [
           "North Fort Myers",
           "FL",
           "Partly Cloudy"
          ],
          [
           "Laguna Hills",
           "CA",
           "Fair"
          ],
          [
           "Columbus",
           "OH",
           "Mostly Cloudy"
          ],
          [
           "Winnsboro",
           "SC",
           "Fair"
          ],
          [
           "Bloomfield",
           "IN",
           "Fair"
          ],
          [
           "Tucson",
           "AZ",
           "Clear"
          ],
          [
           "North Haven",
           "CT",
           "Overcast"
          ],
          [
           "Columbus",
           "OH",
           "Fair"
          ],
          [
           "Bandon",
           "OR",
           "Mostly Cloudy"
          ],
          [
           "Long Beach",
           "CA",
           "Partly Cloudy"
          ],
          [
           "Dallas",
           "TX",
           "Clear"
          ],
          [
           "New Port Richey",
           "FL",
           "Fair"
          ],
          [
           "San Jose",
           "CA",
           "Mostly Cloudy"
          ],
          [
           "Lancaster",
           "PA",
           "Cloudy"
          ],
          [
           "Rochester",
           "NY",
           "Partly Cloudy"
          ],
          [
           "Elgin",
           "IL",
           "Overcast"
          ],
          [
           "Baton Rouge",
           "LA",
           "Clear"
          ],
          [
           "Cutler Bay",
           "FL",
           "Mostly Cloudy"
          ],
          [
           "Jacksonville",
           "FL",
           "Thunder"
          ],
          [
           "Blue River",
           "OR",
           "Partly Cloudy"
          ],
          [
           "Berlin",
           "NJ",
           "Light Snow"
          ],
          [
           "Los Angeles",
           "CA",
           "Cloudy"
          ],
          [
           "Pinellas Park",
           "FL",
           "Partly Cloudy"
          ],
          [
           "Rutherford",
           "NJ",
           "Fair"
          ],
          [
           "Seattle",
           "WA",
           "Light Rain"
          ],
          [
           "Mcminnville",
           "OR",
           "Cloudy"
          ],
          [
           "Flint",
           "MI",
           "Scattered Clouds"
          ],
          [
           "Spartanburg",
           "SC",
           "Mostly Cloudy"
          ],
          [
           "Fairplay",
           "CO",
           "Light Snow"
          ],
          [
           "Atlanta",
           "GA",
           "Thunderstorm"
          ],
          [
           "Dayton",
           "OH",
           "Clear"
          ],
          [
           "Colonial Heights",
           "VA",
           "Mostly Cloudy"
          ],
          [
           "Los Angeles",
           "CA",
           "Fair"
          ],
          [
           "Onalaska",
           "WA",
           "Fair"
          ],
          [
           "Inver Grove Heights",
           "MN",
           "Cloudy"
          ],
          [
           "Martinez",
           "CA",
           "Fair"
          ],
          [
           "Quantico",
           "VA",
           "Fair"
          ],
          [
           "Louisville",
           "KY",
           "Clear"
          ],
          [
           "Greensboro",
           "NC",
           "Cloudy"
          ],
          [
           "San Antonio",
           "TX",
           "Scattered Clouds"
          ],
          [
           "Minneapolis",
           "MN",
           "Light Snow / Windy"
          ],
          [
           "Orlando",
           "FL",
           "Mostly Cloudy"
          ],
          [
           "Grandview",
           "TX",
           "Cloudy"
          ],
          [
           "Portland",
           "OR",
           "Fair"
          ],
          [
           "Valley Center",
           "CA",
           "Mostly Cloudy"
          ],
          [
           "Meridian",
           "ID",
           "Fair"
          ],
          [
           "Clinton",
           "SC",
           "Mostly Cloudy"
          ],
          [
           "Orlando",
           "FL",
           "Fair"
          ],
          [
           "Doswell",
           "VA",
           "Fair"
          ],
          [
           "Rochester",
           "NY",
           "Mostly Cloudy"
          ],
          [
           "Charlotte",
           "NC",
           "Partly Cloudy"
          ],
          [
           "Inglewood",
           "CA",
           "Clear"
          ],
          [
           "Denver",
           "CO",
           "Mostly Cloudy"
          ],
          [
           "Sacramento",
           "CA",
           "Fair"
          ],
          [
           "Lawrenceville",
           "GA",
           "Fair"
          ],
          [
           "Sausalito",
           "CA",
           "Light Rain"
          ],
          [
           "Houston",
           "TX",
           "Partly Cloudy"
          ],
          [
           "Venice",
           "FL",
           "Heavy Rain"
          ],
          [
           "Tampa",
           "FL",
           "Light Rain"
          ],
          [
           "Latham",
           "NY",
           "Light Snow"
          ],
          [
           "Fairfield",
           "OH",
           "Clear"
          ],
          [
           "Fullerton",
           "CA",
           "Fair"
          ],
          [
           "Suffolk",
           "VA",
           "Rain"
          ],
          [
           "Phoenix",
           "AZ",
           "Fair"
          ],
          [
           "Maryland Heights",
           "MO",
           "Thunder"
          ],
          [
           "San Lorenzo",
           "CA",
           "Fair"
          ],
          [
           "Tampa",
           "FL",
           "Clear"
          ],
          [
           "Yulee",
           "FL",
           "Fair"
          ],
          [
           "Hacienda Heights",
           "CA",
           "Fair"
          ],
          [
           "Fresno",
           "CA",
           "Clear"
          ],
          [
           "Schertz",
           "TX",
           "Partly Cloudy"
          ],
          [
           "San Jose",
           "CA",
           "Fair"
          ],
          [
           "Richmond",
           "VA",
           "Fair"
          ],
          [
           "Castro Valley",
           "CA",
           "Scattered Clouds"
          ],
          [
           "Mesquite",
           "TX",
           "Clear"
          ],
          [
           "Lutherville Timonium",
           "MD",
           null
          ],
          [
           "Grand Rapids",
           "MI",
           "Partly Cloudy"
          ],
          [
           "Kennett Square",
           "PA",
           "Fair"
          ],
          [
           "Orlando",
           "FL",
           "Fair"
          ],
          [
           "Frederick",
           "MD",
           "Mostly Cloudy"
          ],
          [
           "Guilford",
           "CT",
           "Rain"
          ],
          [
           "Rancho Cucamonga",
           "CA",
           "Fair"
          ],
          [
           "Ridgeland",
           "SC",
           "Mostly Cloudy"
          ],
          [
           "Theodore",
           "AL",
           "Light Rain"
          ],
          [
           "Sacramento",
           "CA",
           "Clear"
          ],
          [
           "Charlotte",
           "NC",
           "Light Rain"
          ],
          [
           "Mount Pleasant",
           "PA",
           "Mostly Cloudy"
          ],
          [
           "Los Angeles",
           "CA",
           "Clear"
          ],
          [
           "Dayton",
           "OH",
           "Mostly Cloudy"
          ],
          [
           "Fallon",
           "NV",
           "Light Snow"
          ],
          [
           "Raleigh",
           "NC",
           "Partly Cloudy"
          ],
          [
           "Carol Stream",
           "IL",
           "Light Rain"
          ],
          [
           "Ashland",
           "VA",
           "Cloudy"
          ],
          [
           "San Bernardino",
           "CA",
           "Partly Cloudy"
          ],
          [
           "San Jose",
           "CA",
           "Clear"
          ],
          [
           "Tucson",
           "AZ",
           "Clear"
          ],
          [
           "Frederick",
           "MD",
           "Light Rain"
          ],
          [
           "Virginia Beach",
           "VA",
           "Overcast"
          ],
          [
           "West Valley City",
           "UT",
           "Cloudy"
          ],
          [
           "Gardena",
           "CA",
           "Fair"
          ],
          [
           "Mankato",
           "MN",
           "Light Snow"
          ],
          [
           "Edmond",
           "OK",
           "Overcast"
          ],
          [
           "Walnut Creek",
           "CA",
           "Fair"
          ],
          [
           "Lincolnshire",
           "IL",
           "Clear"
          ],
          [
           "Trenton",
           "MI",
           "Fair"
          ],
          [
           "Springfield",
           "VA",
           "Overcast"
          ],
          [
           "Melbourne",
           "FL",
           "Fair"
          ],
          [
           "Greenwood",
           "SC",
           "Fair"
          ],
          [
           "Flushing",
           "NY",
           "Partly Cloudy"
          ],
          [
           "Timmonsville",
           "SC",
           "Partly Cloudy"
          ],
          [
           "King George",
           "VA",
           "Fair"
          ],
          [
           "Zeeland",
           "MI",
           "Cloudy"
          ],
          [
           "West Valley City",
           "UT",
           "Mostly Cloudy"
          ],
          [
           "Mc Lean",
           "VA",
           "Cloudy"
          ],
          [
           "Atlanta",
           "GA",
           "Partly Cloudy"
          ],
          [
           "Malabar",
           "FL",
           "Partly Cloudy"
          ],
          [
           "Edgewood",
           "MD",
           "Light Rain"
          ],
          [
           "Smithsburg",
           "MD",
           null
          ],
          [
           "Seffner",
           "FL",
           "Fair"
          ],
          [
           "Chantilly",
           "VA",
           "Mostly Cloudy"
          ],
          [
           "Sarasota",
           "FL",
           "Clear"
          ],
          [
           "Fort Worth",
           "TX",
           "Haze"
          ],
          [
           "North Miami Beach",
           "FL",
           "Mostly Cloudy"
          ],
          [
           "East Windsor",
           "CT",
           "Partly Cloudy"
          ],
          [
           "Delhi",
           "CA",
           "Mostly Cloudy"
          ],
          [
           "Plymouth Meeting",
           "PA",
           "Overcast"
          ],
          [
           "Tampa",
           "FL",
           "Mostly Cloudy"
          ],
          [
           "Raleigh",
           "NC",
           "Partly Cloudy"
          ],
          [
           "Anaheim",
           "CA",
           "Partly Cloudy"
          ],
          [
           "Lawndale",
           "CA",
           "Fair"
          ],
          [
           "Kerman",
           "CA",
           "Clear"
          ],
          [
           "Grand Rapids",
           "MI",
           "Light Snow"
          ],
          [
           "Bloomfield",
           "NJ",
           "Heavy Rain"
          ],
          [
           "Nashville",
           "TN",
           "Partly Cloudy"
          ],
          [
           "Pacoima",
           "CA",
           "Fair"
          ],
          [
           "Falls Church",
           "VA",
           "Scattered Clouds"
          ],
          [
           "Dallas",
           "TX",
           "Partly Cloudy"
          ],
          [
           "San Jose",
           "CA",
           "Mostly Cloudy"
          ],
          [
           "Suitland",
           "MD",
           "Fair"
          ],
          [
           "Grand Rapids",
           "MI",
           "Partly Cloudy"
          ],
          [
           "Elizabeth",
           "NJ",
           "Fair"
          ],
          [
           "Alexandria",
           "VA",
           "Mostly Cloudy"
          ],
          [
           "Winston Salem",
           "NC",
           "Fair"
          ],
          [
           "Elmhurst",
           "NY",
           "Mostly Cloudy"
          ],
          [
           "Ridgefield Park",
           "NJ",
           "Fair"
          ],
          [
           "Rowland Heights",
           "CA",
           "Fair"
          ],
          [
           "Whittier",
           "CA",
           "Fair"
          ],
          [
           "Philadelphia",
           "PA",
           "Fair"
          ],
          [
           "Pompano Beach",
           "FL",
           "Partly Cloudy"
          ],
          [
           "Newnan",
           "GA",
           "Fair"
          ],
          [
           "Braselton",
           "GA",
           "Mostly Cloudy"
          ],
          [
           "Nottingham",
           "MD",
           "Fair"
          ],
          [
           "Baldwin Park",
           "CA",
           "Cloudy"
          ],
          [
           "Houston",
           "TX",
           "Mostly Cloudy"
          ],
          [
           "Littleton",
           "CO",
           "Partly Cloudy"
          ],
          [
           "Bronx",
           "NY",
           "Cloudy"
          ],
          [
           "Houston",
           "TX",
           "Mostly Cloudy"
          ],
          [
           "Itasca",
           "IL",
           "Mostly Cloudy"
          ],
          [
           "Hacienda Heights",
           "CA",
           "Scattered Clouds"
          ],
          [
           "Austin",
           "TX",
           "Overcast"
          ],
          [
           "Martinsburg",
           "PA",
           "Cloudy"
          ],
          [
           "New Orleans",
           "LA",
           "Fair"
          ],
          [
           "Anderson",
           "IN",
           "Fog"
          ],
          [
           "Emeryville",
           "CA",
           "Partly Cloudy"
          ],
          [
           "Joliet",
           "MT",
           "Mostly Cloudy"
          ],
          [
           "Jacksonville",
           "FL",
           "Mostly Cloudy"
          ],
          [
           "Denver",
           "CO",
           "Mostly Cloudy"
          ],
          [
           "Richmond",
           "VA",
           "Fair"
          ],
          [
           "Brentwood",
           "TN",
           "Cloudy"
          ],
          [
           "Smyrna",
           "TN",
           "Clear"
          ],
          [
           "Miami",
           "FL",
           "Mostly Cloudy"
          ],
          [
           "Atlanta",
           "GA",
           "Clear"
          ],
          [
           "Fort Lauderdale",
           "FL",
           "Scattered Clouds"
          ],
          [
           "Madera",
           "CA",
           "Partly Cloudy"
          ],
          [
           "Scott Depot",
           "WV",
           "Fair"
          ],
          [
           "Sylmar",
           "CA",
           "Fair"
          ],
          [
           "Tucson",
           "AZ",
           "Fair"
          ],
          [
           "Libertyville",
           "IL",
           "Fair"
          ],
          [
           "Aptos",
           "CA",
           "Cloudy"
          ],
          [
           "Houston",
           "TX",
           "Fair"
          ],
          [
           "Lancaster",
           "PA",
           "Light Rain"
          ],
          [
           "Duluth",
           "MN",
           "Partly Cloudy"
          ],
          [
           "Austin",
           "TX",
           "Cloudy"
          ],
          [
           "Orlando",
           "FL",
           "Fair"
          ],
          [
           "Gainesville",
           "VA",
           "Mostly Cloudy"
          ],
          [
           "Corona",
           "CA",
           "Cloudy"
          ],
          [
           "North Miami",
           "FL",
           "Mostly Cloudy"
          ],
          [
           "Shippensburg",
           "PA",
           null
          ],
          [
           "North Charleston",
           "SC",
           "Light Rain"
          ],
          [
           "Saint Cloud",
           "MN",
           "Fair"
          ],
          [
           "Seattle",
           "WA",
           "Clear"
          ],
          [
           "Seaside",
           "OR",
           "Fair"
          ],
          [
           "Orlando",
           "FL",
           "Mostly Cloudy / Windy"
          ],
          [
           "Saint Paul",
           "MN",
           "Haze"
          ],
          [
           "Clearfield",
           "UT",
           "Fair"
          ],
          [
           "Baltimore",
           "MD",
           null
          ],
          [
           "New Orleans",
           "LA",
           "Fair"
          ],
          [
           "Largo",
           "FL",
           "Mostly Cloudy"
          ],
          [
           "Hudson",
           "FL",
           "Shallow Fog"
          ],
          [
           "Grand Prairie",
           "TX",
           null
          ],
          [
           "Huntington Station",
           "NY",
           "Fair"
          ],
          [
           "Aurora",
           "CO",
           "Fair"
          ],
          [
           "Riverside",
           "CA",
           "Light Rain"
          ],
          [
           "Springfield",
           "OR",
           "Mostly Cloudy"
          ],
          [
           "Baltimore",
           "MD",
           null
          ],
          [
           "Marietta",
           "GA",
           "Fair"
          ],
          [
           "Poughkeepsie",
           "NY",
           "Cloudy"
          ],
          [
           "Mira Loma",
           "CA",
           "Fair"
          ],
          [
           "Cardiff By the Sea",
           "CA",
           "Clear"
          ],
          [
           "Orinda",
           "CA",
           "Light Rain"
          ],
          [
           "Stafford",
           "VA",
           "Fair"
          ],
          [
           "Memphis",
           "TN",
           "Thunder in the Vicinity"
          ],
          [
           "Vista",
           "CA",
           "Fair"
          ],
          [
           "Charlotte",
           "NC",
           "Mostly Cloudy"
          ],
          [
           "Washington",
           "DC",
           null
          ],
          [
           "Lucerne",
           "CA",
           "Clear"
          ],
          [
           "Flagstaff",
           "AZ",
           "Cloudy"
          ],
          [
           "Dallas",
           "TX",
           "Fair"
          ],
          [
           "Minneapolis",
           "MN",
           "Thunder in the Vicinity"
          ],
          [
           "Dallas",
           "TX",
           "Light Rain"
          ],
          [
           "Sacramento",
           "CA",
           "Clear"
          ],
          [
           "Baton Rouge",
           "LA",
           "Cloudy"
          ],
          [
           "Gaithersburg",
           "MD",
           "Clear"
          ],
          [
           "Pomona",
           "CA",
           "Light Rain"
          ],
          [
           "Reidsville",
           "NC",
           "Fair"
          ],
          [
           "Monticello",
           "FL",
           "Fair"
          ],
          [
           "Dunn",
           "NC",
           "Partly Cloudy"
          ],
          [
           "Lynnwood",
           "WA",
           "Mostly Cloudy"
          ],
          [
           "Tustin",
           "CA",
           "Clear"
          ],
          [
           "Richmond",
           "VA",
           "Fair"
          ],
          [
           "Whittier",
           "NC",
           "Cloudy"
          ],
          [
           "Van Nuys",
           "CA",
           "Fair"
          ],
          [
           "Fort Lauderdale",
           "FL",
           "Mostly Cloudy"
          ],
          [
           "Fort Lee",
           "NJ",
           "Light Rain"
          ],
          [
           "Rochester",
           "NY",
           "Partly Cloudy"
          ],
          [
           "Ambler",
           "PA",
           "Fair"
          ],
          [
           "Fort Worth",
           "TX",
           "Fair"
          ],
          [
           "Detroit",
           "MI",
           "Clear"
          ],
          [
           "Boston",
           "MA",
           "Overcast"
          ],
          [
           "Austin",
           "TX",
           "Cloudy"
          ],
          [
           "Lodi",
           "CA",
           "Fair"
          ],
          [
           "Naples",
           "FL",
           "Fair"
          ],
          [
           "Greenwood",
           "IN",
           "Mostly Cloudy"
          ],
          [
           "Raleigh",
           "NC",
           "Cloudy"
          ],
          [
           "El Dorado Hills",
           "CA",
           "Fair"
          ],
          [
           "Walterboro",
           "SC",
           "Light Thunderstorms and Rain"
          ],
          [
           "San Francisco",
           "CA",
           "Cloudy"
          ],
          [
           "Arlington",
           "VA",
           "Cloudy"
          ],
          [
           "Augusta",
           "GA",
           "Cloudy"
          ],
          [
           "Center Point",
           "AL",
           "Fair"
          ],
          [
           "Houston",
           "TX",
           "Fair"
          ],
          [
           "Prescott",
           "AZ",
           "Fair"
          ],
          [
           "Nashville",
           "TN",
           "Overcast"
          ],
          [
           "Los Angeles",
           "CA",
           "Cloudy"
          ],
          [
           "Eureka",
           "CA",
           "Cloudy"
          ],
          [
           "Placerville",
           "CA",
           "Cloudy"
          ],
          [
           "Oakland",
           "CA",
           "Fair"
          ],
          [
           "Dahlgren",
           "VA",
           "Fair"
          ],
          [
           "San Mateo",
           "CA",
           "Fair"
          ],
          [
           "Baton Rouge",
           "LA",
           "Fair"
          ],
          [
           "New Port Richey",
           "FL",
           "Partly Cloudy"
          ],
          [
           "Macedonia",
           "OH",
           "Clear"
          ],
          [
           "Gerber",
           "CA",
           "Mostly Cloudy"
          ],
          [
           "Gretna",
           "VA",
           "Fair"
          ],
          [
           "Livermore",
           "CA",
           "Fair"
          ],
          [
           "Birmingham",
           "AL",
           "Cloudy"
          ],
          [
           "Johnson City",
           "NY",
           "Partly Cloudy"
          ],
          [
           "Columbia",
           "SC",
           "Fair"
          ],
          [
           "Arnold",
           "MO",
           "Clear"
          ],
          [
           "Springfield Gardens",
           "NY",
           "Fair"
          ],
          [
           "Willows",
           "CA",
           "Partly Cloudy"
          ],
          [
           "Cypress",
           "TX",
           "Thunder in the Vicinity"
          ],
          [
           "Hardeeville",
           "SC",
           "Cloudy"
          ],
          [
           "Livermore",
           "CA",
           "Clear"
          ],
          [
           "San Antonio",
           "TX",
           "Cloudy"
          ],
          [
           "Kirkland",
           "WA",
           "Light Rain"
          ],
          [
           "Duluth",
           "MN",
           "Light Snow"
          ],
          [
           "Houston",
           "TX",
           "Mostly Cloudy"
          ],
          [
           "Tucson",
           "AZ",
           "Cloudy / Windy"
          ],
          [
           "Miami",
           "FL",
           "Mostly Cloudy"
          ],
          [
           "Villa Park",
           "IL",
           "Light Rain"
          ],
          [
           "Hazelton",
           "ID",
           "Fair"
          ],
          [
           "Tarpon Springs",
           "FL",
           "Fair"
          ],
          [
           "Carson",
           "CA",
           "Mostly Cloudy"
          ],
          [
           "Arroyo Grande",
           "CA",
           "Fair"
          ],
          [
           "Honea Path",
           "SC",
           "Fair"
          ],
          [
           "Chicago",
           "IL",
           "Cloudy"
          ],
          [
           "Houston",
           "TX",
           "Clear"
          ],
          [
           "Powder Springs",
           "GA",
           "Mostly Cloudy"
          ],
          [
           "Chattanooga",
           "TN",
           "Fair"
          ],
          [
           "Phoenix",
           "AZ",
           "Mostly Cloudy"
          ],
          [
           "New Orleans",
           "LA",
           "Cloudy"
          ],
          [
           "Pikeville",
           "TN",
           "Clear"
          ],
          [
           "Zebulon",
           "NC",
           "Overcast"
          ],
          [
           "Sacramento",
           "CA",
           "Scattered Clouds"
          ],
          [
           "Lehi",
           "UT",
           "Mostly Cloudy"
          ],
          [
           "Clayton",
           "NC",
           "Light Rain"
          ],
          [
           "Petaluma",
           "CA",
           "Cloudy"
          ],
          [
           "Tarpon Springs",
           "FL",
           "Partly Cloudy"
          ],
          [
           "Syracuse",
           "NY",
           "Scattered Clouds"
          ],
          [
           "Shippenville",
           "PA",
           "Haze"
          ],
          [
           "Thousand Oaks",
           "CA",
           "Fair"
          ],
          [
           "New Orleans",
           "LA",
           "Fair"
          ],
          [
           "Elk Grove",
           "CA",
           "Fair"
          ],
          [
           "Litchfield",
           "IL",
           "Partly Cloudy"
          ],
          [
           "Fort Worth",
           "TX",
           "Haze"
          ],
          [
           "Moss Beach",
           "CA",
           "Fair"
          ],
          [
           "Oak Grove",
           "MO",
           "Heavy Rain"
          ],
          [
           "Raleigh",
           "NC",
           "Scattered Clouds"
          ],
          [
           "Salt Lake City",
           "UT",
           "Mostly Cloudy"
          ],
          [
           "Cowpens",
           "SC",
           "Fair"
          ],
          [
           "Baldwin Park",
           "CA",
           "Mostly Cloudy"
          ],
          [
           "Los Angeles",
           "CA",
           "Fair"
          ],
          [
           "Columbus",
           "OH",
           "Overcast"
          ],
          [
           "Wamsutter",
           "WY",
           "Mostly Cloudy"
          ],
          [
           "Madison",
           "TN",
           "Mostly Cloudy"
          ],
          [
           "Orlando",
           "FL",
           "Partly Cloudy"
          ],
          [
           "Miami",
           "FL",
           "Fair"
          ],
          [
           "Augusta",
           "ME",
           "Overcast"
          ],
          [
           "Bakersfield",
           "CA",
           "Fair"
          ],
          [
           "Anaheim",
           "CA",
           "Fair"
          ],
          [
           "Waterloo",
           "IA",
           "Cloudy / Windy"
          ],
          [
           "Cerritos",
           "CA",
           "Partly Cloudy"
          ],
          [
           "Sumner",
           "WA",
           "Overcast"
          ],
          [
           "Los Angeles",
           "CA",
           "Overcast"
          ],
          [
           "Miami",
           "FL",
           "Mostly Cloudy"
          ],
          [
           "Zeeland",
           "MI",
           "Clear"
          ],
          [
           "Surprise",
           "AZ",
           "Fair"
          ],
          [
           "Roosevelt",
           "NY",
           "Fair"
          ],
          [
           "San Mateo",
           "CA",
           "Mostly Cloudy"
          ],
          [
           "Saint Paul",
           "MN",
           "Fair"
          ],
          [
           "Spartanburg",
           "SC",
           "Fair"
          ],
          [
           "Sacramento",
           "CA",
           "Fog"
          ],
          [
           "Mason",
           "MI",
           "Overcast"
          ],
          [
           "Panama City",
           "FL",
           "Partly Cloudy"
          ],
          [
           "Miami",
           "FL",
           "Fair"
          ],
          [
           "Tyler",
           "TX",
           "Fair / Windy"
          ],
          [
           "Wadsworth",
           "IL",
           "Light Snow"
          ],
          [
           "Danville",
           "CA",
           "Clear"
          ],
          [
           "Los Angeles",
           "CA",
           "Fair"
          ],
          [
           "Fort Lauderdale",
           "FL",
           "Heavy Rain"
          ],
          [
           "Marlton",
           "NJ",
           "Overcast"
          ],
          [
           "Nevada City",
           "CA",
           "Fair"
          ],
          [
           "Likely",
           "CA",
           "Fair"
          ],
          [
           "Antioch",
           "TN",
           "Cloudy"
          ],
          [
           "Miami",
           "FL",
           "Clear"
          ],
          [
           "North Salt Lake",
           "UT",
           "Light Snow"
          ],
          [
           "Edmond",
           "OK",
           "Cloudy"
          ],
          [
           "Wake Forest",
           "NC",
           "Clear"
          ],
          [
           "Valencia",
           "CA",
           "Fair"
          ],
          [
           "Birmingham",
           "AL",
           "Light Rain"
          ],
          [
           "Brooklyn",
           "NY",
           "Clear"
          ],
          [
           "Roseville",
           "CA",
           "Fair"
          ],
          [
           "Fort Bliss",
           "TX",
           "Mostly Cloudy"
          ],
          [
           "Greensboro",
           "NC",
           "Fair"
          ],
          [
           "West Palm Beach",
           "FL",
           "Light Rain"
          ],
          [
           "Hagerstown",
           "MD",
           "Cloudy"
          ],
          [
           "Houston",
           "TX",
           "Scattered Clouds"
          ],
          [
           "Yonkers",
           "NY",
           "Light Snow"
          ],
          [
           "Ontario",
           "CA",
           "Light Rain"
          ],
          [
           "Tulsa",
           "OK",
           "Fair"
          ],
          [
           "Phoenix",
           "AZ",
           "Fair"
          ],
          [
           "Mansfield",
           "MA",
           "Clear"
          ],
          [
           "Tuscaloosa",
           "AL",
           "Rain"
          ],
          [
           "Houston",
           "TX",
           "Clear"
          ],
          [
           "Miami",
           "FL",
           "Fair"
          ],
          [
           "Asheville",
           "NC",
           "Cloudy"
          ],
          [
           "Winchester",
           "CA",
           "Fair"
          ],
          [
           "Visalia",
           "CA",
           "Fair"
          ],
          [
           "Woodland Hills",
           "CA",
           "Clear"
          ],
          [
           "Santa Maria",
           "CA",
           "Cloudy"
          ],
          [
           "Orlando",
           "FL",
           "Partly Cloudy"
          ],
          [
           "Azusa",
           "CA",
           "Clear"
          ],
          [
           "Birmingham",
           "AL",
           "T-Storm"
          ],
          [
           "Saddle Brook",
           "NJ",
           "Cloudy"
          ],
          [
           "Fresno",
           "CA",
           "Mostly Cloudy"
          ],
          [
           "Matthews",
           "NC",
           "Cloudy"
          ],
          [
           "Charlotte",
           "NC",
           "Fair"
          ],
          [
           "Bradenton",
           "FL",
           "Fair"
          ],
          [
           "Orlando",
           "FL",
           "Scattered Clouds"
          ],
          [
           "Emeryville",
           "CA",
           "Mostly Cloudy"
          ],
          [
           "Cutler Bay",
           "FL",
           "Fair"
          ],
          [
           "Sacramento",
           "CA",
           "Clear"
          ],
          [
           "Duarte",
           "CA",
           "Fair"
          ],
          [
           "Tampa",
           "FL",
           "Partly Cloudy"
          ],
          [
           "Leesburg",
           "VA",
           "Mostly Cloudy"
          ],
          [
           "Loomis",
           "CA",
           "Fair"
          ],
          [
           "Boca Raton",
           "FL",
           "Fair"
          ],
          [
           "Petersburg",
           "VA",
           null
          ],
          [
           "Columbus",
           "OH",
           "Partly Cloudy"
          ],
          [
           "Houston",
           "TX",
           "Cloudy"
          ],
          [
           "Fountain Valley",
           "CA",
           "Scattered Clouds"
          ],
          [
           "Plainfield",
           "IN",
           "Cloudy"
          ],
          [
           "Dillon",
           "SC",
           "Fair"
          ],
          [
           "Hacienda Heights",
           "CA",
           "Fair"
          ],
          [
           "Marysville",
           "CA",
           "Fog"
          ],
          [
           "Ontario",
           "CA",
           "Mostly Cloudy"
          ],
          [
           "Seattle",
           "WA",
           "Clear"
          ],
          [
           "Jessup",
           "MD",
           "Clear"
          ],
          [
           "El Paso",
           "TX",
           "Partly Cloudy"
          ],
          [
           "Camp Hill",
           "PA",
           "Cloudy"
          ],
          [
           "Bakersfield",
           "CA",
           "Clear"
          ],
          [
           "Tulsa",
           "OK",
           "Fair"
          ],
          [
           "Hendersonville",
           "NC",
           "Fair"
          ],
          [
           "Tampa",
           "FL",
           "Clear"
          ],
          [
           "Ocala",
           "FL",
           "Fair"
          ],
          [
           "Lake Zurich",
           "IL",
           "Mostly Cloudy"
          ],
          [
           "Bradenton",
           "FL",
           "Overcast"
          ],
          [
           "Torrance",
           "CA",
           "Partly Cloudy"
          ],
          [
           "Bloomingdale",
           "GA",
           "Fair"
          ],
          [
           "Dallas",
           "GA",
           "Cloudy"
          ],
          [
           "Springfield",
           "VA",
           "Fair"
          ],
          [
           "Bloomington",
           "CA",
           "Fair"
          ],
          [
           "San Antonio",
           "TX",
           "Overcast"
          ],
          [
           "Flowood",
           "MS",
           "Light Rain"
          ],
          [
           "Moraine",
           "OH",
           "Cloudy"
          ],
          [
           "New York",
           "NY",
           "Fair"
          ],
          [
           "Miami",
           "FL",
           "Mostly Cloudy"
          ],
          [
           "Cleveland",
           "OH",
           "Scattered Clouds"
          ],
          [
           "Tulsa",
           "OK",
           "Fair"
          ],
          [
           "Cherry Valley",
           "IL",
           "Fair"
          ],
          [
           "Lorton",
           "VA",
           "Mostly Cloudy"
          ],
          [
           "Abington",
           "PA",
           "Light Rain"
          ],
          [
           "Seaside",
           "CA",
           "Cloudy"
          ],
          [
           "New Orleans",
           "LA",
           "Partly Cloudy"
          ],
          [
           "Anderson",
           "IN",
           "Clear"
          ],
          [
           "Flint",
           "MI",
           "Fair"
          ],
          [
           "Columbus",
           "NJ",
           "Fair / Windy"
          ],
          [
           "Mc Coll",
           "SC",
           "Fair"
          ],
          [
           "New Zion",
           "SC",
           "Fair"
          ],
          [
           "Houston",
           "TX",
           "Clear"
          ],
          [
           "Saint Paul",
           "MN",
           "Fair"
          ],
          [
           "Spokane",
           "WA",
           "Overcast"
          ],
          [
           "Reno",
           "NV",
           "Fog"
          ],
          [
           "Henrico",
           "VA",
           "Fair"
          ],
          [
           "Merced",
           "CA",
           "Fair"
          ],
          [
           "Henrico",
           "VA",
           "Mostly Cloudy"
          ],
          [
           "Eugene",
           "OR",
           "Overcast"
          ],
          [
           "Tualatin",
           "OR",
           "Mostly Cloudy"
          ],
          [
           "Richmond",
           "VA",
           "Fair"
          ],
          [
           "Newburgh",
           "NY",
           "Fair"
          ],
          [
           "Portland",
           "OR",
           "Light Rain"
          ],
          [
           "Miami",
           "FL",
           "Fair"
          ],
          [
           "Wallingford",
           "CT",
           "Clear"
          ],
          [
           "Klamath Falls",
           "OR",
           "Fair"
          ],
          [
           "Mobile",
           "AL",
           "Fair"
          ],
          [
           "New Orleans",
           "LA",
           "Fair"
          ],
          [
           "Sanford",
           "FL",
           "Fair"
          ],
          [
           "Richmond",
           "VA",
           "Clear"
          ],
          [
           "Corona",
           "NY",
           "Fair"
          ],
          [
           "Jim Thorpe",
           "PA",
           "Light Rain"
          ],
          [
           "Gaffney",
           "SC",
           "Partly Cloudy"
          ],
          [
           "Chicago Heights",
           "IL",
           "Fair"
          ],
          [
           "Sacramento",
           "CA",
           "Fair"
          ],
          [
           "Houston",
           "TX",
           "Fair"
          ],
          [
           "Rose Hill",
           "IA",
           null
          ],
          [
           "Blue River",
           "OR",
           "Mostly Cloudy"
          ],
          [
           "Carol Stream",
           "IL",
           "Clear"
          ],
          [
           "Chesapeake",
           "VA",
           "Partly Cloudy / Windy"
          ],
          [
           "Norcross",
           "GA",
           "Fair"
          ],
          [
           "Washington",
           "DC",
           "Fair"
          ],
          [
           "Summerville",
           "SC",
           null
          ],
          [
           "Patchogue",
           "NY",
           "Partly Cloudy"
          ],
          [
           "Pinewood",
           "SC",
           "Cloudy"
          ],
          [
           "Lititz",
           "PA",
           "Clear"
          ],
          [
           "Rochester",
           "NY",
           "Mostly Cloudy"
          ],
          [
           "Rock Hill",
           "SC",
           "Cloudy"
          ],
          [
           "Newark",
           "NJ",
           "Cloudy"
          ],
          [
           "Springfield",
           "NE",
           "Cloudy"
          ],
          [
           "Saint Paul",
           "MN",
           "Clear"
          ],
          [
           "Portland",
           "OR",
           "Fair"
          ],
          [
           "Tracy",
           "CA",
           "Fair"
          ],
          [
           "Austin",
           "TX",
           "Fair"
          ],
          [
           "Duluth",
           "GA",
           "Scattered Clouds"
          ],
          [
           "Upper Darby",
           "PA",
           "Mostly Cloudy"
          ],
          [
           "Kenosha",
           "WI",
           "Light Snow"
          ],
          [
           "Hialeah",
           "FL",
           "Rain"
          ],
          [
           "Boston",
           "MA",
           "Cloudy"
          ],
          [
           "Saint Louis",
           "MO",
           "Mostly Cloudy"
          ],
          [
           "Los Angeles",
           "CA",
           "Fair"
          ],
          [
           "Lake Forest",
           "CA",
           "Mostly Cloudy"
          ],
          [
           "Ashland",
           "VA",
           "Fair"
          ],
          [
           "Pennsburg",
           "PA",
           "Clear"
          ],
          [
           "Palmdale",
           "CA",
           "Fair"
          ],
          [
           "Melbourne",
           "FL",
           "Clear"
          ],
          [
           "Bishop",
           "CA",
           "Partly Cloudy"
          ],
          [
           "Columbia",
           "SC",
           "Cloudy"
          ],
          [
           "Clover",
           "SC",
           "Fair"
          ],
          [
           "San Martin",
           "CA",
           "Fair"
          ],
          [
           "Tucson",
           "AZ",
           "Fair"
          ],
          [
           "Sylmar",
           "CA",
           "Rain"
          ],
          [
           "Burton",
           "MI",
           "Clear"
          ],
          [
           "Jasper",
           "AL",
           "Fair"
          ],
          [
           "Rotonda West",
           "FL",
           "Fair"
          ],
          [
           "Surprise",
           "AZ",
           "Fair"
          ],
          [
           "Newark",
           "NJ",
           "Partly Cloudy"
          ],
          [
           "Algodones",
           "NM",
           "Fair"
          ],
          [
           "Jamaica",
           "NY",
           "Mostly Cloudy"
          ],
          [
           "Savannah",
           "GA",
           "Cloudy"
          ],
          [
           "Gardena",
           "CA",
           "Clear"
          ],
          [
           "Bronx",
           "NY",
           "Mostly Cloudy"
          ],
          [
           "Gardendale",
           "AL",
           "Mostly Cloudy"
          ],
          [
           "Los Angeles",
           "CA",
           "Light Rain"
          ],
          [
           "Lehigh Acres",
           "FL",
           "Clear"
          ],
          [
           "North Hollywood",
           "CA",
           "Clear"
          ],
          [
           "Delano",
           "CA",
           "Fair"
          ],
          [
           "Shreveport",
           "LA",
           "Partly Cloudy"
          ],
          [
           "Long Beach",
           "CA",
           "Haze"
          ],
          [
           "Raleigh",
           "NC",
           "Scattered Clouds"
          ],
          [
           "Rowland Heights",
           "CA",
           "Fair"
          ],
          [
           "Flint",
           "MI",
           "Scattered Clouds"
          ],
          [
           "Whitesboro",
           "NY",
           "Fair"
          ],
          [
           "Calistoga",
           "CA",
           "Overcast"
          ],
          [
           "Union",
           "NJ",
           "Mostly Cloudy"
          ],
          [
           "Moreno Valley",
           "CA",
           "Fair"
          ],
          [
           "Concord",
           "NC",
           "Cloudy"
          ],
          [
           "Cocoa",
           "FL",
           "Fair"
          ],
          [
           "Bishop",
           "CA",
           "Fair"
          ],
          [
           "Bronx",
           "NY",
           "Light Rain"
          ],
          [
           "Briarcliff Manor",
           "NY",
           "Mostly Cloudy"
          ],
          [
           "Park City",
           "UT",
           null
          ],
          [
           "Lancaster",
           "SC",
           "Cloudy"
          ],
          [
           "Narberth",
           "PA",
           "Cloudy"
          ],
          [
           "Danville",
           "CA",
           "Mostly Cloudy"
          ],
          [
           "Bartlett",
           "IL",
           "Clear"
          ],
          [
           "Houston",
           "TX",
           "Fair"
          ],
          [
           "Falls Church",
           "VA",
           "Fair"
          ],
          [
           "Hialeah",
           "FL",
           "Clear"
          ],
          [
           "Clearwater",
           "FL",
           "Fair"
          ],
          [
           "Norwalk",
           "CT",
           "Cloudy"
          ],
          [
           "Acton",
           "CA",
           "Fair"
          ],
          [
           "Grand Rapids",
           "MI",
           "Cloudy"
          ],
          [
           "Houston",
           "TX",
           "Fair"
          ],
          [
           "North Hollywood",
           "CA",
           "Fair"
          ],
          [
           "Dallas",
           "TX",
           "Mostly Cloudy"
          ],
          [
           "San Jose",
           "CA",
           "Fair"
          ],
          [
           "Woodburn",
           "OR",
           "Fair"
          ],
          [
           "Dayton",
           "OH",
           "Fair"
          ],
          [
           "Winter Park",
           "FL",
           "Mostly Cloudy"
          ],
          [
           "Nashville",
           "TN",
           "Mostly Cloudy"
          ],
          [
           "San Antonio",
           "FL",
           "Partly Cloudy"
          ],
          [
           "Jenkintown",
           "PA",
           "Light Rain"
          ],
          [
           "Princeton",
           "MN",
           "Fair"
          ],
          [
           "Ontario",
           "CA",
           "Partly Cloudy"
          ],
          [
           "Hollywood",
           "FL",
           "Fair"
          ],
          [
           "Union City",
           "GA",
           "Overcast"
          ],
          [
           "Charlotte",
           "NC",
           "Cloudy"
          ],
          [
           "Houston",
           "TX",
           "Clear"
          ],
          [
           "Salinas",
           "CA",
           "Fair"
          ],
          [
           "Chicago",
           "IL",
           "Light Rain"
          ],
          [
           "Minneapolis",
           "MN",
           "Wintry Mix"
          ],
          [
           "Battle Creek",
           "MI",
           "Clear"
          ],
          [
           "Yonkers",
           "NY",
           "Partly Cloudy"
          ],
          [
           "La Canada Flintridge",
           "CA",
           null
          ],
          [
           "Fort Washington",
           "PA",
           null
          ],
          [
           "Bellevue",
           "WA",
           "Cloudy"
          ],
          [
           "Carnesville",
           "GA",
           "Cloudy"
          ],
          [
           "Lisle",
           "IL",
           "Mostly Cloudy"
          ],
          [
           "Coalville",
           "UT",
           null
          ],
          [
           "Bronx",
           "NY",
           "Partly Cloudy"
          ],
          [
           "Tucson",
           "AZ",
           "Fair"
          ],
          [
           "Pittsburgh",
           "PA",
           "Light Drizzle"
          ],
          [
           "Peachtree City",
           "GA",
           "Overcast"
          ],
          [
           "Avon",
           "IN",
           "Partly Cloudy"
          ],
          [
           "Richmond",
           "VA",
           "Overcast"
          ],
          [
           "Weston",
           "MA",
           "Clear"
          ],
          [
           "Los Angeles",
           "CA",
           "Fair"
          ],
          [
           "Norfolk",
           "VA",
           "Mostly Cloudy"
          ],
          [
           "Reddick",
           "FL",
           "Mostly Cloudy"
          ],
          [
           "Ventura",
           "CA",
           "Partly Cloudy"
          ],
          [
           "District Heights",
           "MD",
           "Light Rain"
          ],
          [
           "Fresno",
           "CA",
           "Fog"
          ],
          [
           "Jacksonville",
           "FL",
           "Fog"
          ],
          [
           "Raleigh",
           "NC",
           "Fair"
          ],
          [
           "Santa Ana",
           "CA",
           "Scattered Clouds"
          ],
          [
           "Saint Cloud",
           "FL",
           "Fair"
          ],
          [
           "Irving",
           "TX",
           "Thunder"
          ],
          [
           "Riverside",
           "CA",
           "Fair"
          ],
          [
           "Bluffton",
           "SC",
           "Cloudy"
          ],
          [
           "Houston",
           "TX",
           "Partly Cloudy"
          ],
          [
           "San Bernardino",
           "CA",
           "Fair"
          ],
          [
           "Sparks",
           "NV",
           "Fair"
          ],
          [
           "West Palm Beach",
           "FL",
           "Scattered Clouds"
          ],
          [
           "Charlotte",
           "NC",
           "Scattered Clouds"
          ],
          [
           "East Stroudsburg",
           "PA",
           "Fair"
          ],
          [
           "San Clemente",
           "CA",
           "Mostly Cloudy"
          ],
          [
           "San Marcos",
           "CA",
           "Mostly Cloudy"
          ],
          [
           "Midlothian",
           "VA",
           "Clear"
          ],
          [
           "Indianapolis",
           "IN",
           "Clear"
          ],
          [
           "Pasadena",
           "CA",
           null
          ],
          [
           "Los Angeles",
           "CA",
           "Scattered Clouds"
          ],
          [
           "Orlando",
           "FL",
           "Fair"
          ],
          [
           "Centerville",
           "UT",
           "Light Rain"
          ],
          [
           "Rochester",
           "MN",
           "Cloudy"
          ],
          [
           "Huntington Park",
           "CA",
           "Cloudy"
          ],
          [
           "Buffalo",
           "NY",
           "Light Rain"
          ],
          [
           "Minneapolis",
           "MN",
           "Fair"
          ],
          [
           "Anaheim",
           "CA",
           "Fair"
          ],
          [
           "Phoenix",
           "AZ",
           "Thunder in the Vicinity"
          ],
          [
           "Fort Washington",
           "MD",
           "Cloudy"
          ],
          [
           "Athens",
           "AL",
           "Heavy T-Storm"
          ],
          [
           "Piedmont",
           "SC",
           "Cloudy"
          ],
          [
           "Charlotte",
           "NC",
           "Mostly Cloudy"
          ],
          [
           "Annville",
           "PA",
           "Fair"
          ],
          [
           "Kissimmee",
           "FL",
           "Fair"
          ],
          [
           "Columbus",
           "OH",
           "Cloudy"
          ],
          [
           "Hawthorne",
           "CA",
           "Fair"
          ],
          [
           "Houston",
           "TX",
           "Partly Cloudy"
          ],
          [
           "Fountain Valley",
           "CA",
           "Fair"
          ],
          [
           "Tucson",
           "AZ",
           "Fair"
          ],
          [
           "Houston",
           "TX",
           "Fair"
          ],
          [
           "Knightdale",
           "NC",
           "Cloudy"
          ],
          [
           "Austin",
           "TX",
           "Fair"
          ],
          [
           "Sacramento",
           "CA",
           "Fair"
          ],
          [
           "Merrimack",
           "NH",
           "Partly Cloudy"
          ],
          [
           "Austin",
           "TX",
           "Cloudy"
          ],
          [
           "Winnsboro",
           "SC",
           "Fair"
          ],
          [
           "Weehawken",
           "NJ",
           "Fair"
          ],
          [
           "Jericho",
           "NY",
           "Fair"
          ],
          [
           "Livermore",
           "CA",
           "Fair"
          ],
          [
           "Topock",
           "AZ",
           "Fair"
          ],
          [
           "North Chicago",
           "IL",
           "Clear"
          ],
          [
           "Salem",
           "VA",
           "Rain"
          ],
          [
           "Tenmile",
           "OR",
           "Mostly Cloudy"
          ],
          [
           "Newport News",
           "VA",
           "Overcast"
          ],
          [
           "Chico",
           "CA",
           "Fair"
          ],
          [
           "Anaheim",
           "CA",
           "Haze"
          ],
          [
           "Newport",
           "MN",
           "Fair"
          ],
          [
           "Mount Morris",
           "MI",
           "Clear"
          ],
          [
           "Miami",
           "FL",
           "Fair"
          ],
          [
           "Clermont",
           "FL",
           "Fair"
          ],
          [
           "Portland",
           "OR",
           "Cloudy"
          ],
          [
           "Menomonee Falls",
           "WI",
           "Cloudy"
          ],
          [
           "Mira Loma",
           "CA",
           "Haze"
          ],
          [
           "Phoenix",
           "AZ",
           "Partly Cloudy"
          ],
          [
           "Tulsa",
           "OK",
           "Fair"
          ],
          [
           "Johnstown",
           "CO",
           "Clear"
          ],
          [
           "Atlanta",
           "GA",
           "Overcast"
          ],
          [
           "Compton",
           "CA",
           "Cloudy"
          ],
          [
           "Miami",
           "FL",
           null
          ],
          [
           "Whittier",
           "CA",
           "Scattered Clouds"
          ],
          [
           "Wyncote",
           "PA",
           "Partly Cloudy"
          ],
          [
           "San Leandro",
           "CA",
           "Cloudy"
          ],
          [
           "Atlanta",
           "GA",
           "Fair"
          ],
          [
           "Madison",
           "TN",
           "Fair"
          ],
          [
           "Orlando",
           "FL",
           "Fair"
          ],
          [
           "Houston",
           "TX",
           "Light Rain"
          ],
          [
           "Rochester",
           "NY",
           "Mostly Cloudy"
          ],
          [
           "San Diego",
           "CA",
           "Partly Cloudy"
          ],
          [
           "Munds Park",
           "AZ",
           "Cloudy"
          ],
          [
           "Marana",
           "AZ",
           "Rain"
          ],
          [
           "Whittier",
           "CA",
           "Fair"
          ],
          [
           "Los Angeles",
           "CA",
           "Fair"
          ],
          [
           "Atlanta",
           "GA",
           "T-Storm"
          ],
          [
           "Apex",
           "NC",
           "Fair"
          ],
          [
           "Orlando",
           "FL",
           "Fair"
          ],
          [
           "Lehi",
           "UT",
           "Mostly Cloudy"
          ],
          [
           "Carlisle",
           "PA",
           "Fair"
          ],
          [
           "Nashville",
           "TN",
           "Mostly Cloudy"
          ],
          [
           "Bakersfield",
           "CA",
           "Fair"
          ],
          [
           "Charlotte",
           "NC",
           "Fair"
          ],
          [
           "Winter Garden",
           "FL",
           "Clear"
          ],
          [
           "Sacramento",
           "CA",
           null
          ],
          [
           "Antelope",
           "CA",
           "Partly Cloudy"
          ],
          [
           "Los Angeles",
           "CA",
           "Cloudy"
          ],
          [
           "Tomball",
           "TX",
           "Overcast"
          ],
          [
           "Tampa",
           "FL",
           "Fair"
          ],
          [
           "San Diego",
           "CA",
           "Fair"
          ],
          [
           "San Bruno",
           "CA",
           "Partly Cloudy"
          ],
          [
           "Jersey City",
           "NJ",
           "Fair"
          ],
          [
           "Sacramento",
           "CA",
           "Mostly Cloudy"
          ],
          [
           "Gardena",
           "CA",
           "Cloudy"
          ],
          [
           "Phillipsburg",
           "NJ",
           "Fair"
          ],
          [
           "Austin",
           "TX",
           "T-Storm"
          ],
          [
           "Riverside",
           "CA",
           "Fair"
          ],
          [
           "Whippany",
           "NJ",
           "Mostly Cloudy"
          ],
          [
           "Greenville",
           "SC",
           "Cloudy"
          ],
          [
           "Menard",
           "TX",
           "Cloudy"
          ],
          [
           "South Jordan",
           "UT",
           "Fair"
          ],
          [
           "Sarasota",
           "FL",
           "Fair"
          ],
          [
           "Columbia",
           "SC",
           "Cloudy"
          ],
          [
           "Milford",
           "MA",
           "Overcast"
          ],
          [
           "Pensacola",
           "FL",
           "Fair"
          ],
          [
           "Strathmore",
           "CA",
           "Fair"
          ],
          [
           "Gustine",
           "CA",
           "Fair"
          ],
          [
           "Auburn Hills",
           "MI",
           "Mostly Cloudy"
          ],
          [
           "Reno",
           "NV",
           "Mostly Cloudy"
          ],
          [
           "Raleigh",
           "NC",
           "Mostly Cloudy"
          ],
          [
           "Jacksonville",
           "FL",
           "Mostly Cloudy"
          ],
          [
           "Upland",
           "CA",
           "Fair"
          ],
          [
           "Kissimmee",
           "FL",
           "Fair"
          ],
          [
           "Jacksonville",
           "FL",
           "Mostly Cloudy"
          ],
          [
           "Minneapolis",
           "MN",
           "Fair"
          ],
          [
           "Kingstree",
           "SC",
           "Fair"
          ],
          [
           "Wichita Falls",
           "TX",
           "Fair"
          ],
          [
           "Miami",
           "FL",
           "Partly Cloudy"
          ],
          [
           "Flint",
           "MI",
           "Light Rain"
          ],
          [
           "Pacoima",
           "CA",
           "Fair"
          ],
          [
           "Pelzer",
           "SC",
           "Cloudy"
          ],
          [
           "Berwick",
           "PA",
           "Fair"
          ],
          [
           "Lithia Springs",
           "GA",
           "Cloudy"
          ],
          [
           "Brooklyn",
           "NY",
           "Cloudy"
          ],
          [
           "West Harrison",
           "NY",
           "Mostly Cloudy"
          ],
          [
           "Houston",
           "TX",
           "Light Drizzle"
          ],
          [
           "Dallas",
           "TX",
           "Light Rain"
          ],
          [
           "Oklahoma City",
           "OK",
           "Light Rain"
          ],
          [
           "Charlotte",
           "NC",
           "Fair"
          ],
          [
           "Southfields",
           "NY",
           "Fair"
          ],
          [
           "East Walpole",
           "MA",
           "Clear"
          ],
          [
           "Saint Louis",
           "MO",
           "Overcast"
          ],
          [
           "Berlin",
           "MD",
           "Mostly Cloudy"
          ],
          [
           "East Providence",
           "RI",
           "Rain"
          ],
          [
           "Enoree",
           "SC",
           "Fair"
          ],
          [
           "Orlando",
           "FL",
           "Partly Cloudy"
          ],
          [
           "Longwood",
           "FL",
           "Partly Cloudy"
          ],
          [
           "Atlanta",
           "GA",
           "Fair"
          ],
          [
           "Belleville",
           "MI",
           "Light Rain"
          ],
          [
           "Dayton",
           "OH",
           "Mostly Cloudy"
          ],
          [
           "Felton",
           "CA",
           "Clear"
          ],
          [
           "Hauppauge",
           "NY",
           "Fair"
          ],
          [
           "Belton",
           "SC",
           "Fair"
          ],
          [
           "Longs",
           "SC",
           "Cloudy"
          ],
          [
           "Orlando",
           "FL",
           "Fair"
          ],
          [
           "Bruceton Mills",
           "WV",
           "Partly Cloudy"
          ],
          [
           "Grand Rapids",
           "MI",
           "Mostly Cloudy"
          ],
          [
           "Nashua",
           "NH",
           "Fair"
          ],
          [
           "Washington",
           "DC",
           "Mostly Cloudy"
          ],
          [
           "Halethorpe",
           "MD",
           "Fair"
          ],
          [
           "Kansas City",
           "MO",
           "Fair"
          ],
          [
           "Saratoga Springs",
           "NY",
           "Clear"
          ],
          [
           "Blythewood",
           "SC",
           "Mostly Cloudy"
          ],
          [
           "Atlanta",
           "GA",
           "Fair"
          ],
          [
           "Millersville",
           "MD",
           "Fair"
          ],
          [
           "Houston",
           "TX",
           "Overcast"
          ],
          [
           "Wrightsville",
           "PA",
           "Overcast"
          ],
          [
           "Tampa",
           "FL",
           null
          ],
          [
           "Holbrook",
           "AZ",
           "Fair"
          ],
          [
           "Downey",
           "CA",
           "Fair"
          ],
          [
           "Miami",
           "FL",
           "Mostly Cloudy"
          ],
          [
           "Fort Pierce",
           "FL",
           "Fair"
          ],
          [
           "Tallahassee",
           "FL",
           "Fog"
          ],
          [
           "Waltham",
           "MA",
           "Fair"
          ],
          [
           "Fremont",
           "OH",
           "Cloudy"
          ],
          [
           "Jacksonville",
           "FL",
           "Fair"
          ],
          [
           "Phoenix",
           "AZ",
           "Rain"
          ],
          [
           "Escalon",
           "CA",
           "Fair"
          ],
          [
           "Azusa",
           "CA",
           "Fair"
          ],
          [
           "San Diego",
           "CA",
           "Fair"
          ],
          [
           "Abington",
           "PA",
           "Mostly Cloudy"
          ],
          [
           "Phoenix",
           "AZ",
           "Clear"
          ],
          [
           "Saddle River",
           "NJ",
           "Fair"
          ],
          [
           "Hayward",
           "CA",
           "Fair"
          ],
          [
           "Fresno",
           "CA",
           "Fair"
          ],
          [
           "Baton Rouge",
           "LA",
           "Clear"
          ],
          [
           "Doswell",
           "VA",
           "Fair"
          ],
          [
           "Hurst",
           "TX",
           "Cloudy"
          ],
          [
           "San Dimas",
           "CA",
           "Fair"
          ],
          [
           "Charleston",
           "SC",
           "Clear"
          ],
          [
           "Beech Island",
           "SC",
           "Clear"
          ],
          [
           "Lake Hughes",
           "CA",
           "Fair"
          ],
          [
           "Orlando",
           "FL",
           "Partly Cloudy"
          ],
          [
           "Bloomsburg",
           "PA",
           "Mostly Cloudy"
          ],
          [
           "Uniontown",
           "PA",
           "Partly Cloudy"
          ],
          [
           "San Jose",
           "CA",
           "Partly Cloudy"
          ],
          [
           "Mira Loma",
           "CA",
           "Scattered Clouds"
          ],
          [
           "Nashville",
           "TN",
           "Partly Cloudy"
          ],
          [
           "Detroit",
           "MI",
           "Fair"
          ],
          [
           "Hawthorne",
           "NY",
           "Partly Cloudy"
          ],
          [
           "Miami Gardens",
           "FL",
           "Clear"
          ],
          [
           "Harrisburg",
           "PA",
           "Fair"
          ],
          [
           "Charlotte",
           "NC",
           "Overcast"
          ],
          [
           "Saint Petersburg",
           "FL",
           "Clear"
          ],
          [
           "Chiloquin",
           "OR",
           "Mostly Cloudy"
          ],
          [
           "Charlotte",
           "NC",
           "Fair"
          ],
          [
           "Greenwood",
           "SC",
           "Partly Cloudy"
          ],
          [
           "Tallahassee",
           "FL",
           "Partly Cloudy"
          ],
          [
           "Latta",
           "SC",
           "Fair"
          ],
          [
           "Minneapolis",
           "MN",
           "Mostly Cloudy"
          ],
          [
           "Highland",
           "NY",
           "Light Rain"
          ],
          [
           "Colorado Springs",
           "CO",
           "Light Rain"
          ],
          [
           "North Richland Hills",
           "TX",
           "Cloudy"
          ],
          [
           "Fort Monroe",
           "VA",
           "Cloudy"
          ],
          [
           "Duncan",
           "SC",
           "Light Rain"
          ],
          [
           "Middletown",
           "DE",
           "Clear"
          ],
          [
           "Winchester",
           "VA",
           "Fair"
          ],
          [
           "North Grosvenordale",
           "CT",
           "Light Rain"
          ],
          [
           "Phoenix",
           "AZ",
           "Fair"
          ],
          [
           "Dallas",
           "TX",
           "Clear"
          ],
          [
           "Dallas",
           "TX",
           "Fair"
          ],
          [
           "Norfolk",
           "VA",
           "Mostly Cloudy"
          ],
          [
           "Castro Valley",
           "CA",
           "Fair"
          ],
          [
           "Lodi",
           "CA",
           "Clear"
          ],
          [
           "Denver",
           "CO",
           "Mostly Cloudy"
          ],
          [
           "Santa Rosa",
           "CA",
           "Fair"
          ],
          [
           "Detroit",
           "MI",
           "Partly Cloudy"
          ],
          [
           "Mc Farland",
           "CA",
           "Fair"
          ],
          [
           "Fort Worth",
           "TX",
           "Clear"
          ],
          [
           "McFarland",
           "CA",
           "Haze"
          ],
          [
           "Framingham",
           "MA",
           "Overcast"
          ],
          [
           "Miami",
           "FL",
           "Cloudy / Windy"
          ],
          [
           "Huntsville",
           "AL",
           "Fair"
          ],
          [
           "Katy",
           "TX",
           "Partly Cloudy"
          ],
          [
           "Woodbridge",
           "VA",
           "Fair"
          ],
          [
           "Lancaster",
           "SC",
           "Fair"
          ],
          [
           "Phoenix",
           "AZ",
           "Clear"
          ],
          [
           "Kansas City",
           "MO",
           "Mostly Cloudy"
          ],
          [
           "Higginsville",
           "MO",
           "Fair"
          ],
          [
           "Heron Lake",
           "MN",
           "Rain"
          ],
          [
           "Nashville",
           "TN",
           "Cloudy"
          ],
          [
           "San Antonio",
           "TX",
           "Light Rain"
          ],
          [
           "Nashville",
           "TN",
           "Overcast"
          ],
          [
           "Greenville",
           "SC",
           "Mostly Cloudy"
          ],
          [
           "West Sacramento",
           "CA",
           "Haze"
          ],
          [
           "Shorewood",
           "IL",
           "Scattered Clouds"
          ],
          [
           "Heber City",
           "UT",
           null
          ],
          [
           "Riverside",
           "CA",
           "Fair"
          ],
          [
           "Seaside",
           "OR",
           "Rain"
          ],
          [
           "Denver",
           "CO",
           "Partly Cloudy"
          ],
          [
           "Dallas",
           "TX",
           "Fair"
          ],
          [
           "Spokane",
           "WA",
           "Mostly Cloudy"
          ],
          [
           "Pflugerville",
           "TX",
           "Light Rain"
          ],
          [
           "Atlanta",
           "GA",
           "Scattered Clouds"
          ],
          [
           "Garden Grove",
           "CA",
           "Partly Cloudy"
          ],
          [
           "Charlotte",
           "NC",
           "Scattered Clouds"
          ],
          [
           "Oklahoma City",
           "OK",
           "Cloudy"
          ],
          [
           "Carson",
           "CA",
           "Clear"
          ],
          [
           "Middletown",
           "MD",
           "Clear"
          ],
          [
           "Albany",
           "NY",
           "Fair"
          ],
          [
           "Thomasville",
           "PA",
           "Cloudy"
          ],
          [
           "Saint Cloud",
           "MN",
           "Light Snow"
          ],
          [
           "Oklahoma City",
           "OK",
           "Mostly Cloudy"
          ],
          [
           "Iowa City",
           "IA",
           "Clear"
          ],
          [
           "West Covina",
           "CA",
           "Fair"
          ],
          [
           "Daytona Beach",
           "FL",
           "Heavy Rain"
          ],
          [
           "Miami",
           "FL",
           "Mostly Cloudy"
          ],
          [
           "Waynesville",
           "OH",
           "Rain"
          ],
          [
           "Boiling Springs",
           "SC",
           "Fair"
          ],
          [
           "Baton Rouge",
           "LA",
           "Clear"
          ],
          [
           "Stoughton",
           "MA",
           "Cloudy"
          ],
          [
           "Dayton",
           "OH",
           "Scattered Clouds"
          ],
          [
           "Novi",
           "MI",
           "Partly Cloudy"
          ],
          [
           "Greensboro",
           "NC",
           "Partly Cloudy"
          ],
          [
           "Berthoud",
           "CO",
           "Fair"
          ],
          [
           "Mission Viejo",
           "CA",
           "Partly Cloudy"
          ],
          [
           "Wesley Chapel",
           "FL",
           "Overcast"
          ],
          [
           "La Jolla",
           "CA",
           null
          ],
          [
           "Woodstock",
           "VA",
           "Partly Cloudy"
          ],
          [
           "Apple Valley",
           "CA",
           "Fair"
          ],
          [
           "Dorchester",
           "MA",
           "Patches of Fog"
          ],
          [
           "Dallas",
           "TX",
           "Partly Cloudy"
          ],
          [
           "Weehawken",
           "NJ",
           "Cloudy"
          ],
          [
           "Norwalk",
           "CA",
           "Haze"
          ],
          [
           "Pomona",
           "CA",
           "Fair"
          ],
          [
           "Vacaville",
           "CA",
           "Partly Cloudy"
          ],
          [
           "Culbertson",
           "MT",
           "Light Snow"
          ],
          [
           "Seattle",
           "WA",
           "Fair"
          ],
          [
           "Charlottesville",
           "VA",
           "Cloudy"
          ],
          [
           "Dinwiddie",
           "VA",
           "Cloudy"
          ],
          [
           "Los Angeles",
           "CA",
           "Fair"
          ],
          [
           "Dallas",
           "TX",
           "Cloudy"
          ],
          [
           "Hauppauge",
           "NY",
           "Light Rain"
          ],
          [
           "Bagley",
           "MN",
           "Fair"
          ],
          [
           "Lawrenceville",
           "PA",
           "Partly Cloudy"
          ],
          [
           "Westport",
           "CT",
           "Clear"
          ],
          [
           "Scotrun",
           "PA",
           "Fair"
          ],
          [
           "Nathrop",
           "CO",
           "Partly Cloudy"
          ],
          [
           "Oklahoma City",
           "OK",
           "Clear"
          ],
          [
           "Greenville",
           "SC",
           "Mostly Cloudy"
          ],
          [
           "Houston",
           "TX",
           "Mostly Cloudy"
          ],
          [
           "North Miami",
           "FL",
           "Mostly Cloudy"
          ],
          [
           "Dallas",
           "TX",
           "Mostly Cloudy"
          ],
          [
           "Henrico",
           "VA",
           "Mostly Cloudy"
          ],
          [
           "Jacksonville",
           "FL",
           "Mostly Cloudy"
          ],
          [
           "Visalia",
           "CA",
           "Fair"
          ],
          [
           "Taylors",
           "SC",
           "Heavy Rain"
          ],
          [
           "Chicago",
           "IL",
           "Partly Cloudy"
          ],
          [
           "Ontario",
           "CA",
           "Partly Cloudy"
          ],
          [
           "Newark",
           "NJ",
           "Cloudy"
          ],
          [
           "Walton",
           "OR",
           "Light Freezing Rain"
          ],
          [
           "Alexandria",
           "VA",
           "Fair"
          ],
          [
           "Riverside",
           "CA",
           "Overcast"
          ],
          [
           "Hamburg",
           "AR",
           "Fair"
          ],
          [
           "Fairfield",
           "CA",
           "Scattered Clouds"
          ],
          [
           "Melrose Park",
           "IL",
           "Mostly Cloudy"
          ],
          [
           "Wayne",
           "PA",
           "Mostly Cloudy"
          ],
          [
           "Mill Valley",
           "CA",
           "Fair"
          ],
          [
           "Austin",
           "TX",
           "Overcast"
          ],
          [
           "Nashville",
           "TN",
           "Cloudy"
          ],
          [
           "Suamico",
           "WI",
           "Light Rain"
          ],
          [
           "Charlotte",
           "NC",
           "Fair"
          ],
          [
           "San Carlos",
           "CA",
           "Fair"
          ],
          [
           "Hempstead",
           "NY",
           "Mostly Cloudy"
          ],
          [
           "Caledonia",
           "MI",
           "Mostly Cloudy"
          ],
          [
           "Hobe Sound",
           "FL",
           "Fair"
          ],
          [
           "Los Angeles",
           "CA",
           "Fair"
          ],
          [
           "Tracy",
           "CA",
           "Clear"
          ],
          [
           "Darlington",
           "MD",
           "Cloudy"
          ],
          [
           "Orlando",
           "FL",
           "Fair"
          ],
          [
           "El Paso",
           "TX",
           "Scattered Clouds"
          ],
          [
           "Park City",
           "MT",
           "Cloudy"
          ],
          [
           "Bronx",
           "NY",
           "Fair"
          ],
          [
           "Lafayette",
           "IN",
           "Overcast"
          ],
          [
           "Rochester",
           "NY",
           "Partly Cloudy"
          ],
          [
           "Bradenton",
           "FL",
           "Fair"
          ],
          [
           "Baton Rouge",
           "LA",
           "Fair"
          ],
          [
           "Merritt Island",
           "FL",
           "Light Drizzle"
          ],
          [
           "Monticello",
           "UT",
           null
          ],
          [
           "Miami",
           "FL",
           "Light Rain"
          ],
          [
           "Mullins",
           "SC",
           "Overcast"
          ],
          [
           "Palmetto",
           "FL",
           "Fair"
          ],
          [
           "Monrovia",
           "CA",
           "Overcast"
          ],
          [
           "Groveland",
           "FL",
           "Clear"
          ],
          [
           "Santa Fe Springs",
           "CA",
           "Partly Cloudy"
          ],
          [
           "Moreno Valley",
           "CA",
           "Fair"
          ],
          [
           "Baton Rouge",
           "LA",
           "Fair"
          ],
          [
           "Houston",
           "TX",
           "Partly Cloudy"
          ],
          [
           "Littleton",
           "CO",
           "Partly Cloudy"
          ],
          [
           "Woodland Hills",
           "CA",
           "Fair"
          ],
          [
           "Raleigh",
           "NC",
           "Clear"
          ],
          [
           "Austin",
           "TX",
           "Clear"
          ],
          [
           "Los Angeles",
           "CA",
           "Overcast"
          ],
          [
           "Norfolk",
           "VA",
           "Partly Cloudy"
          ],
          [
           "Phoenix",
           "AZ",
           "Mostly Cloudy"
          ],
          [
           "Anaheim",
           "CA",
           "Fair"
          ],
          [
           "Redding",
           "CA",
           "Partly Cloudy"
          ],
          [
           "Baton Rouge",
           "LA",
           "Overcast"
          ],
          [
           "Azusa",
           "CA",
           "Cloudy"
          ],
          [
           "Lynwood",
           "CA",
           "Fair"
          ],
          [
           "Oakland",
           "CA",
           "Partly Cloudy"
          ],
          [
           "Vernon Hills",
           "IL",
           "Clear"
          ],
          [
           "Boiling Springs",
           "SC",
           "Fair"
          ],
          [
           "Saint Paul",
           "MN",
           "Light Snow"
          ],
          [
           "Madison Heights",
           "MI",
           "Overcast"
          ],
          [
           "Calabasas",
           "CA",
           "Cloudy"
          ],
          [
           "Tulsa",
           "OK",
           "Clear"
          ],
          [
           "San Marcos",
           "CA",
           "Haze"
          ],
          [
           "Goodlettsville",
           "TN",
           "Partly Cloudy"
          ],
          [
           "Lafayette",
           "LA",
           "Fair"
          ],
          [
           "Houston",
           "TX",
           "Cloudy"
          ],
          [
           "Milwaukee",
           "WI",
           "Mostly Cloudy"
          ],
          [
           "Fort Worth",
           "TX",
           "Fair"
          ],
          [
           "Myrtle Point",
           "OR",
           "Cloudy"
          ],
          [
           "Austin",
           "TX",
           "Fair"
          ],
          [
           "Salt Lake City",
           "UT",
           "Partly Cloudy"
          ],
          [
           "Milwaukee",
           "WI",
           "Mostly Cloudy"
          ],
          [
           "Orlando",
           "FL",
           "Partly Cloudy"
          ],
          [
           "Richmond",
           "VA",
           "Fair"
          ],
          [
           "Newark",
           "NJ",
           "Partly Cloudy"
          ],
          [
           "Augusta",
           "GA",
           "Light Rain"
          ],
          [
           "Seattle",
           "WA",
           "Light Rain"
          ],
          [
           "Somis",
           "CA",
           "Fair"
          ],
          [
           "Saint Louis",
           "MO",
           "Fair"
          ],
          [
           "Atlanta",
           "GA",
           "Clear"
          ],
          [
           "Tracy",
           "CA",
           "Fair"
          ],
          [
           "Charlotte",
           "NC",
           "Mostly Cloudy"
          ],
          [
           "Stinson Beach",
           "CA",
           "Fair"
          ],
          [
           "La Puente",
           "CA",
           "Fair"
          ],
          [
           "Fremont",
           "CA",
           "Clear"
          ],
          [
           "Tucson",
           "AZ",
           "Fair"
          ],
          [
           "Charlotte",
           "NC",
           "Partly Cloudy"
          ],
          [
           "Saint Paul",
           "MN",
           "Mostly Cloudy"
          ],
          [
           "Charlotte",
           "NC",
           "Overcast"
          ],
          [
           "Memphis",
           "TN",
           "Fair"
          ],
          [
           "Costa Mesa",
           "CA",
           "Overcast"
          ],
          [
           "Atlanta",
           "GA",
           "Overcast"
          ],
          [
           "Midlothian",
           "IL",
           "Light Rain / Windy"
          ],
          [
           "Tampa",
           "FL",
           "Mostly Cloudy"
          ],
          [
           "Stockton",
           "CA",
           "Fair"
          ],
          [
           "Austin",
           "TX",
           "Clear"
          ],
          [
           "Irvine",
           "CA",
           "Clear"
          ],
          [
           "Sauk Rapids",
           "MN",
           "Fair"
          ],
          [
           "Waddell",
           "AZ",
           "Fair"
          ],
          [
           "Dothan",
           "AL",
           "Mostly Cloudy"
          ],
          [
           "Corona",
           "CA",
           "Fair"
          ],
          [
           "Rensselaer",
           "IN",
           "Fair"
          ],
          [
           "Baldwin Park",
           "CA",
           "Clear"
          ],
          [
           "Oroville",
           "CA",
           "Fair"
          ],
          [
           "Petersburg",
           "VA",
           null
          ],
          [
           "Chesapeake",
           "VA",
           "Clear"
          ],
          [
           "San Diego",
           "CA",
           "Mostly Cloudy"
          ],
          [
           "Miami",
           "FL",
           "Mostly Cloudy"
          ],
          [
           "Tolleson",
           "AZ",
           "Partly Cloudy"
          ],
          [
           "Milton",
           "FL",
           "Mostly Cloudy"
          ],
          [
           "Round Lake",
           "IL",
           "Clear"
          ],
          [
           "Palm Harbor",
           "FL",
           "Mostly Cloudy"
          ],
          [
           "New York",
           "NY",
           "Clear"
          ],
          [
           "Marietta",
           "SC",
           "Light Rain"
          ],
          [
           "Shreveport",
           "LA",
           "Clear"
          ],
          [
           "Tooele",
           "UT",
           "Fair"
          ],
          [
           "Greenville",
           "SC",
           "Fair"
          ],
          [
           "San Diego",
           "CA",
           "Fair"
          ],
          [
           "Long Beach",
           "CA",
           "Clear"
          ],
          [
           "York",
           "PA",
           "Fair"
          ],
          [
           "Overland Park",
           "KS",
           "Fair"
          ],
          [
           "Fullerton",
           "CA",
           "Fair"
          ],
          [
           "Orlando",
           "FL",
           "Mostly Cloudy"
          ],
          [
           "Venice",
           "FL",
           "Cloudy"
          ],
          [
           "Suitland",
           "MD",
           "Cloudy"
          ],
          [
           "Daly City",
           "CA",
           "Fair"
          ],
          [
           "Cleveland",
           "OH",
           "Fair"
          ],
          [
           "Newark",
           "NJ",
           "Cloudy"
          ],
          [
           "Lexington",
           "SC",
           "Mostly Cloudy"
          ],
          [
           "Whiteland",
           "IN",
           "Fair"
          ],
          [
           "Hacienda Heights",
           "CA",
           "Clear"
          ],
          [
           "Fincastle",
           "VA",
           "Fair"
          ],
          [
           "Cleveland",
           "OH",
           "Overcast"
          ],
          [
           "Antioch",
           "TN",
           "Cloudy"
          ],
          [
           "Flushing",
           "NY",
           "Cloudy"
          ],
          [
           "East Saint Louis",
           "IL",
           "Heavy Rain"
          ],
          [
           "Nashville",
           "TN",
           "Light Drizzle"
          ],
          [
           "Modesto",
           "CA",
           "Clear"
          ],
          [
           "Ontario",
           "CA",
           "Haze"
          ],
          [
           "Syracuse",
           "NY",
           "Mostly Cloudy"
          ],
          [
           "Monsey",
           "NY",
           "Mostly Cloudy"
          ],
          [
           "El Paso",
           "TX",
           "Clear"
          ],
          [
           "Cincinnati",
           "OH",
           "Mostly Cloudy"
          ],
          [
           "Tucson",
           "AZ",
           "Clear"
          ],
          [
           "Nevada City",
           "CA",
           "Fair"
          ],
          [
           "Old Westbury",
           "NY",
           "Fair"
          ],
          [
           "York",
           "PA",
           "Light Snow"
          ],
          [
           "Silver Spring",
           "MD",
           "Fair"
          ],
          [
           "Stockton",
           "CA",
           "Light Rain"
          ],
          [
           "Louisville",
           "KY",
           "Light Snow"
          ],
          [
           "Tampa",
           "FL",
           "Fair"
          ],
          [
           "Saint Paul",
           "MN",
           "Fair"
          ],
          [
           "New Orleans",
           "LA",
           "Cloudy"
          ],
          [
           "Pasadena",
           "CA",
           null
          ],
          [
           "Orlando",
           "FL",
           "Fair"
          ],
          [
           "Walnut Creek",
           "CA",
           "Fair"
          ],
          [
           "Decatur",
           "GA",
           "Cloudy"
          ],
          [
           "Nashville",
           "TN",
           "Partly Cloudy"
          ],
          [
           "Great Neck",
           "NY",
           "Overcast"
          ],
          [
           "Salt Lake City",
           "UT",
           "Overcast"
          ],
          [
           "Miami",
           "FL",
           "Cloudy"
          ],
          [
           "Irvine",
           "CA",
           "Partly Cloudy"
          ],
          [
           "Sonoma",
           "CA",
           "Mostly Cloudy"
          ],
          [
           "Houston",
           "TX",
           "Mostly Cloudy"
          ],
          [
           "Oklahoma City",
           "OK",
           "Fair"
          ],
          [
           "Vista",
           "CA",
           "Overcast"
          ],
          [
           "Baldwin",
           "ND",
           "Cloudy"
          ],
          [
           "Kansas City",
           "MO",
           "Fair"
          ],
          [
           "Massillon",
           "OH",
           "Cloudy"
          ],
          [
           "Wells",
           "NV",
           "Fair"
          ],
          [
           "San Diego",
           "CA",
           "Clear"
          ],
          [
           "Monroeville",
           "PA",
           "Light Snow"
          ],
          [
           "Blanca",
           "CO",
           "Fair"
          ],
          [
           "Gridley",
           "CA",
           "Cloudy"
          ],
          [
           "Tacoma",
           "WA",
           "Cloudy"
          ],
          [
           "Glenwood Springs",
           "CO",
           "Light Snow"
          ],
          [
           "Nanty Glo",
           "PA",
           "Fair"
          ],
          [
           "Miami",
           "FL",
           "Mostly Cloudy"
          ],
          [
           "Los Angeles",
           "CA",
           "Overcast"
          ],
          [
           "Tampa",
           "FL",
           "Clear"
          ],
          [
           "Sarasota",
           "FL",
           "Fair"
          ],
          [
           "Tucson",
           "AZ",
           "Fair"
          ],
          [
           "Napa",
           "CA",
           "Fair"
          ],
          [
           "Houston",
           "TX",
           "Fair"
          ],
          [
           "Culver City",
           "CA",
           "Clear"
          ],
          [
           "North Miami",
           "FL",
           "Fair"
          ],
          [
           "Slater",
           "SC",
           "Fair"
          ],
          [
           "New Orleans",
           "LA",
           "Fair"
          ],
          [
           "Lenoir City",
           "TN",
           "Light Rain"
          ],
          [
           "Christiansburg",
           "VA",
           "Light Rain"
          ],
          [
           "Silverton",
           "OR",
           "Fair"
          ],
          [
           "Riverside",
           "CA",
           "Fair"
          ],
          [
           "Miami",
           "FL",
           "Fair"
          ],
          [
           "Sumter",
           "SC",
           "Rain"
          ],
          [
           "Salt Lake City",
           "UT",
           "Light Snow"
          ],
          [
           "New Orleans",
           "LA",
           "Fair"
          ],
          [
           "Miami",
           "FL",
           "Clear"
          ],
          [
           "Richmond",
           "VA",
           "Fair"
          ],
          [
           "Bradenton",
           "FL",
           "Fair"
          ],
          [
           "Costa Mesa",
           "CA",
           "Partly Cloudy"
          ],
          [
           "Riverside",
           "CA",
           "Fair"
          ],
          [
           "Whitefish",
           "MT",
           "Mostly Cloudy"
          ],
          [
           "Vallejo",
           "CA",
           "Fair"
          ],
          [
           "Los Angeles",
           "CA",
           "Fair"
          ],
          [
           "Sarasota",
           "FL",
           "Fair"
          ],
          [
           "Columbia",
           "SC",
           "Fair"
          ],
          [
           "Lancaster",
           "SC",
           null
          ],
          [
           "Newbury Park",
           "CA",
           "Fair / Windy"
          ],
          [
           "Washington",
           "DC",
           "Cloudy"
          ],
          [
           "Schaumburg",
           "IL",
           "Partly Cloudy"
          ],
          [
           "Hampton",
           "VA",
           null
          ],
          [
           "San Gregorio",
           "CA",
           "Clear"
          ],
          [
           "Los Angeles",
           "CA",
           "Fair"
          ],
          [
           "San Jose",
           "CA",
           "Haze"
          ],
          [
           "Salt Lake City",
           "UT",
           "Partly Cloudy"
          ],
          [
           "Selinsgrove",
           "PA",
           "Cloudy"
          ],
          [
           "San Jose",
           "CA",
           "Scattered Clouds"
          ],
          [
           "Chicago",
           "IL",
           "Partly Cloudy"
          ],
          [
           "Costa Mesa",
           "CA",
           "Fair"
          ],
          [
           "Royersford",
           "PA",
           "Clear"
          ],
          [
           "Houston",
           "TX",
           "Partly Cloudy"
          ],
          [
           "Augusta",
           "GA",
           "Overcast"
          ],
          [
           "Monson",
           "MA",
           "Light Snow"
          ],
          [
           "Sarasota",
           "FL",
           "Partly Cloudy"
          ],
          [
           "Brentwood",
           "NY",
           "Fair"
          ],
          [
           "New York",
           "NY",
           "Clear"
          ],
          [
           "Orlando",
           "FL",
           "Light Rain"
          ],
          [
           "Bethesda",
           "MD",
           "Cloudy"
          ],
          [
           "Boulder Creek",
           "CA",
           "Fair"
          ],
          [
           "Cambridge",
           "OH",
           "Mostly Cloudy"
          ],
          [
           "Arlington",
           "TX",
           "Clear"
          ],
          [
           "Miami",
           "FL",
           "Fair"
          ],
          [
           "Bettendorf",
           "IA",
           "Mostly Cloudy"
          ],
          [
           "Whittier",
           "CA",
           "Fair"
          ],
          [
           "Madison",
           "TN",
           "Mostly Cloudy"
          ],
          [
           "Rochester",
           "NY",
           "Light Drizzle"
          ],
          [
           "Greenville",
           "SC",
           "Fair"
          ],
          [
           "Niceville",
           "FL",
           "Fair"
          ],
          [
           "Glenbeulah",
           "WI",
           "Clear"
          ],
          [
           "Grand Rapids",
           "MI",
           "Fair"
          ],
          [
           "Longwood",
           "FL",
           "Fair"
          ],
          [
           "Raleigh",
           "NC",
           "Mostly Cloudy"
          ],
          [
           "Clackamas",
           "OR",
           "Clear"
          ],
          [
           "Miami",
           "FL",
           "Fair"
          ],
          [
           "Buffalo Junction",
           "VA",
           "Fair"
          ],
          [
           "Atlanta",
           "GA",
           "Fair"
          ],
          [
           "Doral",
           "FL",
           "Fair"
          ],
          [
           "New Albany",
           "IN",
           "Fair"
          ],
          [
           "Flushing",
           "NY",
           "Light Rain"
          ],
          [
           "West Burlington",
           "IA",
           "Clear"
          ],
          [
           "Indianapolis",
           "IN",
           "Light Thunderstorms and Rain"
          ],
          [
           "Charlotte",
           "NC",
           "Fair"
          ],
          [
           "Minneapolis",
           "MN",
           "Fair"
          ],
          [
           "Bedford",
           "MA",
           "Fair"
          ],
          [
           "Florence",
           "SC",
           "Fair"
          ],
          [
           "Santa Fe Springs",
           "CA",
           "Overcast"
          ],
          [
           "Portland",
           "OR",
           "Light Rain"
          ],
          [
           "Glen Ellen",
           "CA",
           "Fair"
          ],
          [
           "Glendora",
           "CA",
           "Clear"
          ],
          [
           "Phoenix",
           "AZ",
           "Clear"
          ],
          [
           "Mount Pleasant",
           "PA",
           "Cloudy"
          ],
          [
           "Tampa",
           "FL",
           "Cloudy"
          ],
          [
           "Los Angeles",
           "CA",
           "Fair"
          ],
          [
           "Locust Grove",
           "GA",
           "Mostly Cloudy"
          ],
          [
           "Hialeah",
           "FL",
           "Fair"
          ],
          [
           "Ridgefield Park",
           "NJ",
           "Cloudy"
          ],
          [
           "Sarasota",
           "FL",
           "Fair"
          ],
          [
           "Los Angeles",
           "CA",
           "Fair"
          ],
          [
           "Kershaw",
           "SC",
           "Fair"
          ],
          [
           "Chesterfield",
           "VA",
           "Clear"
          ],
          [
           "Bronx",
           "NY",
           "Light Rain"
          ],
          [
           "Lafayette",
           "LA",
           "Cloudy"
          ],
          [
           "Leland",
           "NC",
           "Light Rain"
          ],
          [
           "New York",
           "NY",
           "Clear"
          ],
          [
           "Largo",
           "FL",
           "Thunder in the Vicinity"
          ],
          [
           "Atlanta",
           "GA",
           "Clear"
          ],
          [
           "Gainesville",
           "FL",
           "Mostly Cloudy"
          ],
          [
           "Sorrento",
           "LA",
           "Fair"
          ],
          [
           "Portage",
           "MI",
           "Cloudy"
          ],
          [
           "Indianapolis",
           "IN",
           "Fair"
          ],
          [
           "Bristol",
           "VA",
           "Fair"
          ],
          [
           "Decatur",
           "GA",
           "Mostly Cloudy"
          ],
          [
           "Lynwood",
           "CA",
           "Fair"
          ],
          [
           "Diamond Bar",
           "CA",
           "Fair"
          ],
          [
           "West Linn",
           "OR",
           "Overcast"
          ],
          [
           "Minneapolis",
           "MN",
           "Fair"
          ],
          [
           "Boron",
           "CA",
           "Scattered Clouds"
          ],
          [
           "Rochester",
           "NY",
           "Mostly Cloudy"
          ],
          [
           "Mount Kisco",
           "NY",
           "Light Snow"
          ],
          [
           "Chiloquin",
           "OR",
           "Fair"
          ],
          [
           "Gilroy",
           "CA",
           "Cloudy"
          ],
          [
           "Huger",
           "SC",
           "Fog"
          ],
          [
           "South Beach",
           "OR",
           "Light Rain / Windy"
          ],
          [
           "Lafayette",
           "LA",
           "Clear"
          ],
          [
           "Raleigh",
           "NC",
           "Partly Cloudy"
          ],
          [
           "Nampa",
           "ID",
           "Cloudy"
          ],
          [
           "Newport",
           "KY",
           "Rain"
          ],
          [
           "Stratford",
           "CT",
           "Fair"
          ],
          [
           "Stafford",
           "VA",
           "Cloudy"
          ],
          [
           "Madison",
           "WI",
           "Cloudy"
          ],
          [
           "Montgomeryville",
           "PA",
           "Clear"
          ],
          [
           "Torrance",
           "CA",
           "Fair"
          ],
          [
           "Santa Rosa",
           "CA",
           "Fair"
          ],
          [
           "Monterey",
           "CA",
           "Clear"
          ],
          [
           "Reedley",
           "CA",
           "Cloudy"
          ],
          [
           "Charlotte",
           "NC",
           "Fair"
          ],
          [
           "Charlotte",
           "NC",
           "Clear"
          ],
          [
           "Kissimmee",
           "FL",
           "Clear"
          ],
          [
           "Pinole",
           "CA",
           "Clear"
          ],
          [
           "Edmond",
           "OK",
           "Light Rain"
          ],
          [
           "Charleston",
           "SC",
           "Fair"
          ],
          [
           "Pomona",
           "CA",
           "Mostly Cloudy"
          ],
          [
           "San Bernardino",
           "CA",
           "Fair"
          ],
          [
           "Nashville",
           "TN",
           "Mostly Cloudy"
          ],
          [
           "Baton Rouge",
           "LA",
           "Light Rain"
          ],
          [
           "Los Angeles",
           "CA",
           "Scattered Clouds"
          ],
          [
           "Miami",
           "FL",
           "Fair"
          ],
          [
           "Buffalo",
           "NY",
           "Fair"
          ],
          [
           "Atwater",
           "CA",
           "Fair"
          ],
          [
           "Grand Rapids",
           "MI",
           "Cloudy"
          ],
          [
           "Minneapolis",
           "MN",
           "Fair"
          ],
          [
           "Soddy Daisy",
           "TN",
           "Fair"
          ],
          [
           "Columbus",
           "OH",
           "Overcast"
          ],
          [
           "Fairfield",
           "CA",
           "Light Rain"
          ],
          [
           "Carol Stream",
           "IL",
           "Mostly Cloudy"
          ],
          [
           "Chattanooga",
           "TN",
           "Mostly Cloudy"
          ],
          [
           "York",
           "PA",
           "Cloudy"
          ],
          [
           "Rochester",
           "NY",
           "Fair"
          ],
          [
           "West Chicago",
           "IL",
           "Fair"
          ],
          [
           "Charlotte",
           "NC",
           "Mostly Cloudy"
          ],
          [
           "Pismo Beach",
           "CA",
           "Partly Cloudy"
          ],
          [
           "Benicia",
           "CA",
           "Fair"
          ],
          [
           "Bradenton",
           "FL",
           "Mostly Cloudy"
          ],
          [
           "Ventura",
           "CA",
           "Partly Cloudy"
          ],
          [
           "Morristown",
           "NJ",
           "Scattered Clouds"
          ],
          [
           "Lawrenceville",
           "GA",
           "Partly Cloudy"
          ],
          [
           "New Orleans",
           "LA",
           "Fair"
          ],
          [
           "Shreveport",
           "LA",
           "Fair"
          ],
          [
           "Cincinnati",
           "OH",
           "Clear"
          ],
          [
           "Oklahoma City",
           "OK",
           "Mostly Cloudy"
          ],
          [
           "Newhall",
           "CA",
           "Fair"
          ],
          [
           "Allentown",
           "PA",
           "Fair"
          ],
          [
           "Alpharetta",
           "GA",
           "Fair"
          ],
          [
           "Charlotte",
           "NC",
           "Fair"
          ],
          [
           "Morrisville",
           "NC",
           "Partly Cloudy"
          ],
          [
           "New Rochelle",
           "NY",
           "Mostly Cloudy"
          ],
          [
           "Los Angeles",
           "CA",
           "Haze"
          ],
          [
           "Pasadena",
           "CA",
           null
          ],
          [
           "North Wales",
           "PA",
           "Fair"
          ],
          [
           "Anaheim",
           "CA",
           "Fair"
          ],
          [
           "West Palm Beach",
           "FL",
           "Mostly Cloudy"
          ],
          [
           "Houston",
           "TX",
           "Overcast"
          ],
          [
           "Clovis",
           "CA",
           "Fair"
          ],
          [
           "Round Rock",
           "TX",
           "Fair"
          ],
          [
           "Maple Grove",
           "MN",
           "Overcast"
          ],
          [
           "Nashville",
           "TN",
           "Partly Cloudy"
          ],
          [
           "Estero",
           "FL",
           "Clear"
          ],
          [
           "San Antonio",
           "TX",
           "Fog"
          ],
          [
           "Cerritos",
           "CA",
           "Clear"
          ],
          [
           "Greenville",
           "SC",
           "Mostly Cloudy"
          ],
          [
           "Huntington",
           "OR",
           "Fair"
          ],
          [
           "Fort Mill",
           "SC",
           "Fair"
          ],
          [
           "Waukegan",
           "IL",
           "Clear"
          ],
          [
           "Compton",
           "CA",
           "Clear"
          ],
          [
           "Soquel",
           "CA",
           "Fair"
          ],
          [
           "Plant City",
           "FL",
           "Partly Cloudy"
          ],
          [
           "Birmingham",
           "AL",
           "Fair"
          ],
          [
           "Elizabeth",
           "NJ",
           "Overcast"
          ],
          [
           "Chino",
           "CA",
           "Partly Cloudy"
          ],
          [
           "West Jordan",
           "UT",
           "Partly Cloudy"
          ],
          [
           "Zachary",
           "LA",
           "Partly Cloudy"
          ],
          [
           "Memphis",
           "TN",
           "Overcast"
          ],
          [
           "Ashton",
           "IA",
           "Clear"
          ],
          [
           "Los Angeles",
           "CA",
           "Fair"
          ],
          [
           "Covington",
           "KY",
           "Mostly Cloudy"
          ],
          [
           "Osceola",
           "AR",
           "Cloudy"
          ],
          [
           "Chester",
           "VA",
           "Fair"
          ],
          [
           "Anaheim",
           "CA",
           "Clear"
          ],
          [
           "Victor",
           "MT",
           "Fair"
          ],
          [
           "Grand Rapids",
           "MI",
           "Rain"
          ],
          [
           "Yuba City",
           "CA",
           "Fair"
          ],
          [
           "Raleigh",
           "NC",
           "Light Drizzle"
          ],
          [
           "Utica",
           "NY",
           "Partly Cloudy"
          ],
          [
           "Walnut",
           "CA",
           "Haze"
          ],
          [
           "Casa Grande",
           "AZ",
           "Fair"
          ],
          [
           "Lakeland",
           "FL",
           "Fair"
          ],
          [
           "Austin",
           "TX",
           "Cloudy"
          ],
          [
           "Charlotte",
           "NC",
           "Mostly Cloudy"
          ],
          [
           "Newville",
           "PA",
           "Mostly Cloudy"
          ],
          [
           "Clinton Township",
           "MI",
           "Light Snow"
          ],
          [
           "Johnson City",
           "TN",
           "Partly Cloudy"
          ],
          [
           "Wasco",
           "CA",
           "Mostly Cloudy"
          ],
          [
           "Houston",
           "TX",
           "Fair"
          ],
          [
           "Wickliffe",
           "OH",
           "Cloudy"
          ],
          [
           "Ogden",
           "UT",
           "Cloudy"
          ],
          [
           "Keithville",
           "LA",
           "Cloudy"
          ],
          [
           "Chisago City",
           "MN",
           "Fair"
          ],
          [
           "Estero",
           "FL",
           "Fog"
          ],
          [
           "Monroeville",
           "PA",
           "Mostly Cloudy"
          ],
          [
           "Milton",
           "MA",
           null
          ],
          [
           "Henrico",
           "VA",
           "Fair"
          ],
          [
           "Long Beach",
           "CA",
           "Clear"
          ],
          [
           "Bethesda",
           "MD",
           "Partly Cloudy"
          ],
          [
           "Seattle",
           "WA",
           "Light Rain"
          ],
          [
           "Okatie",
           "SC",
           "Partly Cloudy"
          ],
          [
           "Fontana",
           "CA",
           "Fair"
          ],
          [
           "Wellford",
           "SC",
           "Fair"
          ],
          [
           "Sacramento",
           "CA",
           "Mostly Cloudy"
          ],
          [
           "Dallas",
           "TX",
           "Mostly Cloudy"
          ],
          [
           "Malabar",
           "FL",
           "Fair"
          ],
          [
           "Prattville",
           "AL",
           "Cloudy"
          ],
          [
           "Charlotte",
           "NC",
           "Fair"
          ],
          [
           "Springfield",
           "VA",
           "Fair"
          ],
          [
           "Mount Jackson",
           "VA",
           "Fair"
          ],
          [
           "North Grafton",
           "MA",
           "Mostly Cloudy"
          ],
          [
           "Strathmore",
           "CA",
           "Fair"
          ],
          [
           "Bradenton",
           "FL",
           "Cloudy"
          ],
          [
           "Ona",
           "FL",
           "Fog"
          ],
          [
           "Land O Lakes",
           "FL",
           "Fair"
          ],
          [
           "Charlotte",
           "NC",
           "Rain"
          ],
          [
           "Raleigh",
           "NC",
           "Partly Cloudy"
          ],
          [
           "Taft",
           "CA",
           "Fair"
          ],
          [
           "Oakland",
           "CA",
           "Cloudy"
          ],
          [
           "Saint Louis",
           "MO",
           "Overcast"
          ],
          [
           "Corona",
           "CA",
           "Fair"
          ],
          [
           "Brooklyn",
           "NY",
           "Light Rain"
          ],
          [
           "Kernville",
           "CA",
           "Fair"
          ],
          [
           "Pueblo",
           "CO",
           "Fair"
          ],
          [
           "Jessup",
           "MD",
           "Mostly Cloudy"
          ],
          [
           "Miami",
           "FL",
           "Mostly Cloudy"
          ],
          [
           "Roswell",
           "GA",
           "Cloudy"
          ],
          [
           "Spring Hill",
           "FL",
           "Fair"
          ],
          [
           "Miami",
           "FL",
           "Light Rain"
          ],
          [
           "Orlando",
           "FL",
           "Mostly Cloudy"
          ],
          [
           "Miami",
           "FL",
           "Partly Cloudy"
          ],
          [
           "Wheaton",
           "IL",
           "Clear"
          ],
          [
           "Palmdale",
           "CA",
           "Fair"
          ],
          [
           "Reedsport",
           "OR",
           "Cloudy"
          ],
          [
           "Fullerton",
           "CA",
           "Clear"
          ],
          [
           "Baton Rouge",
           "LA",
           "Haze"
          ],
          [
           "Dallas",
           "TX",
           "Cloudy"
          ],
          [
           "Morgan",
           "UT",
           "Fair"
          ],
          [
           "San Francisco",
           "CA",
           "Fair / Windy"
          ],
          [
           "Lester Prairie",
           "MN",
           "Partly Cloudy"
          ],
          [
           "Corfu",
           "NY",
           "Scattered Clouds"
          ],
          [
           "Orlando",
           "FL",
           "Fair"
          ],
          [
           "Pompano Beach",
           "FL",
           "Fair"
          ],
          [
           "Denver",
           "CO",
           "Fair"
          ],
          [
           "Pleasanton",
           "CA",
           "Clear"
          ],
          [
           "Hurst",
           "TX",
           "Fair"
          ],
          [
           "Memphis",
           "TN",
           "Fair"
          ],
          [
           "Hollywood",
           "FL",
           "Partly Cloudy"
          ],
          [
           "San Antonio",
           "TX",
           "Cloudy"
          ],
          [
           "Belleville",
           "MI",
           "Clear"
          ],
          [
           "Boston",
           "MA",
           "Mostly Cloudy"
          ],
          [
           "Frederick",
           "MD",
           "Fair"
          ],
          [
           "Orlando",
           "FL",
           "Partly Cloudy"
          ],
          [
           "Otis",
           "OR",
           "Fog"
          ],
          [
           "Sacramento",
           "CA",
           "Mostly Cloudy"
          ],
          [
           "Wilmington",
           "DE",
           "Clear"
          ],
          [
           "Charlotte",
           "NC",
           "Clear"
          ],
          [
           "Santa Fe Springs",
           "CA",
           "Fair"
          ],
          [
           "Houston",
           "TX",
           "Scattered Clouds"
          ],
          [
           "Monmouth",
           "OR",
           "Overcast"
          ],
          [
           "Baton Rouge",
           "LA",
           "Fair"
          ],
          [
           "Fort Myers",
           "FL",
           "Fair"
          ],
          [
           "Shingletown",
           "CA",
           "Cloudy"
          ],
          [
           "Garland",
           "UT",
           "Overcast"
          ],
          [
           "Lebec",
           "CA",
           "Rain"
          ],
          [
           "Charlotte",
           "NC",
           "Overcast"
          ],
          [
           "Nashville",
           "TN",
           "Fair"
          ],
          [
           "Miami",
           "FL",
           "Light Rain"
          ],
          [
           "Altadena",
           "CA",
           null
          ],
          [
           "Nashville",
           "TN",
           "Cloudy"
          ],
          [
           "Rialto",
           "CA",
           "Fair"
          ],
          [
           "Flushing",
           "NY",
           "Cloudy"
          ],
          [
           "Homestead",
           "FL",
           "Fair"
          ],
          [
           "Cockeysville",
           "MD",
           null
          ],
          [
           "Fredericksburg",
           "VA",
           "Partly Cloudy"
          ],
          [
           "Everett",
           "WA",
           "Light Rain"
          ],
          [
           "Oakland",
           "CA",
           "Haze"
          ],
          [
           "Delhi",
           "CA",
           "Fair"
          ],
          [
           "Newton",
           "AL",
           "Fair"
          ],
          [
           "Ontario",
           "CA",
           "Fair"
          ],
          [
           "Eugene",
           "OR",
           "Mostly Cloudy"
          ],
          [
           "Brooksville",
           "FL",
           "Partly Cloudy"
          ],
          [
           "Dallas",
           "TX",
           "Fair"
          ],
          [
           "West Columbia",
           "SC",
           "Cloudy"
          ],
          [
           "Hagerstown",
           "MD",
           "Fair"
          ],
          [
           "New Haven",
           "IN",
           "Light Snow"
          ],
          [
           "Brooklyn",
           "NY",
           "Light Rain"
          ],
          [
           "Jackson",
           "TN",
           "Partly Cloudy"
          ],
          [
           "Lanesville",
           "NY",
           "Fair"
          ],
          [
           "Rancho Cucamonga",
           "CA",
           "Fair"
          ],
          [
           "Mesa",
           "AZ",
           "Fair"
          ],
          [
           "Sacramento",
           "CA",
           "Fair"
          ],
          [
           "Huntsville",
           "AL",
           "Fair"
          ],
          [
           "Jacksonville",
           "FL",
           "Mostly Cloudy"
          ],
          [
           "Fountain Valley",
           "CA",
           "Clear"
          ],
          [
           "Palo Alto",
           "CA",
           "Clear"
          ],
          [
           "Ruskin",
           "FL",
           "Fog"
          ],
          [
           "Concord",
           "CA",
           "Clear"
          ],
          [
           "Aldie",
           "VA",
           "Clear"
          ],
          [
           "Hammond",
           "IN",
           "Snow"
          ],
          [
           "Aurora",
           "CO",
           "Partly Cloudy"
          ],
          [
           "Hartford",
           "CT",
           "Clear"
          ],
          [
           "Pacoima",
           "CA",
           "Clear"
          ],
          [
           "Atlanta",
           "GA",
           "Clear"
          ],
          [
           "Port St Joe",
           "FL",
           "Fair"
          ],
          [
           "Jacksonville",
           "FL",
           "Mostly Cloudy"
          ],
          [
           "Minneapolis",
           "MN",
           "Fair"
          ],
          [
           "Highland",
           "CA",
           "Fair"
          ],
          [
           "Goshen",
           "NY",
           "Fair"
          ],
          [
           "Houston",
           "TX",
           null
          ],
          [
           "Hartford",
           "CT",
           "Light Rain"
          ],
          [
           "Lisbon",
           "OH",
           "Partly Cloudy"
          ],
          [
           "Spartanburg",
           "SC",
           "Light Rain"
          ],
          [
           "Lower Lake",
           "CA",
           "Mostly Cloudy"
          ],
          [
           "West Columbia",
           "SC",
           "Patches of Fog"
          ],
          [
           "Tomball",
           "TX",
           "T-Storm"
          ],
          [
           "Lamar",
           "CO",
           "Fair"
          ],
          [
           "Lodi",
           "CA",
           "Light Rain"
          ],
          [
           "Yalaha",
           "FL",
           "Cloudy"
          ],
          [
           "Mohnton",
           "PA",
           "Cloudy"
          ],
          [
           "Fremont",
           "CA",
           "Overcast"
          ],
          [
           "Orlando",
           "FL",
           "Partly Cloudy"
          ],
          [
           "Forest Grove",
           "OR",
           "Fair"
          ],
          [
           "Catoosa",
           "OK",
           "Light Rain"
          ],
          [
           "Welch",
           "MN",
           "Fair"
          ],
          [
           "Florence",
           "SC",
           "Rain"
          ],
          [
           "Pomona",
           "CA",
           "Cloudy"
          ],
          [
           "Hilliard",
           "OH",
           "Fair"
          ],
          [
           "Cayce",
           "SC",
           "Mostly Cloudy"
          ],
          [
           "District Heights",
           "MD",
           "Fair"
          ],
          [
           "Kings Park",
           "NY",
           "Mostly Cloudy"
          ],
          [
           "Beech Island",
           "SC",
           "Light Rain"
          ],
          [
           "Prattville",
           "AL",
           "Mostly Cloudy"
          ],
          [
           "Humble",
           "TX",
           "Scattered Clouds"
          ],
          [
           "Hendersonville",
           "NC",
           "Fair"
          ],
          [
           "Cerritos",
           "CA",
           "Clear"
          ],
          [
           "Glen Ellyn",
           "IL",
           "Fair"
          ],
          [
           "Aurora",
           "CO",
           "Mostly Cloudy"
          ],
          [
           "Warrenville",
           "IL",
           "Overcast"
          ],
          [
           "Myersville",
           "MD",
           null
          ],
          [
           "Charlotte",
           "NC",
           "Mostly Cloudy"
          ],
          [
           "New Port Richey",
           "FL",
           "Fair"
          ],
          [
           "Winston Salem",
           "NC",
           "Scattered Clouds"
          ],
          [
           "Carlisle",
           "PA",
           "Fair"
          ],
          [
           "Hacienda Heights",
           "CA",
           "Fair"
          ],
          [
           "Pendleton",
           "SC",
           "Cloudy"
          ],
          [
           "Laguna Niguel",
           "CA",
           "Mostly Cloudy"
          ],
          [
           "Johnstown",
           "PA",
           "Cloudy"
          ],
          [
           "Hialeah",
           "FL",
           "Fair"
          ],
          [
           "Petersburg",
           "VA",
           null
          ],
          [
           "Placerville",
           "CA",
           "Cloudy"
          ],
          [
           "Fredericksburg",
           "VA",
           "Fair"
          ],
          [
           "Fullerton",
           "CA",
           "Clear"
          ],
          [
           "Johnstown",
           "PA",
           "Cloudy"
          ],
          [
           "Irvington",
           "NJ",
           "Clear"
          ],
          [
           "Franklin Lakes",
           "NJ",
           "Light Rain"
          ],
          [
           "Oceanside",
           "CA",
           "Rain"
          ],
          [
           "Petersburg",
           "VA",
           null
          ],
          [
           "West Union",
           "SC",
           "Cloudy"
          ],
          [
           "Leonia",
           "NJ",
           "Partly Cloudy"
          ],
          [
           "Nashville",
           "TN",
           "Fair"
          ],
          [
           "Chattanooga",
           "TN",
           "Scattered Clouds"
          ],
          [
           "Mount Airy",
           "MD",
           "Clear"
          ],
          [
           "Green Bay",
           "VA",
           "Fair"
          ],
          [
           "Seattle",
           "WA",
           "Overcast"
          ],
          [
           "Moreno Valley",
           "CA",
           "Clear"
          ],
          [
           "Gardena",
           "CA",
           "Mostly Cloudy"
          ],
          [
           "Salinas",
           "CA",
           "Cloudy"
          ],
          [
           "Ontario",
           "CA",
           "Fair"
          ],
          [
           "Charlotte",
           "NC",
           "Mostly Cloudy"
          ],
          [
           "Chandler",
           "AZ",
           "Mostly Cloudy"
          ],
          [
           "Fort Bragg",
           "CA",
           "Fair"
          ],
          [
           "Gainesville",
           "GA",
           "Partly Cloudy"
          ],
          [
           "Los Angeles",
           "CA",
           "Haze"
          ],
          [
           "El Paso",
           "TX",
           "Fair"
          ],
          [
           "Greenfield",
           "IN",
           "Cloudy"
          ],
          [
           "Marietta",
           "SC",
           "Light Rain"
          ],
          [
           "Williamsburg",
           "VA",
           "Fair"
          ],
          [
           "Arlington",
           "OR",
           "Fair"
          ],
          [
           "Bronx",
           "NY",
           "Partly Cloudy"
          ],
          [
           "Los Angeles",
           "CA",
           "Fog"
          ],
          [
           "Coral Gables",
           "FL",
           "Mostly Cloudy"
          ],
          [
           "Diamond Bar",
           "CA",
           "Clear"
          ],
          [
           "Sherman Oaks",
           "CA",
           "Fair / Windy"
          ],
          [
           "Silver Spring",
           "MD",
           "Clear"
          ],
          [
           "Huntingdon",
           "PA",
           "Fair"
          ],
          [
           "Columbia",
           "SC",
           "Fair"
          ],
          [
           "Scappoose",
           "OR",
           "Fair"
          ],
          [
           "Martinez",
           "CA",
           "Cloudy"
          ],
          [
           "Pflugerville",
           "TX",
           "Overcast"
          ],
          [
           "Raleigh",
           "NC",
           "Cloudy"
          ],
          [
           "Austin",
           "TX",
           "Clear"
          ],
          [
           "Nashville",
           "TN",
           "Fair"
          ],
          [
           "Sacramento",
           "CA",
           "Mostly Cloudy"
          ],
          [
           "Conyers",
           "GA",
           "Light Rain"
          ],
          [
           "Sarasota",
           "FL",
           "Fair"
          ],
          [
           "Staten Island",
           "NY",
           "Rain"
          ],
          [
           "Nashville",
           "TN",
           "Partly Cloudy"
          ],
          [
           "Austin",
           "TX",
           "Light Rain"
          ],
          [
           "Mosier",
           "OR",
           "Light Snow"
          ],
          [
           "Lost Hills",
           "CA",
           "Fair"
          ],
          [
           "Falls Church",
           "VA",
           "Mostly Cloudy / Windy"
          ],
          [
           "Heber City",
           "UT",
           null
          ],
          [
           "Upper Marlboro",
           "MD",
           "Mostly Cloudy"
          ],
          [
           "Los Angeles",
           "CA",
           "Haze"
          ],
          [
           "Eugene",
           "OR",
           "Mostly Cloudy"
          ],
          [
           "Atlanta",
           "GA",
           "Partly Cloudy"
          ],
          [
           "Lancaster",
           "CA",
           "Fair"
          ],
          [
           "Salt Lake City",
           "UT",
           "Partly Cloudy"
          ],
          [
           "Grasonville",
           "MD",
           "Fair"
          ],
          [
           "Miami",
           "FL",
           "Fair"
          ],
          [
           "Inglewood",
           "CA",
           "Clear"
          ],
          [
           "Orlando",
           "FL",
           "Heavy T-Storm"
          ],
          [
           "Bradenton",
           "FL",
           "Fair"
          ],
          [
           "Azusa",
           "CA",
           "Fair"
          ],
          [
           "Gardena",
           "CA",
           "Cloudy"
          ],
          [
           "Virginia Beach",
           "VA",
           "Fair"
          ],
          [
           "Long Beach",
           "CA",
           "Fair"
          ],
          [
           "Fairfield",
           "CA",
           "Clear"
          ],
          [
           "New Orleans",
           "LA",
           "Haze"
          ],
          [
           "Willits",
           "CA",
           "Fair"
          ],
          [
           "Fort Worth",
           "TX",
           "Clear"
          ],
          [
           "Detroit",
           "MI",
           "Cloudy"
          ],
          [
           "Folsom",
           "CA",
           "Fair"
          ],
          [
           "Saint Paul",
           "MN",
           "Fair"
          ],
          [
           "Fairfield",
           "CA",
           "Fair"
          ],
          [
           "Bethesda",
           "MD",
           "Partly Cloudy"
          ],
          [
           "Charlotte",
           "NC",
           "Cloudy"
          ],
          [
           "Houston",
           "TX",
           "Fair"
          ],
          [
           "Venice",
           "FL",
           "Partly Cloudy"
          ],
          [
           "Halethorpe",
           "MD",
           "Light Rain"
          ],
          [
           "Huntington Station",
           "NY",
           "Fair"
          ],
          [
           "Miami",
           "FL",
           "Partly Cloudy"
          ],
          [
           "Draper",
           "UT",
           "Overcast"
          ],
          [
           "Charlotte",
           "NC",
           "Partly Cloudy"
          ],
          [
           "Chattanooga",
           "TN",
           "Fair"
          ],
          [
           "Santa Fe Springs",
           "CA",
           "Clear"
          ],
          [
           "New Port Richey",
           "FL",
           "Scattered Clouds"
          ],
          [
           "Mamaroneck",
           "NY",
           "Partly Cloudy"
          ],
          [
           "Austin",
           "TX",
           "Mostly Cloudy"
          ],
          [
           "Los Angeles",
           "CA",
           "Fair"
          ],
          [
           "Dallas",
           "TX",
           "Partly Cloudy"
          ],
          [
           "Brea",
           "CA",
           "Haze"
          ],
          [
           "Fontana",
           "CA",
           "Mostly Cloudy"
          ],
          [
           "Weehawken",
           "NJ",
           "Fair"
          ],
          [
           "Orlando",
           "FL",
           "Fair"
          ],
          [
           "Mesa",
           "AZ",
           "Mostly Cloudy"
          ],
          [
           "Palmetto",
           "GA",
           "Mostly Cloudy"
          ],
          [
           "Hampton",
           "VA",
           "Light Rain"
          ],
          [
           "Los Angeles",
           "CA",
           "Scattered Clouds"
          ],
          [
           "Barnwell",
           "SC",
           "Clear"
          ],
          [
           "Fort Lauderdale",
           "FL",
           "Fair"
          ],
          [
           "Newark",
           "NJ",
           "Partly Cloudy"
          ],
          [
           "Birmingham",
           "AL",
           "Cloudy"
          ],
          [
           "Broussard",
           "LA",
           "Mostly Cloudy"
          ],
          [
           "Greenville",
           "SC",
           "Fair"
          ],
          [
           "Houston",
           "TX",
           "Light Rain"
          ],
          [
           "Lorton",
           "VA",
           "Partly Cloudy"
          ],
          [
           "Hesperia",
           "CA",
           "Scattered Clouds"
          ],
          [
           "Palm Harbor",
           "FL",
           "Clear"
          ],
          [
           "Blacksburg",
           "SC",
           "Fair"
          ],
          [
           "Opa Locka",
           "FL",
           "Partly Cloudy"
          ],
          [
           "New York",
           "NY",
           "Mostly Cloudy"
          ],
          [
           "Oklahoma City",
           "OK",
           "Fair"
          ],
          [
           "Elmhurst",
           "NY",
           "Scattered Clouds"
          ],
          [
           "Dallas",
           "TX",
           "Fair"
          ],
          [
           "Gibsonton",
           "FL",
           "Fair"
          ],
          [
           "Gap",
           "PA",
           "Fair"
          ],
          [
           "Philadelphia",
           "PA",
           "Heavy Rain"
          ],
          [
           "West Palm Beach",
           "FL",
           "Mostly Cloudy"
          ],
          [
           "Frederick",
           "MD",
           "Cloudy"
          ],
          [
           "White Oak",
           "PA",
           "Clear"
          ],
          [
           "Nashville",
           "TN",
           "Cloudy"
          ],
          [
           "Sedona",
           "AZ",
           "Fair"
          ],
          [
           "Austin",
           "TX",
           "Overcast"
          ],
          [
           "Roselle",
           "IL",
           "Mostly Cloudy"
          ],
          [
           "Davis",
           "CA",
           "Fair"
          ],
          [
           "Rockford",
           "IL",
           null
          ],
          [
           "Washington",
           "DC",
           "Clear"
          ],
          [
           "Burlington",
           "MA",
           "Clear"
          ],
          [
           "Nashville",
           "TN",
           "Mostly Cloudy"
          ],
          [
           "Paradise",
           "PA",
           "Fair"
          ],
          [
           "Los Angeles",
           "CA",
           "Clear"
          ],
          [
           "Lanexa",
           "VA",
           "Fair"
          ],
          [
           "Lathrop",
           "CA",
           "Fair"
          ],
          [
           "Charlotte",
           "NC",
           "Fair"
          ],
          [
           "Tampa",
           "FL",
           "Partly Cloudy"
          ],
          [
           "Augusta",
           "GA",
           "Clear"
          ],
          [
           "Dallas",
           "TX",
           "Fair"
          ],
          [
           "Gaithersburg",
           "MD",
           "Scattered Clouds"
          ],
          [
           "Portland",
           "OR",
           "Cloudy"
          ],
          [
           "Inwood",
           "WV",
           "Fair"
          ],
          [
           "Ogden",
           "UT",
           "Fair"
          ],
          [
           "Cowpens",
           "SC",
           "Partly Cloudy"
          ],
          [
           "Luthersville",
           "GA",
           "Fair"
          ],
          [
           "Shreveport",
           "LA",
           "Fair"
          ],
          [
           "Hawthorne",
           "CA",
           "Overcast"
          ],
          [
           "Lund",
           "NV",
           "Fair"
          ],
          [
           "North Miami",
           "FL",
           "Fair"
          ],
          [
           "Pittsford",
           "NY",
           "Partly Cloudy"
          ],
          [
           "Oklahoma City",
           "OK",
           "Mostly Cloudy"
          ],
          [
           "San Ysidro",
           "CA",
           "Fair"
          ],
          [
           "Columbia",
           "SC",
           "Mostly Cloudy"
          ],
          [
           "Fowler",
           "CA",
           "Fair"
          ],
          [
           "Palm Harbor",
           "FL",
           "Light Thunderstorms and Rain"
          ],
          [
           "Portland",
           "OR",
           "Mostly Cloudy"
          ],
          [
           "Nashville",
           "TN",
           "Fog"
          ],
          [
           "Jacksonville",
           "FL",
           "Partly Cloudy"
          ],
          [
           "San Jose",
           "CA",
           "Mostly Cloudy"
          ],
          [
           "Houston",
           "TX",
           "Clear"
          ],
          [
           "Gridley",
           "CA",
           "Fair"
          ],
          [
           "Salem",
           "OR",
           "Partly Cloudy"
          ],
          [
           "Assonet",
           "MA",
           "Light Snow"
          ],
          [
           "Augusta",
           "GA",
           "Partly Cloudy"
          ],
          [
           "Yuma",
           "AZ",
           "Overcast"
          ],
          [
           "Pine Mountain",
           "GA",
           "Cloudy"
          ],
          [
           "Boca Raton",
           "FL",
           "Cloudy"
          ],
          [
           "Raleigh",
           "NC",
           "Partly Cloudy"
          ],
          [
           "Clearfield",
           "UT",
           "Clear"
          ],
          [
           "Pensacola",
           "FL",
           "Partly Cloudy"
          ],
          [
           "Gilbert",
           "SC",
           "Scattered Clouds"
          ],
          [
           "Georgetown",
           "SC",
           "Fair"
          ],
          [
           "Cleveland",
           "OH",
           "Clear"
          ],
          [
           "Watseka",
           "IL",
           "Fair"
          ],
          [
           "Raleigh",
           "NC",
           "Fair"
          ],
          [
           "New Orleans",
           "LA",
           null
          ],
          [
           "Caliente",
           "CA",
           "Fair"
          ],
          [
           "Escondido",
           "CA",
           "Overcast"
          ],
          [
           "Pensacola",
           "FL",
           "Fair"
          ],
          [
           "Orlando",
           "FL",
           "Light Rain"
          ],
          [
           "Orlando",
           "FL",
           "Fair"
          ],
          [
           "Tulsa",
           "OK",
           "Light Rain"
          ],
          [
           "Anderson",
           "SC",
           "Light Rain"
          ],
          [
           "Columbus",
           "OH",
           "Scattered Clouds"
          ],
          [
           "Houston",
           "TX",
           "Fair"
          ],
          [
           "Akron",
           "OH",
           "Rain"
          ],
          [
           "Southfield",
           "MI",
           "Cloudy"
          ],
          [
           "Portland",
           "OR",
           "Fair"
          ],
          [
           "Philadelphia",
           "PA",
           "Overcast"
          ],
          [
           "Fort Montgomery",
           "NY",
           null
          ],
          [
           "Syracuse",
           "NY",
           "Fair"
          ],
          [
           "Bushnell",
           "FL",
           "Light Rain"
          ],
          [
           "Memphis",
           "TN",
           "Cloudy"
          ],
          [
           "Portland",
           "OR",
           "Partly Cloudy"
          ],
          [
           "Hammond",
           "IN",
           "Clear"
          ],
          [
           "Norristown",
           "PA",
           "Cloudy"
          ],
          [
           "Bound Brook",
           "NJ",
           "Snow"
          ],
          [
           "Mountainside",
           "NJ",
           "Overcast"
          ],
          [
           "Anderson",
           "SC",
           "Fair"
          ],
          [
           "Kimmell",
           "IN",
           "Light Rain"
          ],
          [
           "Bronx",
           "NY",
           "Overcast"
          ],
          [
           "Los Angeles",
           "CA",
           "Fair"
          ],
          [
           "Sharon",
           "MA",
           "Overcast"
          ],
          [
           "Springfield",
           "MO",
           "Fair"
          ],
          [
           "Houston",
           "TX",
           "Mostly Cloudy"
          ],
          [
           "Fort Myers",
           "FL",
           "Mostly Cloudy"
          ],
          [
           "Simpsonville",
           "SC",
           "Fair"
          ],
          [
           "Marmaduke",
           "AR",
           "Fair"
          ],
          [
           "Merced",
           "CA",
           "Fair"
          ],
          [
           "Bakersfield",
           "CA",
           "Fair"
          ],
          [
           "Charlotte",
           "NC",
           "Clear"
          ],
          [
           "Fort Lauderdale",
           "FL",
           "Mostly Cloudy"
          ],
          [
           "Grayslake",
           "IL",
           "Clear"
          ],
          [
           "Flint",
           "MI",
           "Clear"
          ],
          [
           "Dallas",
           "TX",
           "Overcast"
          ],
          [
           "Port Matilda",
           "PA",
           "Mostly Cloudy"
          ],
          [
           "Raleigh",
           "NC",
           "Fog"
          ],
          [
           "Long Beach",
           "CA",
           "Clear"
          ],
          [
           "Lancaster",
           "PA",
           "Mostly Cloudy"
          ],
          [
           "Winter Park",
           "FL",
           "Fair"
          ],
          [
           "Saint Paul",
           "MN",
           "Scattered Clouds"
          ],
          [
           "Pottstown",
           "PA",
           "Fair"
          ],
          [
           "Marina Del Rey",
           "CA",
           "Mostly Cloudy"
          ],
          [
           "Salt Lake City",
           "UT",
           "Partly Cloudy"
          ],
          [
           "Indianapolis",
           "IN",
           "Partly Cloudy"
          ],
          [
           "Denver",
           "CO",
           "Mostly Cloudy"
          ],
          [
           "Bronx",
           "NY",
           "Light Rain"
          ],
          [
           "Inman",
           "SC",
           "Clear"
          ],
          [
           "Lemoyne",
           "PA",
           "Clear"
          ],
          [
           "New Orleans",
           "LA",
           "Mostly Cloudy"
          ],
          [
           "Greenville",
           "SC",
           "Fair"
          ],
          [
           "Orlando",
           "FL",
           "Mostly Cloudy"
          ],
          [
           "Los Angeles",
           "CA",
           "Cloudy"
          ],
          [
           "Saint Louis",
           "MO",
           "Clear"
          ],
          [
           "Tulsa",
           "OK",
           "Cloudy"
          ],
          [
           "Morrisville",
           "NC",
           "Light Rain"
          ],
          [
           "Candler",
           "NC",
           "Fair"
          ],
          [
           "Downingtown",
           "PA",
           "Fair"
          ],
          [
           "Summerville",
           "SC",
           "Fog"
          ],
          [
           "Baltimore",
           "MD",
           null
          ],
          [
           "Morrisville",
           "NC",
           "Mostly Cloudy"
          ],
          [
           "Dallas",
           "TX",
           "Scattered Clouds"
          ],
          [
           "Tulsa",
           "OK",
           "Clear"
          ],
          [
           "Baton Rouge",
           "LA",
           "Heavy Thunderstorms and Rain"
          ],
          [
           "Chicago",
           "IL",
           "Partly Cloudy"
          ],
          [
           "Silver Spring",
           "MD",
           "Clear"
          ],
          [
           "Green Bay",
           "WI",
           "Light Snow"
          ],
          [
           "Hendersonville",
           "NC",
           "Mostly Cloudy"
          ],
          [
           "Royersford",
           "PA",
           "Heavy Rain"
          ],
          [
           "Louisville",
           "KY",
           "Light Drizzle"
          ],
          [
           "Yonkers",
           "NY",
           "Mostly Cloudy / Windy"
          ],
          [
           "Bakersfield",
           "CA",
           "Fog"
          ],
          [
           "Seattle",
           "WA",
           "Scattered Clouds"
          ],
          [
           "Detroit",
           "MI",
           "Cloudy"
          ],
          [
           "Saint Louis",
           "MO",
           "Cloudy"
          ],
          [
           "Detroit Lakes",
           "MN",
           "Partly Cloudy"
          ],
          [
           "Pleasanton",
           "CA",
           "Overcast"
          ],
          [
           "Cotati",
           "CA",
           "Fair"
          ],
          [
           "Orlando",
           "FL",
           "Partly Cloudy"
          ],
          [
           "Hackensack",
           "MN",
           "Cloudy"
          ],
          [
           "Fort Mill",
           "SC",
           "Fair"
          ],
          [
           "Mineral",
           "VA",
           "Partly Cloudy"
          ],
          [
           "Summerland",
           "CA",
           "Fair"
          ],
          [
           "Flushing",
           "NY",
           "Cloudy"
          ],
          [
           "Atlanta",
           "GA",
           "Cloudy"
          ],
          [
           "Miami",
           "FL",
           "Mostly Cloudy"
          ],
          [
           "Austin",
           "TX",
           "Cloudy"
          ],
          [
           "Oakdale",
           "CA",
           "Fair"
          ],
          [
           "Pittsburgh",
           "PA",
           "Snow"
          ],
          [
           "Tucson",
           "AZ",
           "Fair"
          ],
          [
           "Ephraim",
           "UT",
           "Fair"
          ],
          [
           "Tacoma",
           "WA",
           "Fair"
          ],
          [
           "West Chester",
           "PA",
           "Fair"
          ],
          [
           "Dallas",
           "TX",
           "Light Rain"
          ],
          [
           "Glen Allen",
           "VA",
           "Fair"
          ],
          [
           "Pendleton",
           "OR",
           "Light Snow"
          ],
          [
           "Gulfport",
           "MS",
           "Partly Cloudy"
          ],
          [
           "Grand Rapids",
           "MI",
           "Partly Cloudy"
          ],
          [
           "Newark",
           "DE",
           "Fair"
          ],
          [
           "Petaluma",
           "CA",
           "Fair"
          ],
          [
           "Los Angeles",
           "CA",
           "Fair"
          ],
          [
           "Arlington",
           "VA",
           "Fair"
          ],
          [
           "Maple Shade",
           "NJ",
           "Fair"
          ],
          [
           "Salinas",
           "CA",
           "Fair"
          ],
          [
           "Newton",
           "MA",
           "Mostly Cloudy"
          ],
          [
           "Discovery Bay",
           "CA",
           "Clear"
          ],
          [
           "Liberty",
           "SC",
           "Rain"
          ],
          [
           "Santa Ana",
           "CA",
           "Fair"
          ],
          [
           "Township of Washington",
           "NJ",
           "Partly Cloudy"
          ],
          [
           "Danville",
           "CA",
           "Mostly Cloudy"
          ],
          [
           "Dallas",
           "TX",
           "Fair"
          ],
          [
           "Nerstrand",
           "MN",
           "Fair"
          ],
          [
           "Newark",
           "DE",
           "Fair"
          ],
          [
           "Running Springs",
           "CA",
           "Fair"
          ],
          [
           "Los Alamitos",
           "CA",
           "Mostly Cloudy"
          ],
          [
           "Lancaster",
           "TX",
           "Clear"
          ],
          [
           "Dorchester Center",
           "MA",
           null
          ],
          [
           "Huntington",
           "OR",
           "Fair"
          ],
          [
           "Union",
           "NJ",
           "Partly Cloudy"
          ],
          [
           "Cincinnati",
           "OH",
           "Fair"
          ],
          [
           "Anaheim",
           "CA",
           "Clear"
          ],
          [
           "Colorado Springs",
           "CO",
           "Scattered Clouds"
          ],
          [
           "Augusta",
           "GA",
           "Fair"
          ],
          [
           "Kane",
           "PA",
           "Wintry Mix"
          ],
          [
           "Ogden",
           "UT",
           "Fair"
          ],
          [
           "Houston",
           "TX",
           "Thunderstorm"
          ],
          [
           "Westport",
           "CT",
           "Cloudy"
          ],
          [
           "Fredericksburg",
           "VA",
           "Fair"
          ],
          [
           "South Amboy",
           "NJ",
           "Fair"
          ],
          [
           "Miami",
           "FL",
           "Fair"
          ],
          [
           "El Paso",
           "TX",
           "Partly Cloudy"
          ],
          [
           "Nashville",
           "TN",
           "Cloudy"
          ],
          [
           "San Francisco",
           "CA",
           "Mostly Cloudy"
          ],
          [
           "Mission Hills",
           "CA",
           "Fair"
          ],
          [
           "Brentwood",
           "CA",
           "Light Rain"
          ],
          [
           "Great Neck",
           "NY",
           "Mostly Cloudy"
          ],
          [
           "Kissimmee",
           "FL",
           "Fair"
          ],
          [
           "Bellevue",
           "NE",
           "Mostly Cloudy"
          ],
          [
           "Riverside",
           "CA",
           "Partly Cloudy"
          ],
          [
           "Fresno",
           "CA",
           "Mostly Cloudy"
          ],
          [
           "Pierz",
           "MN",
           "Light Snow"
          ],
          [
           "Georgetown",
           "CO",
           "Light Snow"
          ],
          [
           "Chantilly",
           "VA",
           "Fair"
          ],
          [
           "Providence",
           "RI",
           "Mostly Cloudy"
          ],
          [
           "Nichols",
           "SC",
           "Clear"
          ],
          [
           "Miami",
           "FL",
           "Partly Cloudy"
          ],
          [
           "North Hollywood",
           "CA",
           "Fair"
          ],
          [
           "Iowa City",
           "IA",
           "Clear"
          ],
          [
           "Sacramento",
           "CA",
           "Clear"
          ],
          [
           "Duarte",
           "CA",
           "Fair"
          ],
          [
           "Rio Vista",
           "CA",
           "Fair"
          ],
          [
           "Downey",
           "CA",
           "Fair"
          ],
          [
           "San Antonio",
           "TX",
           "Mostly Cloudy"
          ],
          [
           "Leeds",
           "AL",
           "Light Rain"
          ],
          [
           "Bakersfield",
           "CA",
           "Haze"
          ],
          [
           "Charlotte",
           "NC",
           "Cloudy"
          ],
          [
           "High Springs",
           "FL",
           "Fair"
          ],
          [
           "Dillsburg",
           "PA",
           "Light Rain"
          ],
          [
           "Morganville",
           "NJ",
           "Fair"
          ],
          [
           "Jackson",
           "TN",
           "Fair"
          ],
          [
           "St Louis",
           "MO",
           "Fair"
          ],
          [
           "San Gabriel",
           "CA",
           "Fair"
          ],
          [
           "Lompoc",
           "CA",
           "Clear"
          ],
          [
           "Kissimmee",
           "FL",
           "Clear"
          ],
          [
           "Hattiesburg",
           "MS",
           "Cloudy"
          ],
          [
           "Miami",
           "FL",
           "Partly Cloudy"
          ],
          [
           "Royal Oak",
           "MI",
           "Overcast"
          ],
          [
           "Clyde",
           "NC",
           "Clear"
          ],
          [
           "Omaha",
           "NE",
           "Clear"
          ],
          [
           "Birmingham",
           "AL",
           "Fair"
          ],
          [
           "Milwaukee",
           "WI",
           "Haze"
          ],
          [
           "Rochester",
           "NY",
           "Mostly Cloudy"
          ],
          [
           "Austin",
           "TX",
           "Clear"
          ],
          [
           "Boise",
           "ID",
           "Cloudy"
          ],
          [
           "Osakis",
           "MN",
           "Fog / Windy"
          ],
          [
           "Hutchinson",
           "MN",
           "Fair"
          ],
          [
           "Seminole",
           "FL",
           "Partly Cloudy"
          ],
          [
           "Coalville",
           "UT",
           null
          ],
          [
           "Houston",
           "TX",
           "Clear"
          ],
          [
           "Colonial Beach",
           "VA",
           "Mostly Cloudy"
          ],
          [
           "Fremont",
           "CA",
           "Fair"
          ],
          [
           "Stevens Point",
           "WI",
           "Fog"
          ],
          [
           "Flushing",
           "MI",
           "Partly Cloudy"
          ],
          [
           "Homestead",
           "FL",
           "Fair"
          ],
          [
           "Swansea",
           "SC",
           "Light Rain"
          ],
          [
           "Delhi",
           "CA",
           "Fair"
          ],
          [
           "Bradenton",
           "FL",
           "Fair"
          ],
          [
           "Lewisberry",
           "PA",
           "Rain"
          ],
          [
           "Greenville",
           "SC",
           "Fair"
          ],
          [
           "Ocala",
           "FL",
           "Fog"
          ],
          [
           "Houston",
           "TX",
           "Clear"
          ],
          [
           "Sacramento",
           "CA",
           "Haze"
          ],
          [
           "Souderton",
           "PA",
           "Mostly Cloudy"
          ],
          [
           "Anaheim",
           "CA",
           "Fair"
          ],
          [
           "Coyote",
           "CA",
           "Cloudy"
          ],
          [
           "Mars Hill",
           "NC",
           "Fair"
          ],
          [
           "Chandler",
           "AZ",
           "Clear"
          ],
          [
           "Asheville",
           "NC",
           "Fair"
          ],
          [
           "Lafayette",
           "LA",
           "Scattered Clouds"
          ],
          [
           "New Haven",
           "CT",
           "Rain"
          ],
          [
           "Anderson",
           "SC",
           "Fair"
          ],
          [
           "Baton Rouge",
           "LA",
           "Partly Cloudy"
          ],
          [
           "Old Hickory",
           "TN",
           "Fair"
          ],
          [
           "Atlanta",
           "GA",
           "Fair"
          ],
          [
           "Seattle",
           "WA",
           "Partly Cloudy"
          ],
          [
           "Raleigh",
           "NC",
           "Mostly Cloudy"
          ],
          [
           "Elmhurst Township",
           "PA",
           "Cloudy"
          ],
          [
           "Vidal",
           "CA",
           "Fair"
          ],
          [
           "Garner",
           "NC",
           "Scattered Clouds"
          ],
          [
           "Huntington",
           "OR",
           "Light Snow"
          ],
          [
           "Roebuck",
           "SC",
           "Mostly Cloudy"
          ],
          [
           "Dallas",
           "TX",
           "Fair"
          ],
          [
           "Fletcher",
           "NC",
           "Mostly Cloudy"
          ],
          [
           "Perham",
           "MN",
           "Fair"
          ],
          [
           "Ardmore",
           "PA",
           "Clear"
          ],
          [
           "Tulsa",
           "OK",
           "Fair"
          ],
          [
           "Atlanta",
           "GA",
           "Fair"
          ],
          [
           "Houston",
           "TX",
           "Fair"
          ],
          [
           "Minneapolis",
           "MN",
           "Mostly Cloudy"
          ],
          [
           "Hudson",
           "FL",
           "Cloudy"
          ],
          [
           "Sparks Glencoe",
           "MD",
           "Fair"
          ],
          [
           "Duluth",
           "MN",
           "Fair"
          ],
          [
           "Los Angeles",
           "CA",
           "Fair"
          ],
          [
           "Ashland",
           "OR",
           "Cloudy"
          ],
          [
           "Columbus",
           "OH",
           "Light Drizzle"
          ],
          [
           "Saint Petersburg",
           "FL",
           "Cloudy"
          ],
          [
           "Houston",
           "TX",
           "Haze"
          ],
          [
           "Kennesaw",
           "GA",
           "Fair"
          ],
          [
           "Henrico",
           "VA",
           "Fair"
          ],
          [
           "Austin",
           "TX",
           null
          ],
          [
           "Secaucus",
           "NJ",
           "Overcast"
          ],
          [
           "San Francisco",
           "CA",
           "Partly Cloudy"
          ],
          [
           "Richmond",
           "VA",
           "Overcast"
          ],
          [
           "Oceanside",
           "CA",
           "Fair"
          ],
          [
           "Leesburg",
           "VA",
           "Mostly Cloudy"
          ],
          [
           "Allentown",
           "PA",
           "Partly Cloudy"
          ],
          [
           "Bakersfield",
           "CA",
           "Fair"
          ],
          [
           "Castro Valley",
           "CA",
           "Fair"
          ],
          [
           "Norco",
           "CA",
           "Fair"
          ],
          [
           "Wesley Chapel",
           "FL",
           "Cloudy"
          ],
          [
           "Galveston",
           "TX",
           "Mostly Cloudy"
          ],
          [
           "Minneapolis",
           "MN",
           "Mostly Cloudy"
          ],
          [
           "Los Angeles",
           "CA",
           "Clear"
          ],
          [
           "Magna",
           "UT",
           "Mostly Cloudy"
          ],
          [
           "Charlotte",
           "NC",
           "Clear"
          ],
          [
           "Elk Grove",
           "CA",
           "Fair"
          ],
          [
           "Minneapolis",
           "MN",
           "Clear"
          ],
          [
           "Philadelphia",
           "PA",
           "Rain"
          ],
          [
           "Los Angeles",
           "CA",
           "Fair"
          ],
          [
           "Hayward",
           "CA",
           "Smoke"
          ],
          [
           "Dallas",
           "TX",
           "Light Rain"
          ],
          [
           "National City",
           "CA",
           "Cloudy"
          ],
          [
           "Mesa",
           "AZ",
           "Fair"
          ],
          [
           "Hialeah",
           "FL",
           "Fair"
          ],
          [
           "Riverside",
           "CA",
           "Fair"
          ],
          [
           "Chanhassen",
           "MN",
           "Light Snow"
          ],
          [
           "Tampa",
           "FL",
           "Cloudy"
          ],
          [
           "Stockton",
           "CA",
           "Fair"
          ],
          [
           "Grove City",
           "OH",
           "Cloudy"
          ],
          [
           "Miami",
           "FL",
           "Fair"
          ],
          [
           "Charlotte",
           "NC",
           "Mostly Cloudy"
          ],
          [
           "Compton",
           "CA",
           "Mostly Cloudy"
          ],
          [
           "Downers Grove",
           "IL",
           "Fair"
          ],
          [
           "Lees Summit",
           "MO",
           "Fair"
          ],
          [
           "Petersburg",
           "KY",
           "Mostly Cloudy"
          ],
          [
           "Washington",
           "DC",
           null
          ],
          [
           "San Jose",
           "CA",
           "Cloudy"
          ],
          [
           "Toms River",
           "NJ",
           "Cloudy"
          ],
          [
           "San Fernando",
           "CA",
           "Partly Cloudy"
          ],
          [
           "Fresno",
           "CA",
           "Fair"
          ],
          [
           "Collierville",
           "TN",
           "Overcast"
          ],
          [
           "Grove City",
           "OH",
           "Clear"
          ],
          [
           "Windsor",
           "VA",
           "Cloudy"
          ],
          [
           "Pleasant Grove",
           "CA",
           "Fair"
          ],
          [
           "Charlotte",
           "NC",
           "Fair"
          ],
          [
           "Moncks Corner",
           "SC",
           "Fair"
          ],
          [
           "Wethersfield",
           "CT",
           "Cloudy"
          ],
          [
           "Corning",
           "AR",
           null
          ],
          [
           "San Jose",
           "CA",
           "Partly Cloudy"
          ],
          [
           "Marysville",
           "CA",
           "Cloudy"
          ],
          [
           "Baton Rouge",
           "LA",
           "Mostly Cloudy"
          ],
          [
           "Fort Bragg",
           "CA",
           "Fair"
          ],
          [
           "Indianapolis",
           "IN",
           "Clear"
          ],
          [
           "Alamo",
           "CA",
           "Mostly Cloudy"
          ],
          [
           "Tampa",
           "FL",
           "Partly Cloudy"
          ],
          [
           "Santa Cruz",
           "CA",
           "Partly Cloudy"
          ],
          [
           "Raleigh",
           "NC",
           "Fog"
          ],
          [
           "Carol Stream",
           "IL",
           "Haze"
          ],
          [
           "Sacramento",
           "CA",
           "Fair"
          ],
          [
           "Salt Lake City",
           "UT",
           "Fair"
          ],
          [
           "Cincinnati",
           "OH",
           "Cloudy"
          ],
          [
           "Romulus",
           "MI",
           "Light Snow"
          ],
          [
           "Bryans Road",
           "MD",
           "Cloudy"
          ],
          [
           "Altoona",
           "PA",
           "Fair"
          ],
          [
           "Oakland",
           "CA",
           "Fair"
          ],
          [
           "Detroit",
           "MI",
           "Fair"
          ],
          [
           "Miami",
           "FL",
           "Mostly Cloudy"
          ],
          [
           "Seattle",
           "WA",
           "Partly Cloudy"
          ],
          [
           "Portland",
           "OR",
           "Mostly Cloudy"
          ],
          [
           "Colton",
           "CA",
           "Fair"
          ],
          [
           "Souderton",
           "PA",
           "Cloudy"
          ],
          [
           "El Paso",
           "TX",
           "Fair"
          ],
          [
           "Mobile",
           "AL",
           "Heavy Thunderstorms and Rain"
          ],
          [
           "Perris",
           "CA",
           "Fair"
          ],
          [
           "Baton Rouge",
           "LA",
           "Fair"
          ],
          [
           "Franklin",
           "PA",
           "Cloudy"
          ],
          [
           "Hanover",
           "PA",
           "Fair"
          ],
          [
           "Royersford",
           "PA",
           null
          ],
          [
           "Alhambra",
           "CA",
           "Fair"
          ],
          [
           "Maplesville",
           "AL",
           "Cloudy"
          ],
          [
           "Chesapeake",
           "VA",
           "Fair"
          ],
          [
           "Reno",
           "NV",
           "Fair"
          ],
          [
           "Bowman",
           "SC",
           "Fair"
          ],
          [
           "Houston",
           "TX",
           "Mostly Cloudy"
          ],
          [
           "Ontario",
           "CA",
           "Fair"
          ],
          [
           "Keymar",
           "MD",
           null
          ],
          [
           "Paradise Valley",
           "AZ",
           "Fair"
          ],
          [
           "Keithville",
           "LA",
           "Fair"
          ],
          [
           "Oklahoma City",
           "OK",
           "Mostly Cloudy"
          ],
          [
           "Hermiston",
           "OR",
           null
          ],
          [
           "Rochester",
           "MN",
           "Partly Cloudy"
          ],
          [
           "Jacksonville",
           "FL",
           "Mostly Cloudy"
          ],
          [
           "Garner",
           "NC",
           "Fair"
          ],
          [
           "York",
           "PA",
           "Clear"
          ],
          [
           "Walnut Creek",
           "CA",
           "Fair"
          ],
          [
           "Sarasota",
           "FL",
           "Thunder in the Vicinity"
          ],
          [
           "Buckeye",
           "AZ",
           null
          ],
          [
           "Fort Myers",
           "FL",
           "Fair"
          ],
          [
           "Palatine",
           "IL",
           "Cloudy"
          ],
          [
           "Staunton",
           "VA",
           "Fair"
          ],
          [
           "Sacramento",
           "CA",
           "Fair"
          ],
          [
           "Jacksonville",
           "FL",
           "Cloudy"
          ],
          [
           "Raleigh",
           "NC",
           "Partly Cloudy"
          ],
          [
           "Richmond",
           "VA",
           "Partly Cloudy"
          ],
          [
           "Long Beach",
           "CA",
           "Fair"
          ],
          [
           "Bozeman",
           "MT",
           "Partly Cloudy"
          ],
          [
           "Brick",
           "NJ",
           "Cloudy"
          ],
          [
           "Williamsport",
           "PA",
           "Fair"
          ],
          [
           "Black Canyon City",
           "AZ",
           "Fair"
          ],
          [
           "Pittsburg",
           "CA",
           "Clear"
          ],
          [
           "Exchange",
           "WV",
           "Fair"
          ],
          [
           "Cutler Bay",
           "FL",
           "Fair"
          ],
          [
           "Clinton Township",
           "MI",
           "Light Snow"
          ],
          [
           "Savannah",
           "GA",
           "Partly Cloudy"
          ],
          [
           "Newark",
           "DE",
           "Partly Cloudy"
          ],
          [
           "Garner",
           "NC",
           "Partly Cloudy"
          ],
          [
           "Tehachapi",
           "CA",
           "Fair"
          ],
          [
           "Sutherlin",
           "OR",
           "Clear"
          ],
          [
           "Grass Valley",
           "CA",
           "Fair"
          ],
          [
           "Shreveport",
           "LA",
           "Light Rain"
          ],
          [
           "Los Angeles",
           "CA",
           "Cloudy"
          ],
          [
           "Woodbridge",
           "VA",
           "Fair"
          ],
          [
           "Dallas",
           "TX",
           "Cloudy"
          ],
          [
           "Saint Paul",
           "MN",
           "Clear"
          ],
          [
           "Indianapolis",
           "IN",
           "Clear"
          ],
          [
           "Moreno Valley",
           "CA",
           "Fair"
          ],
          [
           "Wimauma",
           "FL",
           "Partly Cloudy"
          ],
          [
           "Hardeeville",
           "SC",
           "Light Rain"
          ],
          [
           "Brunswick",
           "GA",
           "Fair"
          ],
          [
           "Salt Lake City",
           "UT",
           "Light Rain"
          ],
          [
           "Ocala",
           "FL",
           "Partly Cloudy"
          ],
          [
           "Baton Rouge",
           "LA",
           "Light Rain"
          ],
          [
           "Minneapolis",
           "MN",
           "Overcast"
          ],
          [
           "Temecula",
           "CA",
           null
          ],
          [
           "Hopkins",
           "MN",
           "Clear"
          ],
          [
           "Wilmington",
           "DE",
           "Cloudy"
          ],
          [
           "Yonkers",
           "NY",
           "Fair"
          ],
          [
           "Porterville",
           "CA",
           "Fair"
          ],
          [
           "Greenville",
           "SC",
           "Partly Cloudy"
          ],
          [
           "Atlanta",
           "GA",
           "Rain"
          ],
          [
           "Madison",
           "WI",
           "Fair"
          ],
          [
           "Acton",
           "CA",
           "Clear"
          ],
          [
           "Minneapolis",
           "MN",
           "Fair"
          ],
          [
           "Morrisdale",
           "PA",
           "Heavy Snow"
          ],
          [
           "Nashville",
           "TN",
           "Mostly Cloudy"
          ],
          [
           "Geyserville",
           "CA",
           "Patches of Fog"
          ],
          [
           "Minneapolis",
           "MN",
           "Clear"
          ],
          [
           "Louisville",
           "KY",
           "Clear"
          ],
          [
           "Hayward",
           "CA",
           "Light Rain"
          ],
          [
           "Atlanta",
           "GA",
           "Mostly Cloudy"
          ],
          [
           "Aventura",
           "FL",
           "Fair"
          ],
          [
           "Miami",
           "FL",
           "Fair"
          ],
          [
           "Arlington",
           "OR",
           "Light Snow"
          ],
          [
           "Charlotte",
           "NC",
           "Mostly Cloudy"
          ],
          [
           "Leeds",
           "AL",
           "Cloudy"
          ],
          [
           "Crescent Valley",
           "NV",
           "Partly Cloudy"
          ],
          [
           "Castro Valley",
           "CA",
           "Partly Cloudy"
          ],
          [
           "Raleigh",
           "NC",
           "Fair"
          ],
          [
           "Lincoln",
           "CA",
           "Fair"
          ],
          [
           "New Castle",
           "DE",
           "Fog"
          ],
          [
           "Nashville",
           "NC",
           "Fog"
          ],
          [
           "Crescent City",
           "CA",
           "Cloudy"
          ],
          [
           "Saint Paul",
           "MN",
           "Fair"
          ],
          [
           "Los Angeles",
           "CA",
           "Fair"
          ],
          [
           "Lake Villa",
           "IL",
           "Mostly Cloudy"
          ],
          [
           "Baton Rouge",
           "LA",
           "Fair"
          ],
          [
           "Brea",
           "CA",
           "Cloudy"
          ],
          [
           "Sacramento",
           "CA",
           "Fair"
          ],
          [
           "San Antonio",
           "TX",
           "Fair"
          ],
          [
           "Gardena",
           "CA",
           "Fair"
          ],
          [
           "Conshohocken",
           "PA",
           "Clear"
          ],
          [
           "Miami Beach",
           "FL",
           "Cloudy"
          ],
          [
           "Paulden",
           "AZ",
           "Fair"
          ],
          [
           "Albuquerque",
           "NM",
           "Scattered Clouds"
          ],
          [
           "Irmo",
           "SC",
           "Fair"
          ],
          [
           "Pittsburg",
           "CA",
           "Clear"
          ],
          [
           "Raleigh",
           "NC",
           "Overcast"
          ],
          [
           "Zebulon",
           "NC",
           "Rain"
          ],
          [
           "Palmetto",
           "FL",
           "Cloudy"
          ],
          [
           "Van Nuys",
           "CA",
           "Fair"
          ],
          [
           "Denver",
           "CO",
           "Overcast"
          ],
          [
           "Cedar Falls",
           "IA",
           "Fair"
          ],
          [
           "Elmwood Park",
           "NJ",
           "Cloudy"
          ],
          [
           "Manhasset",
           "NY",
           "Fair"
          ],
          [
           "Houston",
           "TX",
           "Clear"
          ],
          [
           "Miami",
           "FL",
           "Partly Cloudy"
          ],
          [
           "Owings Mills",
           "MD",
           null
          ],
          [
           "Riverside",
           "CA",
           "Clear"
          ],
          [
           "Meriden",
           "CT",
           "Fair"
          ],
          [
           "Gladwyne",
           "PA",
           "Fair"
          ],
          [
           "Rancho Cucamonga",
           "CA",
           "Fair"
          ],
          [
           "Los Angeles",
           "CA",
           "Fair"
          ],
          [
           "Encino",
           "CA",
           "Fair"
          ],
          [
           "Vacaville",
           "CA",
           "Fair"
          ],
          [
           "Watkins",
           "CO",
           null
          ],
          [
           "Bedminster",
           "NJ",
           "Overcast"
          ],
          [
           "Rixford",
           "PA",
           "Cloudy"
          ],
          [
           "Roselle",
           "IL",
           "Light Rain"
          ],
          [
           "Nashville",
           "TN",
           "Scattered Clouds"
          ],
          [
           "Staten Island",
           "NY",
           "Mostly Cloudy"
          ],
          [
           "New York",
           "NY",
           "Cloudy"
          ],
          [
           "Winchester",
           "VA",
           "Fair"
          ],
          [
           "Jupiter",
           "FL",
           "Partly Cloudy"
          ],
          [
           "Lancaster",
           "SC",
           "Cloudy"
          ],
          [
           "Indianapolis",
           "IN",
           "Mostly Cloudy"
          ],
          [
           "Agoura Hills",
           "CA",
           "Heavy Rain"
          ],
          [
           "Fort Mill",
           "SC",
           "Fair"
          ],
          [
           "Seal Beach",
           "CA",
           "Clear"
          ],
          [
           "Berkeley",
           "CA",
           "Clear"
          ],
          [
           "Dallas",
           "TX",
           "Fair"
          ],
          [
           "Omaha",
           "NE",
           "Overcast"
          ],
          [
           "Fort Collins",
           "CO",
           "Clear"
          ],
          [
           "Atlanta",
           "GA",
           "Overcast"
          ],
          [
           "Manassas",
           "VA",
           "Overcast"
          ],
          [
           "Woodlyn",
           "PA",
           "Fair"
          ],
          [
           "Minneapolis",
           "MN",
           "Cloudy"
          ],
          [
           "Cranston",
           "RI",
           "Light Rain"
          ],
          [
           "Doral",
           "FL",
           "Mostly Cloudy"
          ],
          [
           "Tucson",
           "AZ",
           "Clear"
          ],
          [
           "Monterey Park",
           "CA",
           "Clear"
          ],
          [
           "Toughkenamon",
           "PA",
           "Cloudy"
          ],
          [
           "Hamilton",
           "OH",
           "Mostly Cloudy"
          ],
          [
           "Miami",
           "FL",
           "Fair"
          ],
          [
           "Nashua",
           "NH",
           "Fair"
          ],
          [
           "Mission Viejo",
           "CA",
           "Haze"
          ],
          [
           "Los Angeles",
           "CA",
           "Haze"
          ],
          [
           "Grand Rapids",
           "MI",
           "Mostly Cloudy"
          ],
          [
           "Laurel",
           "MD",
           "Fair"
          ],
          [
           "Kansas City",
           "MO",
           "Fair / Windy"
          ],
          [
           "Greer",
           "SC",
           "Fair"
          ],
          [
           "Cove City",
           "NC",
           "Fair"
          ],
          [
           "Cleveland",
           "OH",
           "Partly Cloudy"
          ],
          [
           "Oakland",
           "CA",
           "Mostly Cloudy"
          ],
          [
           "Redlands",
           "CA",
           "Fair"
          ],
          [
           "Johnson City",
           "TN",
           "Cloudy"
          ],
          [
           "Houston",
           "TX",
           "Light Drizzle"
          ],
          [
           "Miami",
           "FL",
           "Fair"
          ],
          [
           "Charlotte",
           "NC",
           "Cloudy"
          ],
          [
           "Centreville",
           "VA",
           "Cloudy"
          ],
          [
           "Myrtle Beach",
           "SC",
           "Fair"
          ],
          [
           "Phoenix",
           "AZ",
           "Partly Cloudy"
          ],
          [
           "Washington",
           "DC",
           "Mostly Cloudy"
          ],
          [
           "Ceres",
           "CA",
           "Clear"
          ],
          [
           "York Haven",
           "PA",
           "Overcast"
          ],
          [
           "Lake George",
           "NY",
           "Rain"
          ],
          [
           "Fort Lauderdale",
           "FL",
           "Mostly Cloudy"
          ],
          [
           "Bridgewater",
           "VA",
           "Partly Cloudy"
          ],
          [
           "Brazil",
           "IN",
           "Fair"
          ],
          [
           "Ogden",
           "UT",
           "Light Rain"
          ],
          [
           "Bemidji",
           "MN",
           "Cloudy"
          ],
          [
           "Ukiah",
           "CA",
           "Fair"
          ],
          [
           "Miami",
           "FL",
           "Clear"
          ],
          [
           "Houston",
           "TX",
           "Mostly Cloudy"
          ],
          [
           "Baton Rouge",
           "LA",
           "Fair"
          ],
          [
           "Norwalk",
           "CA",
           "Fair"
          ],
          [
           "Houston",
           "TX",
           "Mostly Cloudy"
          ],
          [
           "Hialeah",
           "FL",
           "Mostly Cloudy"
          ],
          [
           "Great River",
           "NY",
           "Overcast"
          ],
          [
           "Birmingham",
           "AL",
           "Fair"
          ],
          [
           "North Hollywood",
           "CA",
           "Clear"
          ],
          [
           "Wantagh",
           "NY",
           "Fair"
          ],
          [
           "Columbia",
           "SC",
           "Fair"
          ],
          [
           "Layton",
           "UT",
           "Cloudy"
          ],
          [
           "Glendale",
           "CA",
           "Clear"
          ],
          [
           "American Canyon",
           "CA",
           "Fair"
          ],
          [
           "Sacramento",
           "CA",
           "Fair"
          ],
          [
           "Saint Clair Shores",
           "MI",
           "Cloudy"
          ],
          [
           "North Dinwiddie",
           "VA",
           null
          ],
          [
           "Shreveport",
           "LA",
           "Fair"
          ],
          [
           "La Grande",
           "OR",
           "Cloudy"
          ],
          [
           "Clanton",
           "AL",
           "Mostly Cloudy"
          ],
          [
           "North Highlands",
           "CA",
           "Fair"
          ],
          [
           "Compton",
           "CA",
           "Light Rain"
          ],
          [
           "Lyndon Station",
           "WI",
           "Cloudy"
          ],
          [
           "New York",
           "NY",
           "Cloudy"
          ],
          [
           "Pomona",
           "NY",
           "Fair"
          ],
          [
           "Peoria",
           "AZ",
           "Fair"
          ],
          [
           "Marshall",
           "NC",
           "Cloudy"
          ],
          [
           "Corona",
           "NY",
           "Mostly Cloudy"
          ],
          [
           "Hatboro",
           "PA",
           "Fair"
          ],
          [
           "Moyock",
           "NC",
           "Light Rain"
          ],
          [
           "Dayton",
           "OH",
           "Thunder"
          ],
          [
           "Houston",
           "TX",
           "Clear"
          ],
          [
           "Midland",
           "VA",
           "Partly Cloudy"
          ],
          [
           "Easton",
           "MD",
           "Mostly Cloudy"
          ],
          [
           "Fairfax Station",
           "VA",
           "Fair"
          ],
          [
           "Everett",
           "WA",
           "Light Rain"
          ],
          [
           "Arlington",
           "TX",
           "Fair"
          ],
          [
           "St Louis",
           "MO",
           "Mostly Cloudy"
          ],
          [
           "San Leandro",
           "CA",
           "Mostly Cloudy"
          ],
          [
           "Folkston",
           "GA",
           "Overcast"
          ],
          [
           "Minneapolis",
           "MN",
           "Partly Cloudy"
          ],
          [
           "Atlanta",
           "GA",
           "Partly Cloudy"
          ],
          [
           "San Bernardino",
           "CA",
           "Partly Cloudy"
          ],
          [
           "Kearney",
           "MO",
           "Partly Cloudy"
          ],
          [
           "Houston",
           "TX",
           "Fair"
          ],
          [
           "Austin",
           "TX",
           "Clear"
          ],
          [
           "Pico Rivera",
           "CA",
           "Fair"
          ],
          [
           "Whittier",
           "CA",
           null
          ],
          [
           "Richmond",
           "VA",
           "Fair"
          ],
          [
           "Fresno",
           "CA",
           "Overcast"
          ],
          [
           "Dallas",
           "TX",
           "Mostly Cloudy"
          ],
          [
           "Santa Cruz",
           "CA",
           "Clear"
          ],
          [
           "Phoenix",
           "AZ",
           "Fair"
          ],
          [
           "Socorro",
           "TX",
           "Mostly Cloudy"
          ],
          [
           "Tampa",
           "FL",
           "Fair"
          ],
          [
           "Richmond",
           "VA",
           "Overcast"
          ],
          [
           "Maitland",
           "FL",
           "Light Rain"
          ],
          [
           "Tampa",
           "FL",
           "Fair"
          ],
          [
           "Raleigh",
           "NC",
           "Mostly Cloudy"
          ],
          [
           "Minneapolis",
           "MN",
           "Light Rain"
          ],
          [
           "Flint",
           "MI",
           "Scattered Clouds"
          ],
          [
           "Houston",
           "TX",
           "Partly Cloudy"
          ],
          [
           "Darlington",
           "SC",
           "Fair"
          ],
          [
           "Oklahoma City",
           "OK",
           "Clear"
          ],
          [
           "North Salt Lake",
           "UT",
           "Mostly Cloudy"
          ],
          [
           "Randolph",
           "MN",
           "Cloudy"
          ],
          [
           "Santa Ana",
           "CA",
           "Light Rain"
          ],
          [
           "Silverado",
           "CA",
           "Fair"
          ],
          [
           "Meade",
           "KS",
           "Fair"
          ],
          [
           "Bozeman",
           "MT",
           "Cloudy"
          ],
          [
           "San Francisco",
           "CA",
           "Fair"
          ],
          [
           "Manassas",
           "VA",
           "Mostly Cloudy"
          ],
          [
           "Phoenix",
           "AZ",
           "Clear"
          ],
          [
           "Orlando",
           "FL",
           "Partly Cloudy"
          ],
          [
           "Delano",
           "CA",
           "Fog"
          ],
          [
           "Summerville",
           "SC",
           "Mostly Cloudy"
          ],
          [
           "Chandler",
           "AZ",
           "Clear"
          ],
          [
           "Oklahoma City",
           "OK",
           "Cloudy"
          ],
          [
           "Bronx",
           "NY",
           "Clear"
          ],
          [
           "Yoncalla",
           "OR",
           "Mostly Cloudy"
          ],
          [
           "Dallas",
           "TX",
           "Cloudy"
          ],
          [
           "Houston",
           "TX",
           "Partly Cloudy"
          ],
          [
           "Camp Pendleton",
           "CA",
           "Rain"
          ],
          [
           "Charlotte",
           "NC",
           "Fair"
          ],
          [
           "Belgrade",
           "MT",
           "Cloudy"
          ],
          [
           "Danville",
           "PA",
           "Fair"
          ],
          [
           "Columbus",
           "OH",
           "Mostly Cloudy"
          ],
          [
           "Tampa",
           "FL",
           "Clear"
          ],
          [
           "Fenton",
           "MI",
           "Clear"
          ],
          [
           "Whittier",
           "CA",
           "Haze"
          ],
          [
           "South San Francisco",
           "CA",
           "Mostly Cloudy"
          ],
          [
           "Rochester",
           "NY",
           "Mostly Cloudy"
          ],
          [
           "Lakeland",
           "FL",
           "Partly Cloudy"
          ],
          [
           "Pottstown",
           "PA",
           "Overcast"
          ],
          [
           "Longwood",
           "FL",
           "Fair"
          ],
          [
           "Kearny",
           "NJ",
           "Partly Cloudy"
          ],
          [
           "Isleton",
           "CA",
           "Fair"
          ],
          [
           "Austin",
           "TX",
           "Mostly Cloudy"
          ],
          [
           "Atlanta",
           "GA",
           "Mostly Cloudy"
          ],
          [
           "Woodridge",
           "IL",
           "Clear"
          ],
          [
           "Yemassee",
           "SC",
           "Cloudy"
          ],
          [
           "Atlanta",
           "GA",
           "Cloudy"
          ],
          [
           "Blackwood",
           "NJ",
           "Wintry Mix / Windy"
          ],
          [
           "Oakland",
           "CA",
           "Fair"
          ],
          [
           "Elgin",
           "SC",
           "Fair"
          ],
          [
           "Moreno Valley",
           "CA",
           "Fair"
          ],
          [
           "Palmdale",
           "CA",
           "Clear"
          ],
          [
           "Cody",
           "WY",
           "Fair"
          ],
          [
           "Austin",
           "TX",
           "Partly Cloudy"
          ],
          [
           "Tooele",
           "UT",
           "Mostly Cloudy"
          ],
          [
           "Carmel",
           "CA",
           "Mostly Cloudy"
          ],
          [
           "Atwater",
           "CA",
           "Fair"
          ],
          [
           "Brooklyn",
           "NY",
           "Light Rain / Windy"
          ],
          [
           "Miami",
           "FL",
           "Mostly Cloudy"
          ],
          [
           "Clifton",
           "NJ",
           "Clear"
          ],
          [
           "Hacienda Heights",
           "CA",
           "Mostly Cloudy"
          ],
          [
           "Fort Lee",
           "NJ",
           "Clear"
          ],
          [
           "Montgomery",
           "AL",
           "Fair"
          ],
          [
           "Delhi",
           "CA",
           "Fair"
          ],
          [
           "San Antonio",
           "TX",
           "Scattered Clouds"
          ],
          [
           "Nottingham",
           "MD",
           "Scattered Clouds"
          ],
          [
           "Rocky Mount",
           "VA",
           "Fair"
          ],
          [
           "Downers Grove",
           "IL",
           "Scattered Clouds"
          ],
          [
           "Justice",
           "IL",
           "Rain"
          ],
          [
           "Miami",
           "FL",
           "Mostly Cloudy"
          ],
          [
           "Gloucester City",
           "NJ",
           "Mostly Cloudy"
          ],
          [
           "Cooksville",
           "MD",
           "Fair"
          ],
          [
           "New Castle",
           "PA",
           "Cloudy"
          ],
          [
           "Baton Rouge",
           "LA",
           "Fair"
          ],
          [
           "Indianapolis",
           "IN",
           "Clear"
          ],
          [
           "Greer",
           "SC",
           "Overcast"
          ],
          [
           "Waverly",
           "OH",
           "Fair"
          ],
          [
           "Deming",
           "NM",
           "Clear"
          ],
          [
           "Denver",
           "CO",
           "Fair"
          ],
          [
           "Myrtle Beach",
           "SC",
           "Fair"
          ],
          [
           "Hartford",
           "CT",
           "Haze"
          ],
          [
           "Walnut Creek",
           "CA",
           "Light Rain"
          ],
          [
           "Renton",
           "WA",
           "Mostly Cloudy"
          ],
          [
           "Milpitas",
           "CA",
           "Mostly Cloudy"
          ],
          [
           "Newton",
           "AL",
           "Mostly Cloudy"
          ],
          [
           "Fontana",
           "CA",
           "Cloudy"
          ],
          [
           "Orlando",
           "FL",
           "Mostly Cloudy"
          ],
          [
           "Concord",
           "CA",
           "Fair"
          ],
          [
           "Plant City",
           "FL",
           "Fair"
          ],
          [
           "Nashville",
           "TN",
           "Cloudy"
          ],
          [
           "Yountville",
           "CA",
           "Fair"
          ],
          [
           "San Clemente",
           "CA",
           "Light Rain"
          ],
          [
           "Miami",
           "FL",
           "Fair"
          ],
          [
           "Ontario",
           "CA",
           "Mostly Cloudy"
          ],
          [
           "Broadus",
           "MT",
           "Cloudy"
          ],
          [
           "North Powder",
           "OR",
           "Light Snow"
          ],
          [
           "Clarkston",
           "GA",
           "Fair"
          ],
          [
           "Madison",
           "AL",
           "Cloudy"
          ],
          [
           "Downers Grove",
           "IL",
           "Mostly Cloudy"
          ],
          [
           "Oneonta",
           "AL",
           "Clear"
          ],
          [
           "Oxford",
           "MS",
           "Fair"
          ],
          [
           "Brooklyn",
           "NY",
           "Light Rain"
          ],
          [
           "Atlanta",
           "GA",
           "Partly Cloudy"
          ],
          [
           "North Fort Myers",
           "FL",
           "Fair"
          ],
          [
           "Clayton",
           "IN",
           "Mostly Cloudy"
          ],
          [
           "Falls Church",
           "VA",
           "Cloudy"
          ],
          [
           "Geneva",
           "IL",
           "Mostly Cloudy"
          ],
          [
           "Narvon",
           "PA",
           "Light Snow"
          ],
          [
           "Boynton Beach",
           "FL",
           "Mostly Cloudy"
          ],
          [
           "Islandia",
           "NY",
           "Mostly Cloudy"
          ],
          [
           "Fort Myers",
           "FL",
           "Fair"
          ],
          [
           "Saint Augustine",
           "FL",
           "Clear"
          ],
          [
           "Riverside",
           "CA",
           "Fair"
          ],
          [
           "Livingston",
           "CA",
           "Cloudy"
          ],
          [
           "Danville",
           "VA",
           "Cloudy"
          ],
          [
           "Fort Myers",
           "FL",
           "Fair"
          ],
          [
           "Yonkers",
           "NY",
           "Fair"
          ],
          [
           "Valley Springs",
           "CA",
           "Cloudy"
          ],
          [
           "Valley Village",
           "CA",
           "Fair"
          ],
          [
           "Dallas",
           "TX",
           "Cloudy"
          ],
          [
           "Charlotte",
           "NC",
           "Overcast"
          ],
          [
           "Rosedale",
           "MD",
           "Heavy Rain"
          ],
          [
           "Shreveport",
           "LA",
           "Light Rain"
          ],
          [
           "Orlando",
           "FL",
           "Fair"
          ],
          [
           "Stockton",
           "CA",
           "Clear"
          ],
          [
           "Elkton",
           "MD",
           "Partly Cloudy"
          ],
          [
           "Bellmore",
           "NY",
           "Fair"
          ],
          [
           "Marianna",
           "FL",
           "Fair"
          ],
          [
           "Flint",
           "MI",
           "Overcast"
          ],
          [
           "Witter",
           "AR",
           "Fair"
          ],
          [
           "Houston",
           "TX",
           "Shallow Fog"
          ],
          [
           "Phelan",
           "CA",
           "Fair"
          ],
          [
           "Bozeman",
           "MT",
           "Light Snow"
          ],
          [
           "Wendover",
           "UT",
           "Fair"
          ],
          [
           "Baton Rouge",
           "LA",
           "Mostly Cloudy"
          ],
          [
           "Tuscaloosa",
           "AL",
           "Fair"
          ],
          [
           "Atlanta",
           "GA",
           "Scattered Clouds"
          ],
          [
           "Lancaster",
           "SC",
           "Cloudy"
          ],
          [
           "Dearborn",
           "MI",
           "Overcast"
          ],
          [
           "Chicago",
           "IL",
           "Cloudy"
          ],
          [
           "Davison",
           "MI",
           "Scattered Clouds"
          ],
          [
           "San Leandro",
           "CA",
           "Fair"
          ],
          [
           "La Grange",
           "IL",
           "Mostly Cloudy"
          ],
          [
           "Indianapolis",
           "IN",
           "Partly Cloudy"
          ],
          [
           "Dallas",
           "TX",
           "Partly Cloudy"
          ],
          [
           "Charlotte",
           "NC",
           "Fair"
          ],
          [
           "Tucson",
           "AZ",
           "Fair"
          ],
          [
           "Travelers Rest",
           "SC",
           "Fair"
          ],
          [
           "Oklahoma City",
           "OK",
           "Clear"
          ],
          [
           "Akron",
           "OH",
           "Mostly Cloudy"
          ],
          [
           "Compton",
           "CA",
           "Fair"
          ],
          [
           "Murrieta",
           "CA",
           "Fair"
          ],
          [
           "San Antonio",
           "TX",
           "Mostly Cloudy"
          ],
          [
           "Klamath Falls",
           "OR",
           "Fair"
          ],
          [
           "Antioch",
           "TN",
           "Cloudy"
          ],
          [
           "Houston",
           "TX",
           "Mostly Cloudy"
          ],
          [
           "Queen Anne",
           "MD",
           "Cloudy"
          ],
          [
           "Buchanan",
           "VA",
           "Fair"
          ],
          [
           "Austin",
           "TX",
           "Overcast"
          ],
          [
           "Lebec",
           "CA",
           "Fair"
          ],
          [
           "Hinsdale",
           "IL",
           "Scattered Clouds"
          ],
          [
           "Saint Paul",
           "MN",
           "Light Snow"
          ],
          [
           "Mount Dora",
           "FL",
           "Fair"
          ],
          [
           "Lancaster",
           "PA",
           "Fair"
          ],
          [
           "San Joaquin",
           "CA",
           "Clear"
          ],
          [
           "Pleasanton",
           "CA",
           "Fair"
          ],
          [
           "Elk River",
           "MN",
           "T-Storm"
          ],
          [
           "Richmond",
           "VA",
           "Scattered Clouds"
          ],
          [
           "Burke",
           "VA",
           "Fair"
          ],
          [
           "Carmichael",
           "CA",
           "Fair"
          ],
          [
           "Pendleton",
           "OR",
           "Overcast"
          ],
          [
           "View Park",
           "CA",
           "Clear"
          ],
          [
           "Belle Plaine",
           "MN",
           "Drizzle"
          ],
          [
           "Dallas",
           "TX",
           "Mostly Cloudy"
          ],
          [
           "Greenville",
           "SC",
           "Clear"
          ],
          [
           "Walnut Creek",
           "CA",
           "Mostly Cloudy"
          ],
          [
           "Chattanooga",
           "TN",
           "Fair"
          ],
          [
           "Pittsburgh",
           "PA",
           "Cloudy"
          ],
          [
           "Tulare",
           "CA",
           "Fair"
          ],
          [
           "Raleigh",
           "NC",
           "Scattered Clouds"
          ],
          [
           "Raleigh",
           "NC",
           "Fair"
          ],
          [
           "Latta",
           "SC",
           "Rain"
          ],
          [
           "Atlanta",
           "GA",
           "Clear"
          ],
          [
           "Raleigh",
           "NC",
           "Fair"
          ],
          [
           "Castle Rock",
           "CO",
           "Partly Cloudy"
          ],
          [
           "Houston",
           "TX",
           "Partly Cloudy"
          ],
          [
           "Zebulon",
           "NC",
           "Fair"
          ],
          [
           "Manor",
           "TX",
           "Clear"
          ],
          [
           "Chicago",
           "IL",
           "Light Rain"
          ],
          [
           "Redding",
           "CA",
           "Cloudy"
          ],
          [
           "Lafayette",
           "LA",
           "Mostly Cloudy"
          ],
          [
           "Elmsford",
           "NY",
           "Clear"
          ],
          [
           "Raleigh",
           "NC",
           "Cloudy"
          ],
          [
           "Ft Mitchell",
           "KY",
           "Mostly Cloudy"
          ],
          [
           "Baltimore",
           "MD",
           null
          ],
          [
           "Atwater",
           "CA",
           "Fair"
          ],
          [
           "Reno",
           "NV",
           "Partly Cloudy"
          ],
          [
           "East Providence",
           "RI",
           "Fair"
          ],
          [
           "Chicago",
           "IL",
           "Fair"
          ],
          [
           "Raleigh",
           "NC",
           "Mostly Cloudy"
          ],
          [
           "Yukon",
           "OK",
           null
          ],
          [
           "Henderson",
           "CO",
           "Mostly Cloudy"
          ],
          [
           "Dallas",
           "TX",
           "Light Rain"
          ],
          [
           "Castaic",
           "CA",
           "Fair"
          ],
          [
           "Grand Rapids",
           "MI",
           "Cloudy"
          ],
          [
           "Miami",
           "FL",
           "Mostly Cloudy"
          ],
          [
           "Tampa",
           "FL",
           null
          ],
          [
           "Atlanta",
           "GA",
           "Cloudy"
          ],
          [
           "Salt Lake City",
           "UT",
           "Cloudy"
          ],
          [
           "Phoenix",
           "AZ",
           "Partly Cloudy"
          ],
          [
           "Duncan",
           "SC",
           "Fair"
          ],
          [
           "Inver Grove Heights",
           "MN",
           "Fair"
          ],
          [
           "Minneapolis",
           "MN",
           "Fair"
          ],
          [
           "Troy",
           "AL",
           "Rain"
          ],
          [
           "Springfield",
           "VA",
           "Clear"
          ],
          [
           "Pomona",
           "CA",
           "Fair"
          ],
          [
           "Corvallis",
           "OR",
           "Cloudy"
          ],
          [
           "Jacksonville",
           "FL",
           "Fair"
          ],
          [
           "New London",
           "CT",
           "Heavy Rain"
          ],
          [
           "Alhambra",
           "CA",
           "Mostly Cloudy"
          ],
          [
           "Tracy",
           "CA",
           "Fair"
          ],
          [
           "Canton",
           "MA",
           "Cloudy"
          ],
          [
           "Plain City",
           "OH",
           "Clear"
          ],
          [
           "American Fork",
           "UT",
           "Partly Cloudy"
          ],
          [
           "Rochester",
           "NY",
           "Mostly Cloudy"
          ],
          [
           "Houston",
           "TX",
           "Mostly Cloudy"
          ],
          [
           "Jacksonville",
           "FL",
           "Mostly Cloudy"
          ],
          [
           "Los Angeles",
           "CA",
           "Clear"
          ],
          [
           "Bremen",
           "GA",
           "Fair"
          ],
          [
           "Kearney",
           "MO",
           "Fair"
          ],
          [
           "Shaniko",
           "OR",
           "Light Rain"
          ],
          [
           "Montgomery",
           "AL",
           "Fair"
          ],
          [
           "Huntsville",
           "AL",
           "Clear"
          ],
          [
           "Austin",
           "TX",
           "Fair"
          ],
          [
           "Cleveland",
           "OH",
           "Light Snow"
          ],
          [
           "Charlotte",
           "NC",
           "Mostly Cloudy"
          ],
          [
           "Charlotte",
           "NC",
           "Scattered Clouds"
          ],
          [
           "Quincy",
           "FL",
           "Thunder"
          ],
          [
           "Redmond",
           "WA",
           "Fair"
          ],
          [
           "Tuscaloosa",
           "AL",
           "Fair"
          ],
          [
           "San Diego",
           "CA",
           "Fair"
          ],
          [
           "Miami",
           "FL",
           "Partly Cloudy"
          ],
          [
           "Independence",
           "MO",
           "Cloudy"
          ],
          [
           "Harlem",
           "GA",
           "Fair"
          ],
          [
           "Gap",
           "PA",
           "Light Snow"
          ],
          [
           "Saint Louis",
           "MO",
           "Cloudy"
          ],
          [
           "Manchester",
           "MD",
           "Fair"
          ],
          [
           "Winter Garden",
           "FL",
           "Partly Cloudy"
          ],
          [
           "Grand Rapids",
           "MI",
           "Shallow Fog"
          ],
          [
           "Tulsa",
           "OK",
           "Fair"
          ],
          [
           "Loris",
           "SC",
           "Clear"
          ],
          [
           "Frederick",
           "MD",
           "Fair"
          ],
          [
           "Millersville",
           "MD",
           null
          ],
          [
           "Greenville",
           "SC",
           "Clear"
          ],
          [
           "San Diego",
           "CA",
           "Clear"
          ],
          [
           "Rancho Santa Margarita",
           "CA",
           "Clear"
          ],
          [
           "Manteca",
           "CA",
           "Fair"
          ],
          [
           "Fallbrook",
           "CA",
           "Cloudy"
          ],
          [
           "Riverside",
           "CA",
           "Clear"
          ],
          [
           "Myrtle Beach",
           "SC",
           "Partly Cloudy"
          ],
          [
           "Jamestown",
           "CA",
           "Fair"
          ],
          [
           "Spartanburg",
           "SC",
           "Mostly Cloudy"
          ],
          [
           "Detroit",
           "MI",
           "Overcast"
          ],
          [
           "Park City",
           "UT",
           null
          ],
          [
           "Atlanta",
           "GA",
           "Fair"
          ],
          [
           "Portland",
           "OR",
           "Cloudy"
          ],
          [
           "Memphis",
           "TN",
           "Mostly Cloudy"
          ],
          [
           "Clinton",
           "SC",
           "Fair"
          ],
          [
           "Jacksonville",
           "FL",
           "Fair"
          ],
          [
           "Tucson",
           "AZ",
           "Fair"
          ],
          [
           "Grand Rapids",
           "MI",
           "Mostly Cloudy"
          ],
          [
           "Miami",
           "FL",
           "Mostly Cloudy"
          ],
          [
           "Alamo",
           "CA",
           "Clear"
          ],
          [
           "Los Angeles",
           "CA",
           "Clear"
          ],
          [
           "Hialeah",
           "FL",
           "Fair"
          ],
          [
           "Forsyth",
           "MT",
           "Fog"
          ],
          [
           "Chattanooga",
           "TN",
           "Mostly Cloudy"
          ],
          [
           "Woodburn",
           "OR",
           "Fair"
          ],
          [
           "Depoe Bay",
           "OR",
           "Light Rain"
          ],
          [
           "Commack",
           "NY",
           "Rain"
          ],
          [
           "Barnesville",
           "GA",
           "Fair"
          ],
          [
           "Spring Hill",
           "TN",
           "Partly Cloudy"
          ],
          [
           "Omaha",
           "NE",
           "Clear"
          ],
          [
           "Deerfield",
           "IL",
           "Overcast"
          ],
          [
           "Dixon",
           "CA",
           "Fair"
          ],
          [
           "Antioch",
           "TN",
           "Partly Cloudy"
          ],
          [
           "South Jordan",
           "UT",
           "Fair"
          ],
          [
           "West Haven",
           "CT",
           "Fair"
          ],
          [
           "Ontario",
           "CA",
           "Cloudy"
          ],
          [
           "Memphis",
           "TN",
           "Heavy Rain"
          ],
          [
           "Easley",
           "SC",
           "Heavy Drizzle"
          ],
          [
           "Chicago",
           "IL",
           "Mostly Cloudy"
          ],
          [
           "Phoenix",
           "AZ",
           "Fair"
          ],
          [
           "Providence",
           "RI",
           "Fair"
          ],
          [
           "Salinas",
           "CA",
           "Fair"
          ],
          [
           "San Antonio",
           "TX",
           "Scattered Clouds"
          ],
          [
           "Asheboro",
           "NC",
           "Fair"
          ],
          [
           "Charlotte",
           "NC",
           "Mostly Cloudy"
          ],
          [
           "Richmond",
           "VA",
           "Partly Cloudy"
          ],
          [
           "Lake City",
           "SC",
           "Fair"
          ],
          [
           "Sacramento",
           "CA",
           "Fair"
          ],
          [
           "Blythewood",
           "SC",
           "Clear"
          ],
          [
           "Los Angeles",
           "CA",
           "Fair"
          ],
          [
           "Dallas",
           "TX",
           "Mostly Cloudy"
          ],
          [
           "Phoenix",
           "AZ",
           "Fair"
          ],
          [
           "Grand Rapids",
           "MI",
           "Mostly Cloudy"
          ],
          [
           "Hinckley",
           "MN",
           "Cloudy"
          ],
          [
           "Coloma",
           "WI",
           "Fair"
          ],
          [
           "Phoenix",
           "AZ",
           "Fair"
          ],
          [
           "Bronx",
           "NY",
           "Fair"
          ],
          [
           "Atlanta",
           "GA",
           "Mostly Cloudy"
          ],
          [
           "Bay Minette",
           "AL",
           "Cloudy"
          ],
          [
           "Hialeah",
           "FL",
           "Heavy Rain"
          ],
          [
           "Lakeland",
           "FL",
           "Rain"
          ],
          [
           "Baton Rouge",
           "LA",
           "Fair"
          ],
          [
           "Los Angeles",
           "CA",
           "Fair"
          ],
          [
           "Garden Grove",
           "CA",
           "Mostly Cloudy"
          ],
          [
           "Tyler",
           "TX",
           "Rain"
          ],
          [
           "Irvine",
           "CA",
           "Fair"
          ],
          [
           "Chicago",
           "IL",
           "Mostly Cloudy"
          ],
          [
           "Miami",
           "FL",
           "Mostly Cloudy"
          ],
          [
           "Newark",
           "CA",
           "Fair"
          ],
          [
           "Verona",
           "PA",
           "Fair"
          ],
          [
           "Scottsboro",
           "AL",
           "Clear"
          ],
          [
           "Klamath Falls",
           "OR",
           "Light Snow"
          ],
          [
           "Sarasota",
           "FL",
           "Fair"
          ],
          [
           "Atlanta",
           "GA",
           "Fair"
          ],
          [
           "Dallas",
           "TX",
           "Fair"
          ],
          [
           "Perris",
           "CA",
           "Fair"
          ],
          [
           "San Antonio",
           "TX",
           "Cloudy"
          ],
          [
           "Houston",
           "TX",
           "Partly Cloudy"
          ],
          [
           "Fanning Springs",
           "FL",
           "Fair"
          ],
          [
           "San Bruno",
           "CA",
           "Overcast"
          ],
          [
           "Memphis",
           "TN",
           "Cloudy"
          ],
          [
           "Sherman Oaks",
           "CA",
           "Fair"
          ],
          [
           "Cambria",
           "CA",
           "Fair"
          ],
          [
           "Miami",
           "FL",
           "Fair"
          ],
          [
           "Alabaster",
           "AL",
           "Cloudy"
          ],
          [
           "Fair Lawn",
           "NJ",
           "Cloudy"
          ],
          [
           "Castaic",
           "CA",
           "Fair"
          ],
          [
           "Miami",
           "FL",
           "Mostly Cloudy"
          ],
          [
           "Atlanta",
           "GA",
           "Fair"
          ],
          [
           "New Castle",
           "PA",
           "Cloudy"
          ],
          [
           "Fresno",
           "CA",
           "Fog"
          ],
          [
           "San Antonio",
           "TX",
           "Overcast"
          ],
          [
           "Rockford",
           "IL",
           "Fair"
          ],
          [
           "Norton",
           "MA",
           "Clear"
          ],
          [
           "Queensbury",
           "NY",
           "Fair"
          ],
          [
           "Chapin",
           "SC",
           "T-Storm"
          ],
          [
           "Ogden",
           "UT",
           "Cloudy"
          ],
          [
           "Blackwood",
           "NJ",
           "Mostly Cloudy"
          ],
          [
           "Royal Oak",
           "MI",
           "Fair"
          ],
          [
           "San Antonio",
           "TX",
           "Fair"
          ],
          [
           "Webster",
           "TX",
           "Overcast"
          ],
          [
           "Los Angeles",
           "CA",
           "Cloudy"
          ],
          [
           "Gaines",
           "MI",
           "Mostly Cloudy"
          ],
          [
           "Vero Beach",
           "FL",
           "Fair"
          ],
          [
           "Hartford",
           "CT",
           "Fair"
          ],
          [
           "Long Beach",
           "CA",
           "Fair"
          ],
          [
           "Winchester",
           "VA",
           "Mostly Cloudy"
          ],
          [
           "Dallas",
           "TX",
           "Mostly Cloudy"
          ],
          [
           "Augusta",
           "GA",
           "Clear"
          ],
          [
           "Saint Cloud",
           "FL",
           "Partly Cloudy"
          ],
          [
           "Virginia Beach",
           "VA",
           "Overcast"
          ],
          [
           "Tucson",
           "AZ",
           "Fair"
          ],
          [
           "Plymouth",
           "MI",
           "Cloudy"
          ],
          [
           "Bonita Springs",
           "FL",
           "Cloudy"
          ],
          [
           "Senoia",
           "GA",
           "Clear"
          ],
          [
           "Beaufort",
           "SC",
           "Fair"
          ],
          [
           "Lemont",
           "IL",
           "Clear"
          ],
          [
           "Santa Clarita",
           "CA",
           "Fair"
          ],
          [
           "Rhinebeck",
           "NY",
           "Fair"
          ],
          [
           "Plant City",
           "FL",
           "Scattered Clouds"
          ],
          [
           "Winter Springs",
           "FL",
           "Thunder"
          ],
          [
           "Estacada",
           "OR",
           "Fair"
          ],
          [
           "Little Rock",
           "AR",
           "Fair"
          ],
          [
           "Los Angeles",
           "CA",
           "Partly Cloudy"
          ],
          [
           "Ash Fork",
           "AZ",
           "Mostly Cloudy"
          ],
          [
           "Atlanta",
           "GA",
           "Fair"
          ],
          [
           "Bethesda",
           "MD",
           "Partly Cloudy"
          ],
          [
           "Opa-Locka",
           "FL",
           "Fair"
          ],
          [
           "Hinsdale",
           "IL",
           "Scattered Clouds"
          ],
          [
           "Boise",
           "ID",
           "Partly Cloudy"
          ],
          [
           "Nichols",
           "SC",
           "Fair"
          ],
          [
           "Salt Lake City",
           "UT",
           "Light Rain"
          ],
          [
           "Sauk Rapids",
           "MN",
           "Fair / Windy"
          ],
          [
           "San Antonio",
           "TX",
           "Mostly Cloudy"
          ],
          [
           "New York",
           "NY",
           "Cloudy"
          ],
          [
           "Buffalo",
           "SC",
           "Cloudy"
          ],
          [
           "North Haven",
           "CT",
           "Clear"
          ],
          [
           "Gilroy",
           "CA",
           "Fair"
          ],
          [
           "Lansdale",
           "PA",
           "Overcast"
          ],
          [
           "Swartz Creek",
           "MI",
           "Light Snow"
          ],
          [
           "Baton Rouge",
           "LA",
           "Fair"
          ],
          [
           "Dallas",
           "TX",
           "Cloudy"
          ],
          [
           "Atlanta",
           "GA",
           "Partly Cloudy"
          ],
          [
           "Lodi",
           "CA",
           "Light Rain"
          ],
          [
           "Santa Barbara",
           "CA",
           "Scattered Clouds"
          ],
          [
           "Lutherville Timonium",
           "MD",
           null
          ],
          [
           "Monticello",
           "MN",
           "Cloudy"
          ],
          [
           "Long Beach",
           "CA",
           "Clear"
          ],
          [
           "Miami",
           "FL",
           "Clear"
          ],
          [
           "Palmetto",
           "FL",
           "Fair"
          ],
          [
           "Richmond",
           "VA",
           "Fair"
          ],
          [
           "Tucson",
           "AZ",
           "Clear"
          ],
          [
           "Encino",
           "CA",
           "Fair"
          ],
          [
           "Norwalk",
           "CA",
           "Fair"
          ],
          [
           "Atlanta",
           "GA",
           "Fair"
          ],
          [
           "Waltham",
           "MA",
           "Overcast"
          ],
          [
           "Lees Summit",
           "MO",
           "Fair"
          ],
          [
           "Sykesville",
           "MD",
           "Fair"
          ],
          [
           "South San Francisco",
           "CA",
           "Partly Cloudy"
          ],
          [
           "North Fort Myers",
           "FL",
           "Fair"
          ],
          [
           "San Antonio",
           "TX",
           "Mostly Cloudy"
          ],
          [
           "Ronkonkoma",
           "NY",
           "Fair"
          ],
          [
           "Houston",
           "TX",
           "Fair"
          ],
          [
           "Pasadena",
           "CA",
           null
          ],
          [
           "Riverside",
           "CA",
           "Fair"
          ],
          [
           "Yonkers",
           "NY",
           "Mostly Cloudy"
          ],
          [
           "Salem",
           "OR",
           "Clear"
          ],
          [
           "Flushing",
           "NY",
           "Fair / Windy"
          ],
          [
           "Boulder Creek",
           "CA",
           "Scattered Clouds"
          ],
          [
           "Houston",
           "TX",
           "Clear"
          ],
          [
           "Orlando",
           "FL",
           "Fair"
          ],
          [
           "Dallas",
           "TX",
           "Scattered Clouds"
          ],
          [
           "Saint Louis",
           "MO",
           "Light Rain"
          ],
          [
           "Ventura",
           "CA",
           "Clear"
          ],
          [
           "Newark",
           "CA",
           "Fair"
          ],
          [
           "Bellefonte",
           "PA",
           "Partly Cloudy"
          ],
          [
           "Austin",
           "TX",
           "Fair"
          ],
          [
           "Austin",
           "TX",
           "Clear"
          ],
          [
           "Sacramento",
           "CA",
           "Fair"
          ],
          [
           "Oakland",
           "CA",
           "Fair"
          ],
          [
           "Santa Paula",
           "CA",
           "Fair"
          ],
          [
           "Bessemer",
           "AL",
           "Cloudy"
          ],
          [
           "Mullins",
           "SC",
           "Mostly Cloudy"
          ],
          [
           "Griffin",
           "GA",
           "Clear"
          ],
          [
           "Miami",
           "FL",
           "Fair"
          ],
          [
           "Tyler",
           "TX",
           "Fair"
          ],
          [
           "Dayton",
           "OH",
           "Fair"
          ],
          [
           "Maidens",
           "VA",
           "Partly Cloudy"
          ],
          [
           "San Carlos",
           "CA",
           "Mostly Cloudy"
          ],
          [
           "Austin",
           "TX",
           "Clear"
          ],
          [
           "San Diego",
           "CA",
           "Fair"
          ],
          [
           "Myrtle Beach",
           "SC",
           "Cloudy"
          ],
          [
           "Suffolk",
           "VA",
           "Fair"
          ],
          [
           "Cambridge City",
           "IN",
           "Light Snow"
          ],
          [
           "Houston",
           "TX",
           "Clear"
          ],
          [
           "Palm Harbor",
           "FL",
           "Fair"
          ],
          [
           "Rifle",
           "CO",
           "Partly Cloudy"
          ],
          [
           "Hialeah",
           "FL",
           "Partly Cloudy"
          ],
          [
           "Stanton",
           "AL",
           "Fair"
          ],
          [
           "Helper",
           "UT",
           "Cloudy"
          ],
          [
           "Sunol",
           "CA",
           "Fair"
          ],
          [
           "Clanton",
           "AL",
           "Fair"
          ],
          [
           "Davie",
           "FL",
           "Mostly Cloudy"
          ],
          [
           "Whitehall",
           "MT",
           "Cloudy"
          ],
          [
           "Riverside",
           "CA",
           "Haze"
          ],
          [
           "Orlando",
           "FL",
           "Fair"
          ],
          [
           "Lost Creek",
           "WV",
           "Heavy Rain"
          ],
          [
           "Morrisville",
           "NC",
           "Fair"
          ],
          [
           "Elmhurst",
           "IL",
           "Light Snow"
          ],
          [
           "Buda",
           "TX",
           "Overcast"
          ],
          [
           "Wolf Creek",
           "OR",
           "Snow"
          ],
          [
           "Boise",
           "ID",
           "Fair"
          ],
          [
           "Nashville",
           "TN",
           "Mostly Cloudy"
          ],
          [
           "Orlando",
           "FL",
           "Mostly Cloudy"
          ],
          [
           "Brockport",
           "NY",
           "Overcast"
          ],
          [
           "Melbourne",
           "FL",
           "Partly Cloudy"
          ],
          [
           "Miami",
           "FL",
           "Mostly Cloudy"
          ],
          [
           "Collinsville",
           "VA",
           null
          ],
          [
           "Peoria",
           "AZ",
           "Scattered Clouds"
          ],
          [
           "Detroit",
           "MI",
           "Cloudy"
          ],
          [
           "Greenville",
           "SC",
           "Mostly Cloudy"
          ],
          [
           "Richmond",
           "VA",
           "Partly Cloudy"
          ],
          [
           "Birmingham",
           "AL",
           "Thunder"
          ],
          [
           "Los Angeles",
           "CA",
           null
          ],
          [
           "Washington",
           "DC",
           "Overcast"
          ],
          [
           "Miami",
           "FL",
           "Partly Cloudy"
          ],
          [
           "Beaver",
           "UT",
           "Partly Cloudy"
          ],
          [
           "Atlanta",
           "GA",
           "Light Rain"
          ],
          [
           "Irvine",
           "CA",
           "Cloudy"
          ],
          [
           "Loman",
           "MN",
           "Fair"
          ],
          [
           "North Chili",
           "NY",
           "Overcast"
          ],
          [
           "Columbia",
           "SC",
           "Partly Cloudy"
          ],
          [
           "Austin",
           "TX",
           "Partly Cloudy"
          ],
          [
           "Portage",
           "WI",
           "Heavy Rain"
          ],
          [
           "Pensacola",
           "FL",
           "Clear"
          ],
          [
           "Cascade Locks",
           "OR",
           "Light Snow / Windy"
          ],
          [
           "Harleyville",
           "SC",
           "Clear"
          ],
          [
           "Anaheim",
           "CA",
           "Cloudy"
          ],
          [
           "Miami",
           "FL",
           "Mostly Cloudy"
          ],
          [
           "Columbia",
           "SC",
           "Fair"
          ],
          [
           "Conshohocken",
           "PA",
           "Fair"
          ],
          [
           "Sacramento",
           "CA",
           "Fair"
          ],
          [
           "Warren",
           "NJ",
           "Light Rain"
          ],
          [
           "Crawfordville",
           "GA",
           "Cloudy"
          ],
          [
           "Monroe",
           "OH",
           "Scattered Clouds"
          ],
          [
           "Aurora",
           "CO",
           "Fair"
          ],
          [
           "Pasadena",
           "CA",
           null
          ],
          [
           "Hanover",
           "MA",
           "Fair"
          ],
          [
           "Omaha",
           "NE",
           "Clear"
          ],
          [
           "Los Alamitos",
           "CA",
           "Fair"
          ],
          [
           "New York",
           "NY",
           null
          ],
          [
           "Burlington",
           "MA",
           "Light Snow"
          ],
          [
           "Indianapolis",
           "IN",
           "Fog"
          ],
          [
           "Boys Town",
           "NE",
           "Clear"
          ],
          [
           "Mechanicsville",
           "VA",
           "Fair"
          ],
          [
           "Rochester",
           "NY",
           "Light Snow"
          ],
          [
           "Lynwood",
           "CA",
           "Fair"
          ],
          [
           "Reading",
           "PA",
           "Fair"
          ],
          [
           "Government Camp",
           "OR",
           "Cloudy"
          ],
          [
           "Laurel",
           "MT",
           "Cloudy"
          ],
          [
           "Austin",
           "TX",
           "Scattered Clouds"
          ],
          [
           "La Canada Flintridge",
           "CA",
           null
          ],
          [
           "Brooklyn",
           "NY",
           null
          ],
          [
           "Fort Rock",
           "OR",
           "Fair"
          ],
          [
           "West Yellowstone",
           "MT",
           null
          ],
          [
           "Miami",
           "FL",
           "Fair"
          ],
          [
           "Detroit",
           "MI",
           "Cloudy"
          ],
          [
           "Austell",
           "GA",
           "Mostly Cloudy"
          ],
          [
           "Somers",
           "NY",
           "Clear"
          ],
          [
           "Edmond",
           "OK",
           "Clear"
          ],
          [
           "Atlanta",
           "GA",
           "Clear"
          ],
          [
           "Boswell",
           "PA",
           "Fair"
          ],
          [
           "Paramount",
           "CA",
           "Fog"
          ],
          [
           "Union City",
           "CA",
           "Light Rain"
          ],
          [
           "Richmond",
           "VA",
           "Light Rain"
          ],
          [
           "Monterey Park",
           "CA",
           "Fair"
          ],
          [
           "Cardiff By the Sea",
           "CA",
           "Light Rain"
          ],
          [
           "Lodi",
           "CA",
           "Fair"
          ],
          [
           "Milwaukee",
           "WI",
           "Wintry Mix"
          ],
          [
           "Hudson",
           "CO",
           "Mostly Cloudy"
          ],
          [
           "Dallas",
           "TX",
           "Fair"
          ],
          [
           "Elmhurst",
           "IL",
           "Scattered Clouds"
          ],
          [
           "Rocklin",
           "CA",
           "Clear"
          ],
          [
           "Oklahoma City",
           "OK",
           "Clear"
          ],
          [
           "Milton",
           "PA",
           "Fair"
          ],
          [
           "Sacramento",
           "CA",
           "Fair"
          ],
          [
           "Ridley Park",
           "PA",
           "Fair"
          ],
          [
           "Fallbrook",
           "CA",
           "Cloudy"
          ],
          [
           "Buena Park",
           "CA",
           "Fair"
          ],
          [
           "Greenville",
           "SC",
           "Fair"
          ],
          [
           "Irmo",
           "SC",
           "Fair"
          ],
          [
           "Los Angeles",
           "CA",
           "Fair"
          ],
          [
           "Scottsdale",
           "AZ",
           "Fair"
          ],
          [
           "Hillsville",
           "VA",
           "Fair"
          ],
          [
           "Forest Park",
           "GA",
           "Fair"
          ],
          [
           "Sherman Oaks",
           "CA",
           "Fair"
          ],
          [
           "Fort Lauderdale",
           "FL",
           "Clear"
          ],
          [
           "Easton",
           "PA",
           "Light Rain"
          ],
          [
           "Anderson",
           "SC",
           "Clear"
          ],
          [
           "Chino",
           "CA",
           "Light Rain"
          ],
          [
           "Portland",
           "OR",
           "Light Rain"
          ],
          [
           "Miami",
           "FL",
           "Fair"
          ],
          [
           "Carlsbad",
           "CA",
           "Clear"
          ],
          [
           "Indio",
           "CA",
           "Clear"
          ],
          [
           "Elgin",
           "SC",
           "Thunder in the Vicinity"
          ],
          [
           "Ephrata",
           "PA",
           "Cloudy"
          ],
          [
           "Ontario",
           "CA",
           "Mostly Cloudy"
          ],
          [
           "Caledonia",
           "WI",
           "Rain"
          ],
          [
           "Los Angeles",
           "CA",
           "Fair"
          ],
          [
           "Chicago",
           "IL",
           "Mostly Cloudy"
          ],
          [
           "Bakersfield",
           "CA",
           "Fair"
          ],
          [
           "Lebec",
           "CA",
           null
          ],
          [
           "Gardena",
           "CA",
           "Cloudy"
          ],
          [
           "Lake Elmo",
           "MN",
           "Fair"
          ],
          [
           "Cary",
           "NC",
           "Mostly Cloudy"
          ],
          [
           "Malvern",
           "PA",
           "Light Snow"
          ],
          [
           "Nyack",
           "NY",
           "Clear"
          ],
          [
           "North Miami Beach",
           "FL",
           "Cloudy"
          ],
          [
           "Woodburn",
           "OR",
           "Clear"
          ],
          [
           "Lake City",
           "FL",
           "Fair"
          ],
          [
           "North Fort Myers",
           "FL",
           "Partly Cloudy"
          ],
          [
           "Grand Rapids",
           "MI",
           "Partly Cloudy"
          ],
          [
           "Denver",
           "CO",
           "Partly Cloudy"
          ],
          [
           "Seattle",
           "WA",
           "Light Rain"
          ],
          [
           "San Diego",
           "CA",
           "Fair"
          ],
          [
           "Miami",
           "FL",
           "Partly Cloudy"
          ],
          [
           "Ormond Beach",
           "FL",
           "Fair"
          ],
          [
           "Saint Louis",
           "MO",
           "Fair"
          ],
          [
           "Smyrna",
           "GA",
           "Mostly Cloudy"
          ],
          [
           "El Paso",
           "TX",
           "Fair"
          ],
          [
           "Oklahoma City",
           "OK",
           "Clear"
          ],
          [
           "Charlotte",
           "NC",
           "Fair"
          ],
          [
           "Ann Arbor",
           "MI",
           "Fair"
          ],
          [
           "Ontario",
           "CA",
           "Haze"
          ],
          [
           "Apopka",
           "FL",
           "Fair"
          ],
          [
           "Long Beach",
           "CA",
           "Haze"
          ],
          [
           "Max Meadows",
           "VA",
           "Mostly Cloudy"
          ],
          [
           "San Francisco",
           "CA",
           "Fair"
          ],
          [
           "Minneapolis",
           "MN",
           "Partly Cloudy"
          ],
          [
           "Saint Paul",
           "MN",
           null
          ],
          [
           "Miami",
           "FL",
           "Fair"
          ],
          [
           "Jasper",
           "FL",
           "Light Rain"
          ],
          [
           "Corona",
           "CA",
           "Fair"
          ],
          [
           "Dallas",
           "TX",
           "Fair"
          ],
          [
           "Pflugerville",
           "TX",
           "Fair"
          ],
          [
           "Lake City",
           "SC",
           "Fair"
          ],
          [
           "Roslyn Heights",
           "NY",
           "Scattered Clouds"
          ],
          [
           "Charlotte",
           "NC",
           "Fair"
          ],
          [
           "Jefferson",
           "GA",
           null
          ],
          [
           "Burnsville",
           "MN",
           "Scattered Clouds"
          ],
          [
           "Atlanta",
           "GA",
           "Fair"
          ],
          [
           "Alexandria",
           "VA",
           "Fair"
          ],
          [
           "San Mateo",
           "CA",
           "Clear"
          ],
          [
           "Nashville",
           "TN",
           "Fair"
          ],
          [
           "Miami",
           "FL",
           "Partly Cloudy"
          ],
          [
           "Dallas",
           "TX",
           "Fair"
          ]
         ],
         "hovertemplate": "Start_Lat=%{lat}<br>Start_Lng=%{lon}<br>City=%{customdata[0]}<br>State=%{customdata[1]}<br>Weather_Condition=%{customdata[2]}<br>Severity=%{marker.color}<extra></extra>",
         "lat": {
          "bdata": "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",
          "dtype": "f8"
         },
         "legendgroup": "",
         "lon": {
          "bdata": "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",
          "dtype": "f8"
         },
         "marker": {
          "color": {
           "bdata": "AgICAgICAwICAgIDAgICAgQCBAMCAgICAwICAgICAgIDAgICAwMCAgECAwICAgICAgICAgICAgICAgICAgIDAgMCAgIDAgICAgIDAgIDBAICAwICAgICAQMDAgICAgMCAwMDAgICAwIDAgICAgIDAgICAgMDAgICAgMCAgQEAwMDAgIDAgQCAwMCAgICAgMCAwMCAgIDAwICAgICAgICAgMCAgMCAgICBAICAgICAgICAgMCAgICAgICAgIDAgICAgICAwICAgICAQICAgICAgMCAgMCAgICAgMDAwICAgIEAwICAgICAgIDAwICAwMCAgICBAMDAgICAwIDAgICAgIDAgICAgICAgICAgICAgICAgMCAwMCAgICAgECAwIDAgICAgICAgECAgICAwIBAgICAgICAgICAwICAgICAgICAgMCAwICAgMCAgICAgICAwICAgICAgQCAwICAgICAwMDAgICAgIDAgICAgICAgICAgICAgMCAwIDAgICAgIDAgICAgIEAwIDAgICAwIDAgICAgIEAgICAgICAwICAwICAwIDAgICAgICAgICAgICAgICAgICAwICAwIDAQICAwICAgICAgICAwICAwICAgICAgMCAgICAgIDAgICAgICAgICAgMDAgICAgQCAgMCAgECAgICAgICAQICAgICAgICAgMCAwICAgIDAwICAgICAgICAwICAwICAgICBAIDAgICAgICAgICBAICAgMDAgICAgICAwICAgICAgICAgICAgICAgIEAgICAgMCAwICAgIDAwICAwICAgICAgIDAgMCAgMCAgICAgICAgIDAgICAgICAgICAgICAgICAwECAwQCAgICAwICAgICAgMCAgMCAgIDAgMCAgICAgIDAgICAgMCAgICAgICAgICAgICAgICAgICAgQCAgIDAgQCAwQDAgICAgICAgICAgICAgICAgMCAgICAgICAgICAgICAgICAgICAQICAwICAgICAgQCAgIDAgICAgICAgICAgICAwIDAgICAgICAgICAgICAgIDAgICAgICAgICAgICAgMCAgIDBAMCAwECAgICAwICAgICAgICAgICAgIDAgIDAgICAgIDAgMCAgICAgICAgIDAgICAgIDAwICAgIBAgICAgICAgICAgICAgICAgICAgMCBAICAwICAgICAgICAgICAgMCAgMCAgICAgICAgICAgICAgMCAgICAwICAgICAgIDAgICAwICBAICAwICAgICAgIBAgICAgICAgICAgIEAgICAgICAgMCAgICAgICAgIDAgICAgICAgICAgICAgICAgICAgICAgICAgICAgICAgIEAwMCAgICAwICAgICAgICAgMCAgMEAgQCAwIDAgICAgICAwIDAgICAgICAwICAgIDAgMEAgICAgICAgMCAgICAgICAgMDAgICAgICAgICAwIDAgICAgICAgICAwICBAICAgICAgICAgICAgICAgICAgMCAgICAgIDAgMCAgMCAgICBAICAgICAgICAgICAgICAgICAwIDAgMDAgICAgMCAgICAgIDAwICAgMCAgICAgICAgICAgMCAwQDAgIDBAICAgIDAgIEAgICAwMDAgIDAgIBAwIDAgMDAgICAgICAgICAgICAwICAgICAgICAgIDAgICAgMDAwIDAwIDAgICAgICAgICAgICAgICAgICAgMCAwICAgMCAgMCAgICAgICAwICAgICAgICAgMCAgICAgICAgICAgICAgICAgICAgIDBAICAgICAgICAgICAgIDAgICAwMCAgIBAgMCBAICAgICBAMCAgMCAwICAgIDAgICAwICAgQCAgIDAgICAgICAgICAgMDAgMCAwICAgICAgICAgIDAgMCAgICAgICAgICAgMCAgICAwIDAgICAgICAwMCAgICAQICAwICAgICAgMCAwICAgECAgICAwIDAgMDAgMDAwIEAQICAQMCAwICAgICAgICAgICAgICAgIDAgICAgICAgICAgICAgMDAgMCAwICAgICBAICAwICAgICAgICAgIDAgICAgICAgICAgICAgICAgMCAwIDAgMEAgICAwIDAwICAgICAgICBAICAgMCAgMCAgICAgICAwICAgICAgICAgICAgICAgICAgIDAgMCAgMDAwMCAgMCAgICAwICAgICAgMCAgMCAgICAgICAgQEAgICAgMBAgICAgICAwICAwICAgICAgICAgIBAgMCAgMCAwIDAgICBAICAwQCAgMCAgICAgIDAgICAgICAgICAgIDAwICAgICAgMCAwICAgIDAgICAwIDAwICAgICAgMCAgICAgICAwICAwIDAgMDAgICAgIDAwICAwICAgICAgMCAgICAgMCAgQCAgICAgICAgMCAgMDAgICAgIDAgIDAgICAwMCAwICAgICAwICAgIDAgICAgICAgICAgICAgICAgICAgICAgICAgMCAgICAwIEAgIEAwICAgIEAgIDAgICAgQCAgIDAgICAgIDAgICAgICAgIDAwQCAQICAgICAgICAgIDAgICAgICAgMCAgICAgIDAgICAgICAgICAgICAgMDAgICAgICAgICAgICAgICAgMCAgICAgMDAgICAwIDAgICAgICAgICAgIDAgICAgICAgICAwIDAgIDAwICAwICAgICAgQCAgICAgIDBAICBAMCAgICAgIDAgMCAgICAgICAgICAgIDAwICAgICAgIEAgICAwICAgICAgICAgMCAgICAgICAwICAwIDAwICAgIDAgECAgMCAwICAQICAgICAgICAgICAgMCAgIEAwMCAgIDAgICAgICAgICAwIDAgICAgICAgIDAgICAgICAwIEAgICAgICBAICAgICAwIDAgICAgICAgICAgICAgICAgICAgEDAgIDAgICAgICAgICAgICAgICAgICAgICAwICAwIDAgICAgICAgICAgICAwIDAgICAgIDAgICAwICAgIDAgICAgICAgICAgICAgICAgICAgIDAgICAgICAgICAwICAgICAgQCAgICAwMCAgIDAgICAgICAwICAwICAwICAgIEAgMCAgICAgICAgICAgIDBAICAgICAgICAgICAwICAgICAgICAgICAgICAwICAgICAgICAgICAgICAgIEAgICAgICAgICAgICAgIDAwICAgICAgICAwICAgQCAwICAgICAgIDAgICAwICAwIDAgICAgICAgICAgMCAgMCAgICAgICAgICAgMDAgIDAgIDAgIDAgMCAgICAgIEAgICAgMCAgICAgMCAgICAgICAgICAgICAgICAgMEAwICAwICAgICAgICAgICAgICAgICAgMCAgICAgMCAwMCAgICAgICAgICAgIDAgICAgICAgICAgICAgIDAgICAgICAgMCAgICAgMCAgMCAgIDAgICAgMCAgIDAwICAwIDAgICAwICAgICAgMCAgIDAwIDBAICAgICAgICAgIEAgECAgICAgICAgICAgICAgICAwMDAgICAwICAgMCAwICAgICAgICAgICAgICAgICAgICAgIDAgICAgICAgMEAgICAgICAgECAgICAwQCAgICAgICAgMCAwICAgICAgICAgIDAgICAwICAwIDAgIEAgICAgICAgIDAgICAgIEAgICAwECAgQCBAICAwICAgICAgQCBAICAgICAwICAgICAgIDAwICAgMCAgICAgIDAgICAwICAgICAgICAwIDAgMDAgIEAgIDAgICAgQDAgECAgICAgMCAwIEAgICAgICAgICAgQCAgICAgICAQICBAICAwIDBAICAwICAgICAgICBAICAgIDAgIDAgICAgEDAwICAgICAgICAgQDAgICAgICAgICAwMCAgMCAgICAwICAgICAgICAgICAgQCAwICAgICAwMCAgIEAgICAgICAgIDAgICAgICAgIDAgMCAQICBAIEAgICAgICAwICAgIDAgIDAgICAgIC",
           "dtype": "i1"
          },
          "coloraxis": "coloraxis"
         },
         "mode": "markers",
         "name": "",
         "showlegend": false,
         "subplot": "mapbox",
         "type": "scattermapbox"
        }
       ],
       "layout": {
        "coloraxis": {
         "colorbar": {
          "title": {
           "text": "Severity"
          }
         },
         "colorscale": [
          [
           0,
           "rgb(255,245,240)"
          ],
          [
           0.125,
           "rgb(254,224,210)"
          ],
          [
           0.25,
           "rgb(252,187,161)"
          ],
          [
           0.375,
           "rgb(252,146,114)"
          ],
          [
           0.5,
           "rgb(251,106,74)"
          ],
          [
           0.625,
           "rgb(239,59,44)"
          ],
          [
           0.75,
           "rgb(203,24,29)"
          ],
          [
           0.875,
           "rgb(165,15,21)"
          ],
          [
           1,
           "rgb(103,0,13)"
          ]
         ]
        },
        "height": 500,
        "legend": {
         "tracegroupgap": 0
        },
        "mapbox": {
         "center": {
          "lat": 36.27391110335693,
          "lon": -94.39176099850256
         },
         "domain": {
          "x": [
           0,
           1
          ],
          "y": [
           0,
           1
          ]
         },
         "style": "open-street-map",
         "zoom": 3
        },
        "margin": {
         "b": 0,
         "l": 0,
         "r": 0,
         "t": 30
        },
        "template": {
         "data": {
          "bar": [
           {
            "error_x": {
             "color": "#2a3f5f"
            },
            "error_y": {
             "color": "#2a3f5f"
            },
            "marker": {
             "line": {
              "color": "#E5ECF6",
              "width": 0.5
             },
             "pattern": {
              "fillmode": "overlay",
              "size": 10,
              "solidity": 0.2
             }
            },
            "type": "bar"
           }
          ],
          "barpolar": [
           {
            "marker": {
             "line": {
              "color": "#E5ECF6",
              "width": 0.5
             },
             "pattern": {
              "fillmode": "overlay",
              "size": 10,
              "solidity": 0.2
             }
            },
            "type": "barpolar"
           }
          ],
          "carpet": [
           {
            "aaxis": {
             "endlinecolor": "#2a3f5f",
             "gridcolor": "white",
             "linecolor": "white",
             "minorgridcolor": "white",
             "startlinecolor": "#2a3f5f"
            },
            "baxis": {
             "endlinecolor": "#2a3f5f",
             "gridcolor": "white",
             "linecolor": "white",
             "minorgridcolor": "white",
             "startlinecolor": "#2a3f5f"
            },
            "type": "carpet"
           }
          ],
          "choropleth": [
           {
            "colorbar": {
             "outlinewidth": 0,
             "ticks": ""
            },
            "type": "choropleth"
           }
          ],
          "contour": [
           {
            "colorbar": {
             "outlinewidth": 0,
             "ticks": ""
            },
            "colorscale": [
             [
              0,
              "#0d0887"
             ],
             [
              0.1111111111111111,
              "#46039f"
             ],
             [
              0.2222222222222222,
              "#7201a8"
             ],
             [
              0.3333333333333333,
              "#9c179e"
             ],
             [
              0.4444444444444444,
              "#bd3786"
             ],
             [
              0.5555555555555556,
              "#d8576b"
             ],
             [
              0.6666666666666666,
              "#ed7953"
             ],
             [
              0.7777777777777778,
              "#fb9f3a"
             ],
             [
              0.8888888888888888,
              "#fdca26"
             ],
             [
              1,
              "#f0f921"
             ]
            ],
            "type": "contour"
           }
          ],
          "contourcarpet": [
           {
            "colorbar": {
             "outlinewidth": 0,
             "ticks": ""
            },
            "type": "contourcarpet"
           }
          ],
          "heatmap": [
           {
            "colorbar": {
             "outlinewidth": 0,
             "ticks": ""
            },
            "colorscale": [
             [
              0,
              "#0d0887"
             ],
             [
              0.1111111111111111,
              "#46039f"
             ],
             [
              0.2222222222222222,
              "#7201a8"
             ],
             [
              0.3333333333333333,
              "#9c179e"
             ],
             [
              0.4444444444444444,
              "#bd3786"
             ],
             [
              0.5555555555555556,
              "#d8576b"
             ],
             [
              0.6666666666666666,
              "#ed7953"
             ],
             [
              0.7777777777777778,
              "#fb9f3a"
             ],
             [
              0.8888888888888888,
              "#fdca26"
             ],
             [
              1,
              "#f0f921"
             ]
            ],
            "type": "heatmap"
           }
          ],
          "histogram": [
           {
            "marker": {
             "pattern": {
              "fillmode": "overlay",
              "size": 10,
              "solidity": 0.2
             }
            },
            "type": "histogram"
           }
          ],
          "histogram2d": [
           {
            "colorbar": {
             "outlinewidth": 0,
             "ticks": ""
            },
            "colorscale": [
             [
              0,
              "#0d0887"
             ],
             [
              0.1111111111111111,
              "#46039f"
             ],
             [
              0.2222222222222222,
              "#7201a8"
             ],
             [
              0.3333333333333333,
              "#9c179e"
             ],
             [
              0.4444444444444444,
              "#bd3786"
             ],
             [
              0.5555555555555556,
              "#d8576b"
             ],
             [
              0.6666666666666666,
              "#ed7953"
             ],
             [
              0.7777777777777778,
              "#fb9f3a"
             ],
             [
              0.8888888888888888,
              "#fdca26"
             ],
             [
              1,
              "#f0f921"
             ]
            ],
            "type": "histogram2d"
           }
          ],
          "histogram2dcontour": [
           {
            "colorbar": {
             "outlinewidth": 0,
             "ticks": ""
            },
            "colorscale": [
             [
              0,
              "#0d0887"
             ],
             [
              0.1111111111111111,
              "#46039f"
             ],
             [
              0.2222222222222222,
              "#7201a8"
             ],
             [
              0.3333333333333333,
              "#9c179e"
             ],
             [
              0.4444444444444444,
              "#bd3786"
             ],
             [
              0.5555555555555556,
              "#d8576b"
             ],
             [
              0.6666666666666666,
              "#ed7953"
             ],
             [
              0.7777777777777778,
              "#fb9f3a"
             ],
             [
              0.8888888888888888,
              "#fdca26"
             ],
             [
              1,
              "#f0f921"
             ]
            ],
            "type": "histogram2dcontour"
           }
          ],
          "mesh3d": [
           {
            "colorbar": {
             "outlinewidth": 0,
             "ticks": ""
            },
            "type": "mesh3d"
           }
          ],
          "parcoords": [
           {
            "line": {
             "colorbar": {
              "outlinewidth": 0,
              "ticks": ""
             }
            },
            "type": "parcoords"
           }
          ],
          "pie": [
           {
            "automargin": true,
            "type": "pie"
           }
          ],
          "scatter": [
           {
            "fillpattern": {
             "fillmode": "overlay",
             "size": 10,
             "solidity": 0.2
            },
            "type": "scatter"
           }
          ],
          "scatter3d": [
           {
            "line": {
             "colorbar": {
              "outlinewidth": 0,
              "ticks": ""
             }
            },
            "marker": {
             "colorbar": {
              "outlinewidth": 0,
              "ticks": ""
             }
            },
            "type": "scatter3d"
           }
          ],
          "scattercarpet": [
           {
            "marker": {
             "colorbar": {
              "outlinewidth": 0,
              "ticks": ""
             }
            },
            "type": "scattercarpet"
           }
          ],
          "scattergeo": [
           {
            "marker": {
             "colorbar": {
              "outlinewidth": 0,
              "ticks": ""
             }
            },
            "type": "scattergeo"
           }
          ],
          "scattergl": [
           {
            "marker": {
             "colorbar": {
              "outlinewidth": 0,
              "ticks": ""
             }
            },
            "type": "scattergl"
           }
          ],
          "scattermap": [
           {
            "marker": {
             "colorbar": {
              "outlinewidth": 0,
              "ticks": ""
             }
            },
            "type": "scattermap"
           }
          ],
          "scattermapbox": [
           {
            "marker": {
             "colorbar": {
              "outlinewidth": 0,
              "ticks": ""
             }
            },
            "type": "scattermapbox"
           }
          ],
          "scatterpolar": [
           {
            "marker": {
             "colorbar": {
              "outlinewidth": 0,
              "ticks": ""
             }
            },
            "type": "scatterpolar"
           }
          ],
          "scatterpolargl": [
           {
            "marker": {
             "colorbar": {
              "outlinewidth": 0,
              "ticks": ""
             }
            },
            "type": "scatterpolargl"
           }
          ],
          "scatterternary": [
           {
            "marker": {
             "colorbar": {
              "outlinewidth": 0,
              "ticks": ""
             }
            },
            "type": "scatterternary"
           }
          ],
          "surface": [
           {
            "colorbar": {
             "outlinewidth": 0,
             "ticks": ""
            },
            "colorscale": [
             [
              0,
              "#0d0887"
             ],
             [
              0.1111111111111111,
              "#46039f"
             ],
             [
              0.2222222222222222,
              "#7201a8"
             ],
             [
              0.3333333333333333,
              "#9c179e"
             ],
             [
              0.4444444444444444,
              "#bd3786"
             ],
             [
              0.5555555555555556,
              "#d8576b"
             ],
             [
              0.6666666666666666,
              "#ed7953"
             ],
             [
              0.7777777777777778,
              "#fb9f3a"
             ],
             [
              0.8888888888888888,
              "#fdca26"
             ],
             [
              1,
              "#f0f921"
             ]
            ],
            "type": "surface"
           }
          ],
          "table": [
           {
            "cells": {
             "fill": {
              "color": "#EBF0F8"
             },
             "line": {
              "color": "white"
             }
            },
            "header": {
             "fill": {
              "color": "#C8D4E3"
             },
             "line": {
              "color": "white"
             }
            },
            "type": "table"
           }
          ]
         },
         "layout": {
          "annotationdefaults": {
           "arrowcolor": "#2a3f5f",
           "arrowhead": 0,
           "arrowwidth": 1
          },
          "autotypenumbers": "strict",
          "coloraxis": {
           "colorbar": {
            "outlinewidth": 0,
            "ticks": ""
           }
          },
          "colorscale": {
           "diverging": [
            [
             0,
             "#8e0152"
            ],
            [
             0.1,
             "#c51b7d"
            ],
            [
             0.2,
             "#de77ae"
            ],
            [
             0.3,
             "#f1b6da"
            ],
            [
             0.4,
             "#fde0ef"
            ],
            [
             0.5,
             "#f7f7f7"
            ],
            [
             0.6,
             "#e6f5d0"
            ],
            [
             0.7,
             "#b8e186"
            ],
            [
             0.8,
             "#7fbc41"
            ],
            [
             0.9,
             "#4d9221"
            ],
            [
             1,
             "#276419"
            ]
           ],
           "sequential": [
            [
             0,
             "#0d0887"
            ],
            [
             0.1111111111111111,
             "#46039f"
            ],
            [
             0.2222222222222222,
             "#7201a8"
            ],
            [
             0.3333333333333333,
             "#9c179e"
            ],
            [
             0.4444444444444444,
             "#bd3786"
            ],
            [
             0.5555555555555556,
             "#d8576b"
            ],
            [
             0.6666666666666666,
             "#ed7953"
            ],
            [
             0.7777777777777778,
             "#fb9f3a"
            ],
            [
             0.8888888888888888,
             "#fdca26"
            ],
            [
             1,
             "#f0f921"
            ]
           ],
           "sequentialminus": [
            [
             0,
             "#0d0887"
            ],
            [
             0.1111111111111111,
             "#46039f"
            ],
            [
             0.2222222222222222,
             "#7201a8"
            ],
            [
             0.3333333333333333,
             "#9c179e"
            ],
            [
             0.4444444444444444,
             "#bd3786"
            ],
            [
             0.5555555555555556,
             "#d8576b"
            ],
            [
             0.6666666666666666,
             "#ed7953"
            ],
            [
             0.7777777777777778,
             "#fb9f3a"
            ],
            [
             0.8888888888888888,
             "#fdca26"
            ],
            [
             1,
             "#f0f921"
            ]
           ]
          },
          "colorway": [
           "#636efa",
           "#EF553B",
           "#00cc96",
           "#ab63fa",
           "#FFA15A",
           "#19d3f3",
           "#FF6692",
           "#B6E880",
           "#FF97FF",
           "#FECB52"
          ],
          "font": {
           "color": "#2a3f5f"
          },
          "geo": {
           "bgcolor": "white",
           "lakecolor": "white",
           "landcolor": "#E5ECF6",
           "showlakes": true,
           "showland": true,
           "subunitcolor": "white"
          },
          "hoverlabel": {
           "align": "left"
          },
          "hovermode": "closest",
          "mapbox": {
           "style": "light"
          },
          "paper_bgcolor": "white",
          "plot_bgcolor": "#E5ECF6",
          "polar": {
           "angularaxis": {
            "gridcolor": "white",
            "linecolor": "white",
            "ticks": ""
           },
           "bgcolor": "#E5ECF6",
           "radialaxis": {
            "gridcolor": "white",
            "linecolor": "white",
            "ticks": ""
           }
          },
          "scene": {
           "xaxis": {
            "backgroundcolor": "#E5ECF6",
            "gridcolor": "white",
            "gridwidth": 2,
            "linecolor": "white",
            "showbackground": true,
            "ticks": "",
            "zerolinecolor": "white"
           },
           "yaxis": {
            "backgroundcolor": "#E5ECF6",
            "gridcolor": "white",
            "gridwidth": 2,
            "linecolor": "white",
            "showbackground": true,
            "ticks": "",
            "zerolinecolor": "white"
           },
           "zaxis": {
            "backgroundcolor": "#E5ECF6",
            "gridcolor": "white",
            "gridwidth": 2,
            "linecolor": "white",
            "showbackground": true,
            "ticks": "",
            "zerolinecolor": "white"
           }
          },
          "shapedefaults": {
           "line": {
            "color": "#2a3f5f"
           }
          },
          "ternary": {
           "aaxis": {
            "gridcolor": "white",
            "linecolor": "white",
            "ticks": ""
           },
           "baxis": {
            "gridcolor": "white",
            "linecolor": "white",
            "ticks": ""
           },
           "bgcolor": "#E5ECF6",
           "caxis": {
            "gridcolor": "white",
            "linecolor": "white",
            "ticks": ""
           }
          },
          "title": {
           "x": 0.05
          },
          "xaxis": {
           "automargin": true,
           "gridcolor": "white",
           "linecolor": "white",
           "ticks": "",
           "title": {
            "standoff": 15
           },
           "zerolinecolor": "white",
           "zerolinewidth": 2
          },
          "yaxis": {
           "automargin": true,
           "gridcolor": "white",
           "linecolor": "white",
           "ticks": "",
           "title": {
            "standoff": 15
           },
           "zerolinecolor": "white",
           "zerolinewidth": 2
          }
         }
        },
        "title": {
         "text": "Accident Hotspots in USA"
        }
       }
      }
     },
     "metadata": {},
     "output_type": "display_data"
    }
   ],
   "source": [
    "fig = px.scatter_mapbox(df.sample(3000), \n",
    "                        lat=\"Start_Lat\", \n",
    "                        lon=\"Start_Lng\", \n",
    "                        color=\"Severity\", \n",
    "                        hover_data=[\"City\", \"State\", \"Weather_Condition\"],\n",
    "                        color_continuous_scale=\"reds\", \n",
    "                        zoom=3, height=500)\n",
    "\n",
    "fig.update_layout(mapbox_style=\"open-street-map\")\n",
    "fig.update_layout(title=\"Accident Hotspots in USA\", margin={\"r\":0,\"t\":30,\"l\":0,\"b\":0})\n",
    "fig.show()"
   ]
  }
 ],
 "metadata": {
  "kernelspec": {
   "display_name": "Python 3",
   "language": "python",
   "name": "python3"
  },
  "language_info": {
   "codemirror_mode": {
    "name": "ipython",
    "version": 3
   },
   "file_extension": ".py",
   "mimetype": "text/x-python",
   "name": "python",
   "nbconvert_exporter": "python",
   "pygments_lexer": "ipython3",
   "version": "3.13.1"
  }
 },
 "nbformat": 4,
 "nbformat_minor": 5
}
